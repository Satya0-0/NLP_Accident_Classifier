{
  "cells": [
    {
      "cell_type": "markdown",
      "source": [
        "# NLP Project - Accidents Classification"
      ],
      "metadata": {
        "id": "yVbR0zaqxpcp"
      }
    },
    {
      "cell_type": "code",
      "execution_count": null,
      "metadata": {
        "_cell_guid": "b1076dfc-b9ad-4769-8c92-a6c4dae69d19",
        "_uuid": "8f2839f25d086af736a60e9eeb907d3b93b6e0e5",
        "execution": {
          "iopub.execute_input": "2025-03-08T10:17:36.971558Z",
          "iopub.status.busy": "2025-03-08T10:17:36.971145Z",
          "iopub.status.idle": "2025-03-08T10:17:37.376175Z",
          "shell.execute_reply": "2025-03-08T10:17:37.374977Z",
          "shell.execute_reply.started": "2025-03-08T10:17:36.971521Z"
        },
        "id": "wodyZNJjvzA7"
      },
      "outputs": [],
      "source": [
        "import numpy as np\n",
        "import pandas as pd"
      ]
    },
    {
      "cell_type": "markdown",
      "metadata": {
        "id": "XqwT_I2svzA9"
      },
      "source": [
        "## Importing Data"
      ]
    },
    {
      "cell_type": "code",
      "execution_count": null,
      "metadata": {
        "execution": {
          "iopub.execute_input": "2025-03-08T10:17:37.630520Z",
          "iopub.status.busy": "2025-03-08T10:17:37.630006Z",
          "iopub.status.idle": "2025-03-08T10:17:38.397814Z",
          "shell.execute_reply": "2025-03-08T10:17:38.396695Z",
          "shell.execute_reply.started": "2025-03-08T10:17:37.630486Z"
        },
        "id": "z7Ir70zzvzA-"
      },
      "outputs": [],
      "source": [
        "data = pd.read_excel('/kaggle/input/accident-descritpions/Data Set - Industrial Safety and Health Database with Accidents Description.xlsx')"
      ]
    },
    {
      "cell_type": "code",
      "execution_count": null,
      "metadata": {
        "execution": {
          "iopub.execute_input": "2025-03-08T10:17:38.399723Z",
          "iopub.status.busy": "2025-03-08T10:17:38.399120Z",
          "iopub.status.idle": "2025-03-08T10:17:38.434660Z",
          "shell.execute_reply": "2025-03-08T10:17:38.433558Z",
          "shell.execute_reply.started": "2025-03-08T10:17:38.399678Z"
        },
        "id": "B-dpmFrmvzA_",
        "outputId": "32c98f01-8274-4570-a560-04af9d604d24"
      },
      "outputs": [
        {
          "data": {
            "text/html": [
              "<div>\n",
              "<style scoped>\n",
              "    .dataframe tbody tr th:only-of-type {\n",
              "        vertical-align: middle;\n",
              "    }\n",
              "\n",
              "    .dataframe tbody tr th {\n",
              "        vertical-align: top;\n",
              "    }\n",
              "\n",
              "    .dataframe thead th {\n",
              "        text-align: right;\n",
              "    }\n",
              "</style>\n",
              "<table border=\"1\" class=\"dataframe\">\n",
              "  <thead>\n",
              "    <tr style=\"text-align: right;\">\n",
              "      <th></th>\n",
              "      <th>Unnamed: 0</th>\n",
              "      <th>Data</th>\n",
              "      <th>Countries</th>\n",
              "      <th>Local</th>\n",
              "      <th>Industry Sector</th>\n",
              "      <th>Accident Level</th>\n",
              "      <th>Potential Accident Level</th>\n",
              "      <th>Genre</th>\n",
              "      <th>Employee or Third Party</th>\n",
              "      <th>Critical Risk</th>\n",
              "      <th>Description</th>\n",
              "    </tr>\n",
              "  </thead>\n",
              "  <tbody>\n",
              "    <tr>\n",
              "      <th>0</th>\n",
              "      <td>0</td>\n",
              "      <td>2016-01-01</td>\n",
              "      <td>Country_01</td>\n",
              "      <td>Local_01</td>\n",
              "      <td>Mining</td>\n",
              "      <td>I</td>\n",
              "      <td>IV</td>\n",
              "      <td>Male</td>\n",
              "      <td>Third Party</td>\n",
              "      <td>Pressed</td>\n",
              "      <td>While removing the drill rod of the Jumbo 08 f...</td>\n",
              "    </tr>\n",
              "    <tr>\n",
              "      <th>1</th>\n",
              "      <td>1</td>\n",
              "      <td>2016-01-02</td>\n",
              "      <td>Country_02</td>\n",
              "      <td>Local_02</td>\n",
              "      <td>Mining</td>\n",
              "      <td>I</td>\n",
              "      <td>IV</td>\n",
              "      <td>Male</td>\n",
              "      <td>Employee</td>\n",
              "      <td>Pressurized Systems</td>\n",
              "      <td>During the activation of a sodium sulphide pum...</td>\n",
              "    </tr>\n",
              "    <tr>\n",
              "      <th>2</th>\n",
              "      <td>2</td>\n",
              "      <td>2016-01-06</td>\n",
              "      <td>Country_01</td>\n",
              "      <td>Local_03</td>\n",
              "      <td>Mining</td>\n",
              "      <td>I</td>\n",
              "      <td>III</td>\n",
              "      <td>Male</td>\n",
              "      <td>Third Party (Remote)</td>\n",
              "      <td>Manual Tools</td>\n",
              "      <td>In the sub-station MILPO located at level +170...</td>\n",
              "    </tr>\n",
              "    <tr>\n",
              "      <th>3</th>\n",
              "      <td>3</td>\n",
              "      <td>2016-01-08</td>\n",
              "      <td>Country_01</td>\n",
              "      <td>Local_04</td>\n",
              "      <td>Mining</td>\n",
              "      <td>I</td>\n",
              "      <td>I</td>\n",
              "      <td>Male</td>\n",
              "      <td>Third Party</td>\n",
              "      <td>Others</td>\n",
              "      <td>Being 9:45 am. approximately in the Nv. 1880 C...</td>\n",
              "    </tr>\n",
              "    <tr>\n",
              "      <th>4</th>\n",
              "      <td>4</td>\n",
              "      <td>2016-01-10</td>\n",
              "      <td>Country_01</td>\n",
              "      <td>Local_04</td>\n",
              "      <td>Mining</td>\n",
              "      <td>IV</td>\n",
              "      <td>IV</td>\n",
              "      <td>Male</td>\n",
              "      <td>Third Party</td>\n",
              "      <td>Others</td>\n",
              "      <td>Approximately at 11:45 a.m. in circumstances t...</td>\n",
              "    </tr>\n",
              "  </tbody>\n",
              "</table>\n",
              "</div>"
            ],
            "text/plain": [
              "   Unnamed: 0       Data   Countries     Local Industry Sector Accident Level  \\\n",
              "0           0 2016-01-01  Country_01  Local_01          Mining              I   \n",
              "1           1 2016-01-02  Country_02  Local_02          Mining              I   \n",
              "2           2 2016-01-06  Country_01  Local_03          Mining              I   \n",
              "3           3 2016-01-08  Country_01  Local_04          Mining              I   \n",
              "4           4 2016-01-10  Country_01  Local_04          Mining             IV   \n",
              "\n",
              "  Potential Accident Level Genre Employee or Third Party        Critical Risk  \\\n",
              "0                       IV  Male             Third Party              Pressed   \n",
              "1                       IV  Male                Employee  Pressurized Systems   \n",
              "2                      III  Male    Third Party (Remote)         Manual Tools   \n",
              "3                        I  Male             Third Party               Others   \n",
              "4                       IV  Male             Third Party               Others   \n",
              "\n",
              "                                         Description  \n",
              "0  While removing the drill rod of the Jumbo 08 f...  \n",
              "1  During the activation of a sodium sulphide pum...  \n",
              "2  In the sub-station MILPO located at level +170...  \n",
              "3  Being 9:45 am. approximately in the Nv. 1880 C...  \n",
              "4  Approximately at 11:45 a.m. in circumstances t...  "
            ]
          },
          "execution_count": 3,
          "metadata": {},
          "output_type": "execute_result"
        }
      ],
      "source": [
        "data.head()"
      ]
    },
    {
      "cell_type": "code",
      "execution_count": null,
      "metadata": {
        "execution": {
          "iopub.execute_input": "2025-03-08T10:17:38.436923Z",
          "iopub.status.busy": "2025-03-08T10:17:38.436620Z",
          "iopub.status.idle": "2025-03-08T10:17:38.442766Z",
          "shell.execute_reply": "2025-03-08T10:17:38.441792Z",
          "shell.execute_reply.started": "2025-03-08T10:17:38.436896Z"
        },
        "id": "u5kSMaoXvzBB",
        "outputId": "77cb973a-a52f-4cc8-cfd1-f0f1b39777d6"
      },
      "outputs": [
        {
          "data": {
            "text/plain": [
              "(425, 11)"
            ]
          },
          "execution_count": 4,
          "metadata": {},
          "output_type": "execute_result"
        }
      ],
      "source": [
        "data.shape"
      ]
    },
    {
      "cell_type": "markdown",
      "metadata": {
        "id": "Bw82YsfMvzBC"
      },
      "source": [
        "## EDA"
      ]
    },
    {
      "cell_type": "code",
      "execution_count": null,
      "metadata": {
        "execution": {
          "iopub.execute_input": "2025-03-08T10:17:38.445052Z",
          "iopub.status.busy": "2025-03-08T10:17:38.444536Z",
          "iopub.status.idle": "2025-03-08T10:17:38.469815Z",
          "shell.execute_reply": "2025-03-08T10:17:38.468567Z",
          "shell.execute_reply.started": "2025-03-08T10:17:38.445015Z"
        },
        "id": "9dQ4sohbvzBC",
        "outputId": "8484c641-90d2-4b79-c316-627d21617e76"
      },
      "outputs": [
        {
          "data": {
            "text/plain": [
              "Unnamed: 0                  0\n",
              "Data                        0\n",
              "Countries                   0\n",
              "Local                       0\n",
              "Industry Sector             0\n",
              "Accident Level              0\n",
              "Potential Accident Level    0\n",
              "Genre                       0\n",
              "Employee or Third Party     0\n",
              "Critical Risk               0\n",
              "Description                 0\n",
              "dtype: int64"
            ]
          },
          "execution_count": 5,
          "metadata": {},
          "output_type": "execute_result"
        }
      ],
      "source": [
        "# Missing Values\n",
        "\n",
        "data.isnull().sum()"
      ]
    },
    {
      "cell_type": "code",
      "execution_count": null,
      "metadata": {
        "execution": {
          "iopub.execute_input": "2025-03-08T10:17:38.471158Z",
          "iopub.status.busy": "2025-03-08T10:17:38.470765Z",
          "iopub.status.idle": "2025-03-08T10:17:38.500354Z",
          "shell.execute_reply": "2025-03-08T10:17:38.499321Z",
          "shell.execute_reply.started": "2025-03-08T10:17:38.471128Z"
        },
        "id": "boxQp6CpvzBD",
        "outputId": "ecbef901-563a-44a8-c8c5-3916b1ea3461"
      },
      "outputs": [
        {
          "data": {
            "text/plain": [
              "0"
            ]
          },
          "execution_count": 6,
          "metadata": {},
          "output_type": "execute_result"
        }
      ],
      "source": [
        "# Duplicates\n",
        "\n",
        "data.duplicated().sum()"
      ]
    },
    {
      "cell_type": "code",
      "execution_count": null,
      "metadata": {
        "execution": {
          "iopub.execute_input": "2025-03-08T10:17:38.501835Z",
          "iopub.status.busy": "2025-03-08T10:17:38.501459Z",
          "iopub.status.idle": "2025-03-08T10:17:39.866491Z",
          "shell.execute_reply": "2025-03-08T10:17:39.865282Z",
          "shell.execute_reply.started": "2025-03-08T10:17:38.501797Z"
        },
        "id": "ghn22iONvzBD",
        "outputId": "4914d38b-a34b-497b-d9da-6f06ce86b966"
      },
      "outputs": [
        {
          "data": {
            "image/png": "[encoded data removed]",
            "text/plain": [
              "<Figure size 800x600 with 1 Axes>"
            ]
          },
          "metadata": {},
          "output_type": "display_data"
        }
      ],
      "source": [
        "# Count plots for Localities, Countries invovled\n",
        "\n",
        "import seaborn as sns\n",
        "import matplotlib.pyplot as plt\n",
        "\n",
        "\n",
        "plt.figure(figsize=(8, 6))\n",
        "sns.countplot(data = data, x = 'Local', hue = 'Countries', palette='gist_stern')\n",
        "plt.xticks(rotation=45)\n",
        "plt.show()"
      ]
    },
    {
      "cell_type": "code",
      "execution_count": null,
      "metadata": {
        "execution": {
          "iopub.execute_input": "2025-03-08T10:17:39.868149Z",
          "iopub.status.busy": "2025-03-08T10:17:39.867611Z",
          "iopub.status.idle": "2025-03-08T10:17:40.113313Z",
          "shell.execute_reply": "2025-03-08T10:17:40.112140Z",
          "shell.execute_reply.started": "2025-03-08T10:17:39.868117Z"
        },
        "id": "budQ-p8jvzBE",
        "outputId": "c1688218-63ea-43b7-8386-1b94975115e6"
      },
      "outputs": [
        {
          "data": {
            "image/png": "[encoded data removed]",
            "text/plain": [
              "<Figure size 800x600 with 1 Axes>"
            ]
          },
          "metadata": {},
          "output_type": "display_data"
        }
      ],
      "source": [
        "# Understanding 'Accident Level' and 'Gender' relation\n",
        "\n",
        "plt.figure(figsize=(8, 6))\n",
        "# sns.countplot(data = data, x = 'Accident Level' , hue = 'Genre')\n",
        "\n",
        "\n",
        "ax = sns.countplot(data=data, x='Accident Level', hue='Genre', palette = 'copper')\n",
        "\n",
        "# Calculating total count\n",
        "\n",
        "total_count = len(data)\n",
        "\n",
        "# Annotating each bar with percentage values\n",
        "\n",
        "for p in ax.patches:\n",
        "    height = p.get_height()\n",
        "    width = p.get_width()\n",
        "    x = p.get_x() + width / 2  # Center annotation on the bar\n",
        "    percentage = f'{100 * height / total_count:.1f}%'  # Calculating percentage\n",
        "    ax.annotate(percentage, (x, height), ha='center', va='bottom', fontsize=12, color='black')\n",
        "\n",
        "plt.show()"
      ]
    },
    {
      "cell_type": "code",
      "execution_count": null,
      "metadata": {
        "execution": {
          "iopub.execute_input": "2025-03-08T10:52:09.972549Z",
          "iopub.status.busy": "2025-03-08T10:52:09.971986Z",
          "iopub.status.idle": "2025-03-08T10:52:09.987724Z",
          "shell.execute_reply": "2025-03-08T10:52:09.986420Z",
          "shell.execute_reply.started": "2025-03-08T10:52:09.972501Z"
        },
        "id": "jqRZ6UqIvzBF"
      },
      "outputs": [],
      "source": [
        "# Understanding Top-3 'Critical Risks' for each 'Potential Accident Level'\n",
        "\n",
        "\n",
        "# Creating a PD DataFrame to capture the top-3 'Critical Risks' for each 'Accident Level'\n",
        "\n",
        "cr_df_vals = data.groupby('Accident Level')['Critical Risk'].value_counts() \\\n",
        "                 .groupby('Accident Level').head(3)\n",
        "cr_df = cr_df_vals.reset_index()"
      ]
    },
    {
      "cell_type": "code",
      "execution_count": null,
      "metadata": {
        "execution": {
          "iopub.execute_input": "2025-03-08T10:52:12.935680Z",
          "iopub.status.busy": "2025-03-08T10:52:12.935257Z",
          "iopub.status.idle": "2025-03-08T10:52:12.946714Z",
          "shell.execute_reply": "2025-03-08T10:52:12.945607Z",
          "shell.execute_reply.started": "2025-03-08T10:52:12.935644Z"
        },
        "id": "R5ukvJt8vzBF",
        "outputId": "1e88b57f-3e98-4093-9462-ccabf25f2750"
      },
      "outputs": [
        {
          "data": {
            "text/html": [
              "<div>\n",
              "<style scoped>\n",
              "    .dataframe tbody tr th:only-of-type {\n",
              "        vertical-align: middle;\n",
              "    }\n",
              "\n",
              "    .dataframe tbody tr th {\n",
              "        vertical-align: top;\n",
              "    }\n",
              "\n",
              "    .dataframe thead th {\n",
              "        text-align: right;\n",
              "    }\n",
              "</style>\n",
              "<table border=\"1\" class=\"dataframe\">\n",
              "  <thead>\n",
              "    <tr style=\"text-align: right;\">\n",
              "      <th></th>\n",
              "      <th>Accident Level</th>\n",
              "      <th>Critical Risk</th>\n",
              "      <th>count</th>\n",
              "    </tr>\n",
              "  </thead>\n",
              "  <tbody>\n",
              "    <tr>\n",
              "      <th>0</th>\n",
              "      <td>I</td>\n",
              "      <td>Others</td>\n",
              "      <td>172</td>\n",
              "    </tr>\n",
              "    <tr>\n",
              "      <th>1</th>\n",
              "      <td>I</td>\n",
              "      <td>Pressed</td>\n",
              "      <td>17</td>\n",
              "    </tr>\n",
              "    <tr>\n",
              "      <th>2</th>\n",
              "      <td>I</td>\n",
              "      <td>Venomous Animals</td>\n",
              "      <td>16</td>\n",
              "    </tr>\n",
              "    <tr>\n",
              "      <th>3</th>\n",
              "      <td>II</td>\n",
              "      <td>Others</td>\n",
              "      <td>21</td>\n",
              "    </tr>\n",
              "    <tr>\n",
              "      <th>4</th>\n",
              "      <td>II</td>\n",
              "      <td>Manual Tools</td>\n",
              "      <td>5</td>\n",
              "    </tr>\n",
              "    <tr>\n",
              "      <th>5</th>\n",
              "      <td>II</td>\n",
              "      <td>Chemical substances</td>\n",
              "      <td>2</td>\n",
              "    </tr>\n",
              "    <tr>\n",
              "      <th>6</th>\n",
              "      <td>III</td>\n",
              "      <td>Others</td>\n",
              "      <td>23</td>\n",
              "    </tr>\n",
              "    <tr>\n",
              "      <th>7</th>\n",
              "      <td>III</td>\n",
              "      <td>Manual Tools</td>\n",
              "      <td>3</td>\n",
              "    </tr>\n",
              "    <tr>\n",
              "      <th>8</th>\n",
              "      <td>III</td>\n",
              "      <td>Pressed</td>\n",
              "      <td>2</td>\n",
              "    </tr>\n",
              "    <tr>\n",
              "      <th>9</th>\n",
              "      <td>IV</td>\n",
              "      <td>Others</td>\n",
              "      <td>13</td>\n",
              "    </tr>\n",
              "    <tr>\n",
              "      <th>10</th>\n",
              "      <td>IV</td>\n",
              "      <td>Pressed</td>\n",
              "      <td>4</td>\n",
              "    </tr>\n",
              "    <tr>\n",
              "      <th>11</th>\n",
              "      <td>IV</td>\n",
              "      <td>Fall</td>\n",
              "      <td>2</td>\n",
              "    </tr>\n",
              "    <tr>\n",
              "      <th>12</th>\n",
              "      <td>V</td>\n",
              "      <td>Others</td>\n",
              "      <td>3</td>\n",
              "    </tr>\n",
              "    <tr>\n",
              "      <th>13</th>\n",
              "      <td>V</td>\n",
              "      <td>Power lock</td>\n",
              "      <td>2</td>\n",
              "    </tr>\n",
              "    <tr>\n",
              "      <th>14</th>\n",
              "      <td>V</td>\n",
              "      <td>Fall</td>\n",
              "      <td>1</td>\n",
              "    </tr>\n",
              "  </tbody>\n",
              "</table>\n",
              "</div>"
            ],
            "text/plain": [
              "   Accident Level        Critical Risk  count\n",
              "0               I               Others    172\n",
              "1               I              Pressed     17\n",
              "2               I     Venomous Animals     16\n",
              "3              II               Others     21\n",
              "4              II         Manual Tools      5\n",
              "5              II  Chemical substances      2\n",
              "6             III               Others     23\n",
              "7             III         Manual Tools      3\n",
              "8             III              Pressed      2\n",
              "9              IV               Others     13\n",
              "10             IV              Pressed      4\n",
              "11             IV                 Fall      2\n",
              "12              V               Others      3\n",
              "13              V           Power lock      2\n",
              "14              V                 Fall      1"
            ]
          },
          "execution_count": 61,
          "metadata": {},
          "output_type": "execute_result"
        }
      ],
      "source": [
        "cr_df"
      ]
    },
    {
      "cell_type": "code",
      "execution_count": null,
      "metadata": {
        "execution": {
          "iopub.execute_input": "2025-03-08T10:52:15.567304Z",
          "iopub.status.busy": "2025-03-08T10:52:15.566859Z",
          "iopub.status.idle": "2025-03-08T10:52:15.904896Z",
          "shell.execute_reply": "2025-03-08T10:52:15.903953Z",
          "shell.execute_reply.started": "2025-03-08T10:52:15.567269Z"
        },
        "id": "RxFKUKGxvzBG",
        "outputId": "01f72beb-2ee7-499d-abc8-0a8c1024ed8a"
      },
      "outputs": [
        {
          "data": {
            "image/png": "[encoded data removed]",
            "text/plain": [
              "<Figure size 900x700 with 1 Axes>"
            ]
          },
          "metadata": {},
          "output_type": "display_data"
        }
      ],
      "source": [
        "# Creating a Barplot for this\n",
        "\n",
        "plt.figure(figsize=(9, 7))\n",
        "sns.barplot(data=cr_df, x= 'Accident Level', y = 'count', hue = 'Critical Risk', palette='gist_stern')\n",
        "plt.legend(title=\"Critical Risk\", loc=\"upper right\", fontsize=8)\n",
        "plt.show()"
      ]
    },
    {
      "cell_type": "code",
      "execution_count": null,
      "metadata": {
        "execution": {
          "iopub.execute_input": "2025-03-08T10:17:40.600129Z",
          "iopub.status.busy": "2025-03-08T10:17:40.599819Z",
          "iopub.status.idle": "2025-03-08T10:17:40.611809Z",
          "shell.execute_reply": "2025-03-08T10:17:40.610548Z",
          "shell.execute_reply.started": "2025-03-08T10:17:40.600101Z"
        },
        "id": "Zi-FRXHcvzBG"
      },
      "outputs": [],
      "source": [
        "# Understanding the number of accidents occured for each Month, Year\n",
        "\n",
        "# 1. Extracting Month-Year from the given data\n",
        "\n",
        "data['Data'] = pd.to_datetime(data['Data'])\n",
        "\n",
        "data['Year-Month'] = data['Data'].dt.strftime('%b-%Y')\n",
        "\n",
        "\n",
        "# 2. Counting number of accidents per month-year\n",
        "cnt_m_y = data['Year-Month'].value_counts().sort_index()"
      ]
    },
    {
      "cell_type": "code",
      "execution_count": null,
      "metadata": {
        "execution": {
          "iopub.execute_input": "2025-03-08T10:56:27.108823Z",
          "iopub.status.busy": "2025-03-08T10:56:27.108398Z",
          "iopub.status.idle": "2025-03-08T10:56:27.119058Z",
          "shell.execute_reply": "2025-03-08T10:56:27.117728Z",
          "shell.execute_reply.started": "2025-03-08T10:56:27.108794Z"
        },
        "id": "ekywGeEuvzBH"
      },
      "outputs": [],
      "source": [
        "# Extracting Month-Year from the given data\n",
        "\n",
        "data['Data'] = pd.to_datetime(data['Data'])\n",
        "data['Year-Month'] = data['Data'].dt.to_period('M')"
      ]
    },
    {
      "cell_type": "code",
      "execution_count": null,
      "metadata": {
        "execution": {
          "iopub.execute_input": "2025-03-08T10:56:31.287471Z",
          "iopub.status.busy": "2025-03-08T10:56:31.287060Z",
          "iopub.status.idle": "2025-03-08T10:56:31.296248Z",
          "shell.execute_reply": "2025-03-08T10:56:31.295101Z",
          "shell.execute_reply.started": "2025-03-08T10:56:31.287408Z"
        },
        "id": "MLK9xo2ZvzBH"
      },
      "outputs": [],
      "source": [
        "# Counting number of accidents per month-year and  converting Period index to string format for plotting\n",
        "\n",
        "cnt_m_y = data['Year-Month'].value_counts().sort_index()\n",
        "\n",
        "cnt_m_y.index = cnt_m_y.index.astype(str)"
      ]
    },
    {
      "cell_type": "code",
      "execution_count": null,
      "metadata": {
        "execution": {
          "iopub.execute_input": "2025-03-08T10:56:57.341734Z",
          "iopub.status.busy": "2025-03-08T10:56:57.341327Z",
          "iopub.status.idle": "2025-03-08T10:56:57.621102Z",
          "shell.execute_reply": "2025-03-08T10:56:57.619939Z",
          "shell.execute_reply.started": "2025-03-08T10:56:57.341701Z"
        },
        "id": "1cTpE3GSvzBH",
        "outputId": "24ed9cd8-6b2d-401d-d8a0-c27dbfb3610f"
      },
      "outputs": [
        {
          "data": {
            "image/png": "[encoded data removed]",
            "text/plain": [
              "<Figure size 800x600 with 1 Axes>"
            ]
          },
          "metadata": {},
          "output_type": "display_data"
        }
      ],
      "source": [
        "#3. Ploting line chart\n",
        "\n",
        "plt.figure(figsize=(8, 6))\n",
        "plt.plot(cnt_m_y.index, cnt_m_y.values, marker='o', linestyle='-')\n",
        "plt.xlabel(\"Month-Year\")\n",
        "plt.ylabel(\"Number of Accidents\")\n",
        "plt.title(\"Accidents Per Month-Year\")\n",
        "plt.xticks(rotation=45)\n",
        "plt.grid(True)\n",
        "plt.show()"
      ]
    },
    {
      "cell_type": "markdown",
      "metadata": {
        "id": "TNuIMQvEvzBI"
      },
      "source": [
        "### EDA Observations\n",
        "\n",
        "1. The accident details are from 11 Localities spanning 3 countries\n",
        "2. Majority of accidents involve \"Males\", contributing to ~ 97% of the acccidents\n",
        "3. For all the accidents, the major critical risk falls under \"Others\" category\n",
        "4. Accidents data spans from Jan-2016 to Jul-2017, a total of 19 months. And there's a steep drop in the total amount of accidents in the last month, i.e., Jul-2017"
      ]
    },
    {
      "cell_type": "code",
      "execution_count": null,
      "metadata": {
        "execution": {
          "iopub.execute_input": "2025-03-08T10:17:41.035318Z",
          "iopub.status.busy": "2025-03-08T10:17:41.035058Z",
          "iopub.status.idle": "2025-03-08T10:17:41.040931Z",
          "shell.execute_reply": "2025-03-08T10:17:41.039745Z",
          "shell.execute_reply.started": "2025-03-08T10:17:41.035296Z"
        },
        "id": "KlKrvHynvzBI"
      },
      "outputs": [],
      "source": [
        "# Dropping the additional \"Year-Month\" column from dataframe\n",
        "\n",
        "data.drop('Year-Month', axis=1, inplace=True)"
      ]
    },
    {
      "cell_type": "markdown",
      "metadata": {
        "id": "pLen-qWwvzBI"
      },
      "source": [
        "## Data Cleaning\n",
        "\n",
        "#### Steps involved:\n",
        "1. Lowercasing\n",
        "2. Handling Contractions\n",
        "3. Handling Misspellings\n",
        "4. Removing Punctuation\n",
        "5. Removing Numbers, and Special Characters"
      ]
    },
    {
      "cell_type": "code",
      "execution_count": null,
      "metadata": {
        "execution": {
          "iopub.execute_input": "2025-03-08T10:17:41.042332Z",
          "iopub.status.busy": "2025-03-08T10:17:41.041803Z",
          "iopub.status.idle": "2025-03-08T10:17:41.064137Z",
          "shell.execute_reply": "2025-03-08T10:17:41.063042Z",
          "shell.execute_reply.started": "2025-03-08T10:17:41.042293Z"
        },
        "id": "vHLVAl8hvzBI"
      },
      "outputs": [],
      "source": [
        "# Creating a additional column for Accident Description storing 'cleaned' data\n",
        "\n",
        "data['clean_des'] = data['Description']"
      ]
    },
    {
      "cell_type": "code",
      "execution_count": null,
      "metadata": {
        "execution": {
          "iopub.execute_input": "2025-03-08T10:17:41.065711Z",
          "iopub.status.busy": "2025-03-08T10:17:41.065322Z",
          "iopub.status.idle": "2025-03-08T10:17:41.097317Z",
          "shell.execute_reply": "2025-03-08T10:17:41.096181Z",
          "shell.execute_reply.started": "2025-03-08T10:17:41.065676Z"
        },
        "id": "658WG_9qvzBJ",
        "outputId": "54829596-96df-41de-df1f-8689f0efd674"
      },
      "outputs": [
        {
          "data": {
            "text/html": [
              "<div>\n",
              "<style scoped>\n",
              "    .dataframe tbody tr th:only-of-type {\n",
              "        vertical-align: middle;\n",
              "    }\n",
              "\n",
              "    .dataframe tbody tr th {\n",
              "        vertical-align: top;\n",
              "    }\n",
              "\n",
              "    .dataframe thead th {\n",
              "        text-align: right;\n",
              "    }\n",
              "</style>\n",
              "<table border=\"1\" class=\"dataframe\">\n",
              "  <thead>\n",
              "    <tr style=\"text-align: right;\">\n",
              "      <th></th>\n",
              "      <th>Unnamed: 0</th>\n",
              "      <th>Data</th>\n",
              "      <th>Countries</th>\n",
              "      <th>Local</th>\n",
              "      <th>Industry Sector</th>\n",
              "      <th>Accident Level</th>\n",
              "      <th>Potential Accident Level</th>\n",
              "      <th>Genre</th>\n",
              "      <th>Employee or Third Party</th>\n",
              "      <th>Critical Risk</th>\n",
              "      <th>Description</th>\n",
              "      <th>clean_des</th>\n",
              "    </tr>\n",
              "  </thead>\n",
              "  <tbody>\n",
              "    <tr>\n",
              "      <th>0</th>\n",
              "      <td>0</td>\n",
              "      <td>2016-01-01</td>\n",
              "      <td>Country_01</td>\n",
              "      <td>Local_01</td>\n",
              "      <td>Mining</td>\n",
              "      <td>I</td>\n",
              "      <td>IV</td>\n",
              "      <td>Male</td>\n",
              "      <td>Third Party</td>\n",
              "      <td>Pressed</td>\n",
              "      <td>While removing the drill rod of the Jumbo 08 f...</td>\n",
              "      <td>while removing the drill rod of the jumbo 08 f...</td>\n",
              "    </tr>\n",
              "    <tr>\n",
              "      <th>1</th>\n",
              "      <td>1</td>\n",
              "      <td>2016-01-02</td>\n",
              "      <td>Country_02</td>\n",
              "      <td>Local_02</td>\n",
              "      <td>Mining</td>\n",
              "      <td>I</td>\n",
              "      <td>IV</td>\n",
              "      <td>Male</td>\n",
              "      <td>Employee</td>\n",
              "      <td>Pressurized Systems</td>\n",
              "      <td>During the activation of a sodium sulphide pum...</td>\n",
              "      <td>during the activation of a sodium sulphide pum...</td>\n",
              "    </tr>\n",
              "    <tr>\n",
              "      <th>2</th>\n",
              "      <td>2</td>\n",
              "      <td>2016-01-06</td>\n",
              "      <td>Country_01</td>\n",
              "      <td>Local_03</td>\n",
              "      <td>Mining</td>\n",
              "      <td>I</td>\n",
              "      <td>III</td>\n",
              "      <td>Male</td>\n",
              "      <td>Third Party (Remote)</td>\n",
              "      <td>Manual Tools</td>\n",
              "      <td>In the sub-station MILPO located at level +170...</td>\n",
              "      <td>in the sub-station milpo located at level +170...</td>\n",
              "    </tr>\n",
              "    <tr>\n",
              "      <th>3</th>\n",
              "      <td>3</td>\n",
              "      <td>2016-01-08</td>\n",
              "      <td>Country_01</td>\n",
              "      <td>Local_04</td>\n",
              "      <td>Mining</td>\n",
              "      <td>I</td>\n",
              "      <td>I</td>\n",
              "      <td>Male</td>\n",
              "      <td>Third Party</td>\n",
              "      <td>Others</td>\n",
              "      <td>Being 9:45 am. approximately in the Nv. 1880 C...</td>\n",
              "      <td>being 9:45 am. approximately in the nv. 1880 c...</td>\n",
              "    </tr>\n",
              "    <tr>\n",
              "      <th>4</th>\n",
              "      <td>4</td>\n",
              "      <td>2016-01-10</td>\n",
              "      <td>Country_01</td>\n",
              "      <td>Local_04</td>\n",
              "      <td>Mining</td>\n",
              "      <td>IV</td>\n",
              "      <td>IV</td>\n",
              "      <td>Male</td>\n",
              "      <td>Third Party</td>\n",
              "      <td>Others</td>\n",
              "      <td>Approximately at 11:45 a.m. in circumstances t...</td>\n",
              "      <td>approximately at 11:45 a.m. in circumstances t...</td>\n",
              "    </tr>\n",
              "  </tbody>\n",
              "</table>\n",
              "</div>"
            ],
            "text/plain": [
              "   Unnamed: 0       Data   Countries     Local Industry Sector Accident Level  \\\n",
              "0           0 2016-01-01  Country_01  Local_01          Mining              I   \n",
              "1           1 2016-01-02  Country_02  Local_02          Mining              I   \n",
              "2           2 2016-01-06  Country_01  Local_03          Mining              I   \n",
              "3           3 2016-01-08  Country_01  Local_04          Mining              I   \n",
              "4           4 2016-01-10  Country_01  Local_04          Mining             IV   \n",
              "\n",
              "  Potential Accident Level Genre Employee or Third Party        Critical Risk  \\\n",
              "0                       IV  Male             Third Party              Pressed   \n",
              "1                       IV  Male                Employee  Pressurized Systems   \n",
              "2                      III  Male    Third Party (Remote)         Manual Tools   \n",
              "3                        I  Male             Third Party               Others   \n",
              "4                       IV  Male             Third Party               Others   \n",
              "\n",
              "                                         Description  \\\n",
              "0  While removing the drill rod of the Jumbo 08 f...   \n",
              "1  During the activation of a sodium sulphide pum...   \n",
              "2  In the sub-station MILPO located at level +170...   \n",
              "3  Being 9:45 am. approximately in the Nv. 1880 C...   \n",
              "4  Approximately at 11:45 a.m. in circumstances t...   \n",
              "\n",
              "                                           clean_des  \n",
              "0  while removing the drill rod of the jumbo 08 f...  \n",
              "1  during the activation of a sodium sulphide pum...  \n",
              "2  in the sub-station milpo located at level +170...  \n",
              "3  being 9:45 am. approximately in the nv. 1880 c...  \n",
              "4  approximately at 11:45 a.m. in circumstances t...  "
            ]
          },
          "execution_count": 16,
          "metadata": {},
          "output_type": "execute_result"
        }
      ],
      "source": [
        "# 1. Lower Casing:\n",
        "\n",
        "data['clean_des'] = data['clean_des'].astype('str').apply(str.lower)\n",
        "data.head()"
      ]
    },
    {
      "cell_type": "code",
      "execution_count": null,
      "metadata": {
        "execution": {
          "iopub.execute_input": "2025-03-08T10:17:41.098807Z",
          "iopub.status.busy": "2025-03-08T10:17:41.098391Z",
          "iopub.status.idle": "2025-03-08T10:17:48.176827Z",
          "shell.execute_reply": "2025-03-08T10:17:48.175511Z",
          "shell.execute_reply.started": "2025-03-08T10:17:41.098766Z"
        },
        "id": "3aedf98avzBJ",
        "outputId": "51e698de-3eaa-458a-ba72-de59f8feb4b1"
      },
      "outputs": [
        {
          "name": "stdout",
          "output_type": "stream",
          "text": [
            "Collecting contractions\n",
            "  Downloading contractions-0.1.73-py2.py3-none-any.whl.metadata (1.2 kB)\n",
            "Collecting textsearch>=0.0.21 (from contractions)\n",
            "  Downloading textsearch-0.0.24-py2.py3-none-any.whl.metadata (1.2 kB)\n",
            "Collecting anyascii (from textsearch>=0.0.21->contractions)\n",
            "  Downloading anyascii-0.3.2-py3-none-any.whl.metadata (1.5 kB)\n",
            "Collecting pyahocorasick (from textsearch>=0.0.21->contractions)\n",
            "  Downloading pyahocorasick-2.1.0-cp310-cp310-manylinux_2_5_x86_64.manylinux1_x86_64.manylinux_2_12_x86_64.manylinux2010_x86_64.whl.metadata (13 kB)\n",
            "Downloading contractions-0.1.73-py2.py3-none-any.whl (8.7 kB)\n",
            "Downloading textsearch-0.0.24-py2.py3-none-any.whl (7.6 kB)\n",
            "Downloading anyascii-0.3.2-py3-none-any.whl (289 kB)\n",
            "\u001b[2K   \u001b[90m━━━━━━━━━━━━━━━━━━━━━━━━━━━━━━━━━━━━━━━━\u001b[0m \u001b[32m289.9/289.9 kB\u001b[0m \u001b[31m10.6 MB/s\u001b[0m eta \u001b[36m0:00:00\u001b[0m\n",
            "\u001b[?25hDownloading pyahocorasick-2.1.0-cp310-cp310-manylinux_2_5_x86_64.manylinux1_x86_64.manylinux_2_12_x86_64.manylinux2010_x86_64.whl (110 kB)\n",
            "\u001b[2K   \u001b[90m━━━━━━━━━━━━━━━━━━━━━━━━━━━━━━━━━━━━━━━━\u001b[0m \u001b[32m110.7/110.7 kB\u001b[0m \u001b[31m4.9 MB/s\u001b[0m eta \u001b[36m0:00:00\u001b[0m\n",
            "\u001b[?25hInstalling collected packages: pyahocorasick, anyascii, textsearch, contractions\n",
            "Successfully installed anyascii-0.3.2 contractions-0.1.73 pyahocorasick-2.1.0 textsearch-0.0.24\n"
          ]
        },
        {
          "data": {
            "text/plain": [
              "0    while removing the drill rod of the jumbo 08 f...\n",
              "1    during the activation of a sodium sulphide pum...\n",
              "2    in the sub-station milpo located at level +170...\n",
              "3    being 9:45 am. approximately in the nv. 1880 c...\n",
              "4    approximately at 11:45 a.m. in circumstances t...\n",
              "Name: clean_des, dtype: object"
            ]
          },
          "execution_count": 17,
          "metadata": {},
          "output_type": "execute_result"
        }
      ],
      "source": [
        "#2. Handling Contractions (changing \"don't\" to \"do not\", etc.)\n",
        "\n",
        "!pip install contractions\n",
        "\n",
        "import contractions\n",
        "\n",
        "data['clean_des'] = data['clean_des'].apply(lambda x: contractions.fix(x) if isinstance(x, str) else x)\n",
        "data['clean_des'].head()"
      ]
    },
    {
      "cell_type": "code",
      "execution_count": null,
      "metadata": {
        "execution": {
          "iopub.execute_input": "2025-03-08T10:17:48.178179Z",
          "iopub.status.busy": "2025-03-08T10:17:48.177885Z",
          "iopub.status.idle": "2025-03-08T10:17:56.803701Z",
          "shell.execute_reply": "2025-03-08T10:17:56.802456Z",
          "shell.execute_reply.started": "2025-03-08T10:17:48.178152Z"
        },
        "id": "NDlGipBjvzBJ",
        "outputId": "c4995a83-e848-485f-c0fa-c6b9f2da7bec"
      },
      "outputs": [
        {
          "name": "stdout",
          "output_type": "stream",
          "text": [
            "Collecting symspellpy\n",
            "  Downloading symspellpy-6.7.8-py3-none-any.whl.metadata (3.9 kB)\n",
            "Collecting editdistpy>=0.1.3 (from symspellpy)\n",
            "  Downloading editdistpy-0.1.5-cp310-cp310-manylinux_2_5_x86_64.manylinux1_x86_64.manylinux_2_17_x86_64.manylinux2014_x86_64.whl.metadata (7.9 kB)\n",
            "Downloading symspellpy-6.7.8-py3-none-any.whl (2.6 MB)\n",
            "\u001b[2K   \u001b[90m━━━━━━━━━━━━━━━━━━━━━━━━━━━━━━━━━━━━━━━━\u001b[0m \u001b[32m2.6/2.6 MB\u001b[0m \u001b[31m46.7 MB/s\u001b[0m eta \u001b[36m0:00:00\u001b[0m:00:01\u001b[0m\n",
            "\u001b[?25hDownloading editdistpy-0.1.5-cp310-cp310-manylinux_2_5_x86_64.manylinux1_x86_64.manylinux_2_17_x86_64.manylinux2014_x86_64.whl (144 kB)\n",
            "\u001b[2K   \u001b[90m━━━━━━━━━━━━━━━━━━━━━━━━━━━━━━━━━━━━━━━━\u001b[0m \u001b[32m144.1/144.1 kB\u001b[0m \u001b[31m6.4 MB/s\u001b[0m eta \u001b[36m0:00:00\u001b[0m\n",
            "\u001b[?25hInstalling collected packages: editdistpy, symspellpy\n",
            "Successfully installed editdistpy-0.1.5 symspellpy-6.7.8\n"
          ]
        },
        {
          "name": "stderr",
          "output_type": "stream",
          "text": [
            "<ipython-input-18-a7df6908f21b>:5: DeprecationWarning: pkg_resources is deprecated as an API. See https://setuptools.pypa.io/en/latest/pkg_resources.html\n",
            "  import pkg_resources\n"
          ]
        },
        {
          "data": {
            "text/plain": [
              "True"
            ]
          },
          "execution_count": 18,
          "metadata": {},
          "output_type": "execute_result"
        }
      ],
      "source": [
        "# 3. Handling Misspellings\n",
        "\n",
        "!pip install symspellpy\n",
        "from symspellpy.symspellpy import SymSpell, Verbosity\n",
        "import pkg_resources\n",
        "\n",
        "# Initializing SymSpell\n",
        "sym_spell = SymSpell(max_dictionary_edit_distance=2, prefix_length=7)\n",
        "\n",
        "# Loading it into a  a dictionary (pre-built)\n",
        "dictionary_path = pkg_resources.resource_filename(\"symspellpy\", \"frequency_dictionary_en_82_765.txt\")\n",
        "sym_spell.load_dictionary(dictionary_path, term_index=0, count_index=1)"
      ]
    },
    {
      "cell_type": "code",
      "execution_count": null,
      "metadata": {
        "execution": {
          "iopub.execute_input": "2025-03-08T10:17:56.805239Z",
          "iopub.status.busy": "2025-03-08T10:17:56.804922Z",
          "iopub.status.idle": "2025-03-08T10:17:57.458021Z",
          "shell.execute_reply": "2025-03-08T10:17:57.456943Z",
          "shell.execute_reply.started": "2025-03-08T10:17:56.805209Z"
        },
        "id": "QysTWEGevzBJ",
        "outputId": "2986fffe-a31c-41cc-c0c7-38c56506c3fa"
      },
      "outputs": [
        {
          "data": {
            "text/plain": [
              "0    while removing the drill rod of the jumbo of f...\n",
              "1    during the activation of a sodium sulphide pum...\n",
              "2    in the substation milo located at level +170 w...\n",
              "3    being 9:45 am approximately in the not 1880 cx...\n",
              "4    approximately at 11:45 am in circumstances tha...\n",
              "Name: clean_des, dtype: object"
            ]
          },
          "execution_count": 19,
          "metadata": {},
          "output_type": "execute_result"
        }
      ],
      "source": [
        "# Defining a function to correct misspellings\n",
        "\n",
        "def correct_spelling(text):\n",
        "    words = text.split()\n",
        "    corrected_words = [sym_spell.lookup(word, Verbosity.CLOSEST, max_edit_distance=2)[0].term if sym_spell.lookup(word, Verbosity.CLOSEST, max_edit_distance=2) else word for word in words]\n",
        "    return \" \".join(corrected_words)\n",
        "\n",
        "data['clean_des'] = data['clean_des'].apply(correct_spelling)\n",
        "data['clean_des'].head()"
      ]
    },
    {
      "cell_type": "code",
      "execution_count": null,
      "metadata": {
        "execution": {
          "iopub.execute_input": "2025-03-08T10:17:57.459584Z",
          "iopub.status.busy": "2025-03-08T10:17:57.459180Z",
          "iopub.status.idle": "2025-03-08T10:17:57.472490Z",
          "shell.execute_reply": "2025-03-08T10:17:57.471523Z",
          "shell.execute_reply.started": "2025-03-08T10:17:57.459546Z"
        },
        "id": "vDiGLbeivzBK",
        "outputId": "fd05a920-dcc7-41b0-de43-d87c47826088"
      },
      "outputs": [
        {
          "data": {
            "text/plain": [
              "0    while removing the drill rod of the jumbo of f...\n",
              "1    during the activation of a sodium sulphide pum...\n",
              "2    in the substation milo located at level 170 wh...\n",
              "3    being 945 am approximately in the not 1880 cx6...\n",
              "4    approximately at 1145 am in circumstances that...\n",
              "Name: clean_des, dtype: object"
            ]
          },
          "execution_count": 20,
          "metadata": {},
          "output_type": "execute_result"
        }
      ],
      "source": [
        "# 4. Removing Puntuations\n",
        "\n",
        "import string\n",
        "\n",
        "data['clean_des'] = data['clean_des'].apply(lambda x: x.translate(str.maketrans('', '', string.punctuation)))\n",
        "data['clean_des'].head()"
      ]
    },
    {
      "cell_type": "code",
      "execution_count": null,
      "metadata": {
        "execution": {
          "iopub.execute_input": "2025-03-08T10:17:57.473947Z",
          "iopub.status.busy": "2025-03-08T10:17:57.473590Z",
          "iopub.status.idle": "2025-03-08T10:17:57.505545Z",
          "shell.execute_reply": "2025-03-08T10:17:57.504378Z",
          "shell.execute_reply.started": "2025-03-08T10:17:57.473919Z"
        },
        "id": "6h_eS501vzBK",
        "outputId": "982562ab-3768-4549-dd7a-7f184b8d76ec"
      },
      "outputs": [
        {
          "data": {
            "text/plain": [
              "0    while removing the drill rod of the jumbo of f...\n",
              "1    during the activation of a sodium sulphide pum...\n",
              "2    in the substation milo located at level  when ...\n",
              "3    being  am approximately in the not  cx obj the...\n",
              "4    approximately at  am in circumstances that the...\n",
              "Name: clean_des, dtype: object"
            ]
          },
          "execution_count": 21,
          "metadata": {},
          "output_type": "execute_result"
        }
      ],
      "source": [
        "# 5. Removing Numbers, and Special Characteres\n",
        "\n",
        "import re\n",
        "\n",
        "# Converting list of words to a single string\n",
        "data['clean_des'] = data['clean_des'].apply(lambda x: ' '.join(x) if isinstance(x, list) else x)\n",
        "\n",
        "# Eliminating Numbers\n",
        "data['clean_des'] = data['clean_des'].apply(lambda x: re.sub(r'\\d+', '', x) if isinstance(x, str) else x)\n",
        "\n",
        "# Eliminating Special Characters\n",
        "data['clean_des'] = data['clean_des'].apply(lambda x: re.sub(r'[^\\w\\s]', '', x) if isinstance(x, str) else x)\n",
        "\n",
        "data['clean_des'].head()"
      ]
    },
    {
      "cell_type": "markdown",
      "metadata": {
        "id": "ayulECVyvzBK"
      },
      "source": [
        "## Data Pre-processing\n",
        "\n",
        "#### Steps involved:\n",
        "\n",
        "1. Tokenizing\n",
        "2. Removing Stopwords\n",
        "3. Using Lemmatization"
      ]
    },
    {
      "cell_type": "code",
      "execution_count": null,
      "metadata": {
        "execution": {
          "iopub.execute_input": "2025-03-08T10:17:57.506934Z",
          "iopub.status.busy": "2025-03-08T10:17:57.506638Z",
          "iopub.status.idle": "2025-03-08T10:17:58.681314Z",
          "shell.execute_reply": "2025-03-08T10:17:58.680146Z",
          "shell.execute_reply.started": "2025-03-08T10:17:57.506908Z"
        },
        "id": "CAhHlDk4vzBK",
        "outputId": "871936ba-4bf2-4041-b93e-17be18379b16"
      },
      "outputs": [
        {
          "name": "stdout",
          "output_type": "stream",
          "text": [
            "[nltk_data] Downloading package punkt to /usr/share/nltk_data...\n",
            "[nltk_data]   Package punkt is already up-to-date!\n",
            "[nltk_data] Downloading package stopwords to /usr/share/nltk_data...\n",
            "[nltk_data]   Unzipping corpora/stopwords.zip.\n"
          ]
        }
      ],
      "source": [
        "# 1. Tokenizing and Removing stopwords and\n",
        "\n",
        "# Importing necessary libraries and downloading stopwords\n",
        "\n",
        "from nltk.corpus import stopwords\n",
        "from nltk.tokenize import word_tokenize\n",
        "\n",
        "import nltk\n",
        "nltk.download('punkt')\n",
        "nltk.download('stopwords')\n",
        "\n",
        "\n",
        "# Storing stop-words into a set()\n",
        "\n",
        "stop_words = set(stopwords.words('english'))"
      ]
    },
    {
      "cell_type": "code",
      "execution_count": null,
      "metadata": {
        "execution": {
          "iopub.execute_input": "2025-03-08T10:17:58.682916Z",
          "iopub.status.busy": "2025-03-08T10:17:58.682505Z",
          "iopub.status.idle": "2025-03-08T10:17:58.834649Z",
          "shell.execute_reply": "2025-03-08T10:17:58.833574Z",
          "shell.execute_reply.started": "2025-03-08T10:17:58.682874Z"
        },
        "id": "bHbyvyKVvzBL",
        "outputId": "6559ae30-d105-4895-9758-757f058fb4f8"
      },
      "outputs": [
        {
          "data": {
            "text/plain": [
              "0    [while, removing, the, drill, rod, of, the, ju...\n",
              "1    [during, the, activation, of, a, sodium, sulph...\n",
              "2    [in, the, substation, milo, located, at, level...\n",
              "3    [being, am, approximately, in, the, not, cx, o...\n",
              "4    [approximately, at, am, in, circumstances, tha...\n",
              "Name: clean_des, dtype: object"
            ]
          },
          "execution_count": 23,
          "metadata": {},
          "output_type": "execute_result"
        }
      ],
      "source": [
        "# Tokenization\n",
        "data['clean_des'] = data['clean_des'].apply(lambda x: [word for word in word_tokenize(x)])\n",
        "data['clean_des'].head()"
      ]
    },
    {
      "cell_type": "code",
      "execution_count": null,
      "metadata": {
        "execution": {
          "iopub.execute_input": "2025-03-08T10:17:58.839517Z",
          "iopub.status.busy": "2025-03-08T10:17:58.839202Z",
          "iopub.status.idle": "2025-03-08T10:17:58.854010Z",
          "shell.execute_reply": "2025-03-08T10:17:58.852953Z",
          "shell.execute_reply.started": "2025-03-08T10:17:58.839490Z"
        },
        "id": "bIOPibLivzBL",
        "outputId": "1cff9ab9-bee4-44cf-9aad-2c914a512796"
      },
      "outputs": [
        {
          "data": {
            "text/plain": [
              "0    [removing, drill, rod, jumbo, maintenance, sup...\n",
              "1    [activation, sodium, sulphide, pump, piping, u...\n",
              "2    [substation, milo, located, level, collaborato...\n",
              "3    [approximately, cx, obj, personnel, begins, ta...\n",
              "4    [approximately, circumstances, mechanics, anth...\n",
              "Name: clean_des, dtype: object"
            ]
          },
          "execution_count": 24,
          "metadata": {},
          "output_type": "execute_result"
        }
      ],
      "source": [
        "# 2. Removing stopwords\n",
        "\n",
        "data['clean_des'] = data['clean_des'].apply(lambda tokens: [word for word in tokens if word.lower() not in stop_words])\n",
        "data['clean_des'].head()"
      ]
    },
    {
      "cell_type": "markdown",
      "metadata": {
        "id": "2IK2uYIZvzBL"
      },
      "source": [
        "#### Lemmatization\n",
        "\n",
        "-- Downloading the required packages"
      ]
    },
    {
      "cell_type": "code",
      "execution_count": null,
      "metadata": {
        "execution": {
          "iopub.execute_input": "2025-03-08T10:17:58.855642Z",
          "iopub.status.busy": "2025-03-08T10:17:58.855335Z",
          "iopub.status.idle": "2025-03-08T10:17:59.692890Z",
          "shell.execute_reply": "2025-03-08T10:17:59.692064Z",
          "shell.execute_reply.started": "2025-03-08T10:17:58.855617Z"
        },
        "id": "bAR8VmgQvzBM",
        "outputId": "a793b7e6-7ca1-4871-fc1e-b7e20e18920f"
      },
      "outputs": [
        {
          "name": "stdout",
          "output_type": "stream",
          "text": [
            "[nltk_data] Downloading package wordnet to\n",
            "[nltk_data]     /kaggle/working/nltk_data...\n",
            "[nltk_data] Downloading package omw-1.4 to\n",
            "[nltk_data]     /kaggle/working/nltk_data...\n",
            "[nltk_data] Downloading package punkt to /kaggle/working/nltk_data...\n",
            "[nltk_data]   Unzipping tokenizers/punkt.zip.\n",
            "[nltk_data] Downloading package averaged_perceptron_tagger to\n",
            "[nltk_data]     /kaggle/working/nltk_data...\n",
            "[nltk_data]   Unzipping taggers/averaged_perceptron_tagger.zip.\n"
          ]
        },
        {
          "data": {
            "text/plain": [
              "True"
            ]
          },
          "execution_count": 25,
          "metadata": {},
          "output_type": "execute_result"
        }
      ],
      "source": [
        "import nltk\n",
        "import os\n",
        "\n",
        "# Setting up a custom download directory\n",
        "\n",
        "nltk_data_path = \"/kaggle/working/nltk_data\"\n",
        "os.makedirs(nltk_data_path, exist_ok=True)\n",
        "\n",
        "# Adding the NLTK data path\n",
        "\n",
        "nltk.data.path.append(nltk_data_path)\n",
        "\n",
        "\n",
        "# Downloading the required resources\n",
        "\n",
        "nltk.download('wordnet', download_dir=nltk_data_path)\n",
        "nltk.download('omw-1.4', download_dir=nltk_data_path)\n",
        "nltk.download('punkt', download_dir=nltk_data_path)\n",
        "nltk.download('averaged_perceptron_tagger', download_dir=nltk_data_path)"
      ]
    },
    {
      "cell_type": "code",
      "execution_count": null,
      "metadata": {
        "execution": {
          "iopub.execute_input": "2025-03-08T10:17:59.694244Z",
          "iopub.status.busy": "2025-03-08T10:17:59.693881Z",
          "iopub.status.idle": "2025-03-08T10:17:59.700286Z",
          "shell.execute_reply": "2025-03-08T10:17:59.699134Z",
          "shell.execute_reply.started": "2025-03-08T10:17:59.694208Z"
        },
        "id": "ufJ89LStvzBM",
        "outputId": "11e1643c-c882-41da-a6a2-ba9b09861d05"
      },
      "outputs": [
        {
          "name": "stdout",
          "output_type": "stream",
          "text": [
            "['omw-1.4.zip', 'wordnet.zip']\n"
          ]
        }
      ],
      "source": [
        "import os\n",
        "\n",
        "print(os.listdir(\"/kaggle/working/nltk_data/corpora\"))\n"
      ]
    },
    {
      "cell_type": "code",
      "execution_count": null,
      "metadata": {
        "execution": {
          "iopub.execute_input": "2025-03-08T10:17:59.701752Z",
          "iopub.status.busy": "2025-03-08T10:17:59.701465Z",
          "iopub.status.idle": "2025-03-08T10:17:59.990324Z",
          "shell.execute_reply": "2025-03-08T10:17:59.989249Z",
          "shell.execute_reply.started": "2025-03-08T10:17:59.701726Z"
        },
        "id": "DuQSgWBMvzBM",
        "outputId": "50e2ec3b-e682-4923-940b-0f57952dd400"
      },
      "outputs": [
        {
          "name": "stdout",
          "output_type": "stream",
          "text": [
            "['wordnet', 'omw-1.4.zip', 'wordnet.zip']\n"
          ]
        }
      ],
      "source": [
        "import zipfile\n",
        "\n",
        "# Defining the corpus path\n",
        "wordnet_zip_path = \"/kaggle/working/nltk_data/corpora/wordnet.zip\"\n",
        "wordnet_extract_path = \"/kaggle/working/nltk_data/corpora/\"\n",
        "\n",
        "# Extracting the ZIP file\n",
        "with zipfile.ZipFile(wordnet_zip_path, 'r') as zip_ref:\n",
        "    zip_ref.extractall(wordnet_extract_path)\n",
        "\n",
        "# Verifying extraction\n",
        "import os\n",
        "print(os.listdir(\"/kaggle/working/nltk_data/corpora/\"))\n"
      ]
    },
    {
      "cell_type": "code",
      "execution_count": null,
      "metadata": {
        "execution": {
          "iopub.execute_input": "2025-03-08T10:17:59.991873Z",
          "iopub.status.busy": "2025-03-08T10:17:59.991458Z",
          "iopub.status.idle": "2025-03-08T10:18:01.839247Z",
          "shell.execute_reply": "2025-03-08T10:18:01.838031Z",
          "shell.execute_reply.started": "2025-03-08T10:17:59.991830Z"
        },
        "id": "3ufq7bn_vzBM"
      },
      "outputs": [],
      "source": [
        "# 3. Lemmatization\n",
        "\n",
        "from nltk.stem import WordNetLemmatizer\n",
        "\n",
        "lemmatizer = WordNetLemmatizer()\n",
        "\n",
        "# Applying lemmatization to each word in every row\n",
        "\n",
        "data['clean_des'] = data['clean_des'].apply(\n",
        "    lambda words: [lemmatizer.lemmatize(word) for word in words]\n",
        ")"
      ]
    },
    {
      "cell_type": "code",
      "execution_count": null,
      "metadata": {
        "execution": {
          "iopub.execute_input": "2025-03-08T10:18:01.840977Z",
          "iopub.status.busy": "2025-03-08T10:18:01.840543Z",
          "iopub.status.idle": "2025-03-08T10:18:01.850060Z",
          "shell.execute_reply": "2025-03-08T10:18:01.848987Z",
          "shell.execute_reply.started": "2025-03-08T10:18:01.840937Z"
        },
        "id": "QQKbsTqCvzBM",
        "outputId": "5ff5e9d0-e601-4982-9fc5-c00c1ec79cfd"
      },
      "outputs": [
        {
          "data": {
            "text/plain": [
              "0    [removing, drill, rod, jumbo, maintenance, sup...\n",
              "1    [activation, sodium, sulphide, pump, piping, u...\n",
              "2    [substation, milo, located, level, collaborato...\n",
              "3    [approximately, cx, obj, personnel, begin, tas...\n",
              "4    [approximately, circumstance, mechanic, anthon...\n",
              "Name: clean_des, dtype: object"
            ]
          },
          "execution_count": 29,
          "metadata": {},
          "output_type": "execute_result"
        }
      ],
      "source": [
        "data['clean_des'].head()"
      ]
    },
    {
      "cell_type": "markdown",
      "metadata": {
        "id": "6rI1I_MUvzBM"
      },
      "source": [
        "-----------------------------------------\n",
        "\n",
        "## XGBoost\n",
        "##\n",
        "#### Step-1:   Creating X, y variables for the model"
      ]
    },
    {
      "cell_type": "code",
      "execution_count": null,
      "metadata": {
        "execution": {
          "iopub.execute_input": "2025-03-08T10:18:01.851388Z",
          "iopub.status.busy": "2025-03-08T10:18:01.851041Z",
          "iopub.status.idle": "2025-03-08T10:18:06.272284Z",
          "shell.execute_reply": "2025-03-08T10:18:06.270937Z",
          "shell.execute_reply.started": "2025-03-08T10:18:01.851361Z"
        },
        "id": "G31jVMB-vzBN",
        "outputId": "fcef694b-a5c5-4996-f321-4378186ab91a"
      },
      "outputs": [
        {
          "name": "stdout",
          "output_type": "stream",
          "text": [
            "Requirement already satisfied: gensim in /usr/local/lib/python3.10/dist-packages (4.3.3)\n",
            "Requirement already satisfied: numpy<2.0,>=1.18.5 in /usr/local/lib/python3.10/dist-packages (from gensim) (1.26.4)\n",
            "Requirement already satisfied: scipy<1.14.0,>=1.7.0 in /usr/local/lib/python3.10/dist-packages (from gensim) (1.13.1)\n",
            "Requirement already satisfied: smart-open>=1.8.1 in /usr/local/lib/python3.10/dist-packages (from gensim) (7.0.5)\n",
            "Requirement already satisfied: mkl_fft in /usr/local/lib/python3.10/dist-packages (from numpy<2.0,>=1.18.5->gensim) (1.3.8)\n",
            "Requirement already satisfied: mkl_random in /usr/local/lib/python3.10/dist-packages (from numpy<2.0,>=1.18.5->gensim) (1.2.4)\n",
            "Requirement already satisfied: mkl_umath in /usr/local/lib/python3.10/dist-packages (from numpy<2.0,>=1.18.5->gensim) (0.1.1)\n",
            "Requirement already satisfied: mkl in /usr/local/lib/python3.10/dist-packages (from numpy<2.0,>=1.18.5->gensim) (2025.0.1)\n",
            "Requirement already satisfied: tbb4py in /usr/local/lib/python3.10/dist-packages (from numpy<2.0,>=1.18.5->gensim) (2022.0.0)\n",
            "Requirement already satisfied: mkl-service in /usr/local/lib/python3.10/dist-packages (from numpy<2.0,>=1.18.5->gensim) (2.4.1)\n",
            "Requirement already satisfied: wrapt in /usr/local/lib/python3.10/dist-packages (from smart-open>=1.8.1->gensim) (1.17.0)\n",
            "Requirement already satisfied: intel-openmp>=2024 in /usr/local/lib/python3.10/dist-packages (from mkl->numpy<2.0,>=1.18.5->gensim) (2024.2.0)\n",
            "Requirement already satisfied: tbb==2022.* in /usr/local/lib/python3.10/dist-packages (from mkl->numpy<2.0,>=1.18.5->gensim) (2022.0.0)\n",
            "Requirement already satisfied: tcmlib==1.* in /usr/local/lib/python3.10/dist-packages (from tbb==2022.*->mkl->numpy<2.0,>=1.18.5->gensim) (1.2.0)\n",
            "Requirement already satisfied: intel-cmplr-lib-rt in /usr/local/lib/python3.10/dist-packages (from mkl_umath->numpy<2.0,>=1.18.5->gensim) (2024.2.0)\n",
            "Requirement already satisfied: intel-cmplr-lib-ur==2024.2.0 in /usr/local/lib/python3.10/dist-packages (from intel-openmp>=2024->mkl->numpy<2.0,>=1.18.5->gensim) (2024.2.0)\n"
          ]
        }
      ],
      "source": [
        "!pip install gensim"
      ]
    },
    {
      "cell_type": "code",
      "execution_count": null,
      "metadata": {
        "execution": {
          "iopub.execute_input": "2025-03-08T10:18:06.274241Z",
          "iopub.status.busy": "2025-03-08T10:18:06.273862Z",
          "iopub.status.idle": "2025-03-08T10:18:27.420542Z",
          "shell.execute_reply": "2025-03-08T10:18:27.419631Z",
          "shell.execute_reply.started": "2025-03-08T10:18:06.274193Z"
        },
        "id": "E7Qn4twlvzBO"
      },
      "outputs": [],
      "source": [
        "# Converting `data['clean_des']` into word embeddings using Word2Vec method\n",
        "\n",
        "import gensim\n",
        "\n",
        "# Step 1: Training a Word2Vec Model\n",
        "\n",
        "sentences = data['clean_des'].tolist()\n",
        "\n",
        "word2vec_model = gensim.models.Word2Vec(sentences, vector_size=100, window=5, min_count=2, workers=4)"
      ]
    },
    {
      "cell_type": "code",
      "execution_count": null,
      "metadata": {
        "execution": {
          "iopub.execute_input": "2025-03-08T10:18:27.422354Z",
          "iopub.status.busy": "2025-03-08T10:18:27.421640Z",
          "iopub.status.idle": "2025-03-08T10:18:27.428042Z",
          "shell.execute_reply": "2025-03-08T10:18:27.426746Z",
          "shell.execute_reply.started": "2025-03-08T10:18:27.422312Z"
        },
        "id": "aK-Eauu9vzBO"
      },
      "outputs": [],
      "source": [
        "# Step 2: Converting Sentences to Vector Representations using a UDF (User Defined Function)\n",
        "\n",
        "def sentence_to_vector(sentence, model, vector_size=100):\n",
        "    vectors = [model.wv[word] for word in sentence if word in model.wv]\n",
        "    return np.mean(vectors, axis=0) if vectors else np.zeros(vector_size)"
      ]
    },
    {
      "cell_type": "code",
      "execution_count": null,
      "metadata": {
        "execution": {
          "iopub.execute_input": "2025-03-08T10:18:27.429961Z",
          "iopub.status.busy": "2025-03-08T10:18:27.429633Z",
          "iopub.status.idle": "2025-03-08T10:18:27.494986Z",
          "shell.execute_reply": "2025-03-08T10:18:27.493994Z",
          "shell.execute_reply.started": "2025-03-08T10:18:27.429934Z"
        },
        "id": "ctDHTtD8vzBP"
      },
      "outputs": [],
      "source": [
        "X = np.array([sentence_to_vector(sentence, word2vec_model) for sentence in sentences])"
      ]
    },
    {
      "cell_type": "code",
      "execution_count": null,
      "metadata": {
        "execution": {
          "iopub.execute_input": "2025-03-08T10:18:27.496284Z",
          "iopub.status.busy": "2025-03-08T10:18:27.496005Z",
          "iopub.status.idle": "2025-03-08T10:18:27.503540Z",
          "shell.execute_reply": "2025-03-08T10:18:27.502331Z",
          "shell.execute_reply.started": "2025-03-08T10:18:27.496260Z"
        },
        "id": "3n1g_x1QvzBP",
        "outputId": "a53e0670-14ac-4938-9a07-5be1467adee4"
      },
      "outputs": [
        {
          "data": {
            "text/plain": [
              "array([-0.03894889,  0.04260856,  0.00110246, -0.00270191,  0.01961412,\n",
              "       -0.09099236,  0.00780824,  0.09999391, -0.0302118 , -0.01966052,\n",
              "       -0.0336741 , -0.05882107, -0.01425289,  0.00758559,  0.00893899,\n",
              "       -0.03302475,  0.00494852, -0.06179229, -0.00202445, -0.08533165,\n",
              "        0.0366353 ,  0.03327368,  0.0135028 , -0.01782867, -0.03068467,\n",
              "        0.00358096, -0.04957008, -0.06019671, -0.03598579,  0.00830438,\n",
              "        0.0600859 ,  0.01061264,  0.02050606, -0.03159665, -0.01560335,\n",
              "        0.06654736, -0.00900007, -0.03710233, -0.03876886, -0.08952118,\n",
              "        0.00652354, -0.05066505,  0.00321109, -0.01324745,  0.03482053,\n",
              "       -0.02102068, -0.02791878, -0.02150921,  0.02002942,  0.01736261,\n",
              "        0.03651433, -0.02634265, -0.00499066, -0.00721355, -0.04786605,\n",
              "        0.04156053,  0.02527792, -0.00972479, -0.05214137,  0.00797567,\n",
              "        0.01195372,  0.0173339 , -0.02503746, -0.01792935, -0.05355227,\n",
              "        0.03503403,  0.01380721,  0.03603153, -0.0561785 ,  0.05552984,\n",
              "       -0.04995361,  0.01260967,  0.06217694, -0.02192268,  0.04083573,\n",
              "        0.02374454, -0.00500066,  0.00370754, -0.03796986,  0.02322913,\n",
              "       -0.03242251, -0.00414109, -0.05266443,  0.07190187, -0.00963455,\n",
              "        0.00975965, -0.00444245,  0.06457295,  0.07190642,  0.02002382,\n",
              "        0.05869476,  0.02596946, -0.00472393,  0.00674416,  0.08238847,\n",
              "        0.05209725,  0.02732559, -0.03309323,  0.01053058, -0.01588248],\n",
              "      dtype=float32)"
            ]
          },
          "execution_count": 34,
          "metadata": {},
          "output_type": "execute_result"
        }
      ],
      "source": [
        "# Printing the vector embedding for the first accident description\n",
        "X[0,:]"
      ]
    },
    {
      "cell_type": "code",
      "execution_count": null,
      "metadata": {
        "execution": {
          "iopub.execute_input": "2025-03-08T10:18:27.504772Z",
          "iopub.status.busy": "2025-03-08T10:18:27.504388Z",
          "iopub.status.idle": "2025-03-08T10:18:27.529027Z",
          "shell.execute_reply": "2025-03-08T10:18:27.528022Z",
          "shell.execute_reply.started": "2025-03-08T10:18:27.504744Z"
        },
        "id": "ceMzoaI0vzBP",
        "outputId": "33240bbb-a62d-43ab-d9bd-1e026ac2cfdc"
      },
      "outputs": [
        {
          "data": {
            "text/plain": [
              "array(['I', 'IV', 'III', 'II', 'V'], dtype=object)"
            ]
          },
          "execution_count": 35,
          "metadata": {},
          "output_type": "execute_result"
        }
      ],
      "source": [
        "y = data['Accident Level']\n",
        "\n",
        "y.unique()"
      ]
    },
    {
      "cell_type": "code",
      "execution_count": null,
      "metadata": {
        "execution": {
          "iopub.execute_input": "2025-03-08T10:18:27.530361Z",
          "iopub.status.busy": "2025-03-08T10:18:27.530002Z",
          "iopub.status.idle": "2025-03-08T10:18:27.555473Z",
          "shell.execute_reply": "2025-03-08T10:18:27.554629Z",
          "shell.execute_reply.started": "2025-03-08T10:18:27.530334Z"
        },
        "id": "Nv7lvgZZvzBQ",
        "outputId": "2e623b21-6d19-4928-9377-ac664ae9b180"
      },
      "outputs": [
        {
          "data": {
            "text/plain": [
              "0      0\n",
              "1      0\n",
              "2      0\n",
              "3      0\n",
              "4      3\n",
              "      ..\n",
              "420    0\n",
              "421    0\n",
              "422    0\n",
              "423    0\n",
              "424    0\n",
              "Name: Accident Level, Length: 425, dtype: int64"
            ]
          },
          "execution_count": 36,
          "metadata": {},
          "output_type": "execute_result"
        }
      ],
      "source": [
        "label_mapping = {'I': 0, 'II': 1, 'III': 2, 'IV': 3, 'V': 4}\n",
        "\n",
        "y = data['Accident Level'].str.strip()\n",
        "y = y.str.upper()\n",
        "y = y.map(label_mapping)\n",
        "y"
      ]
    },
    {
      "cell_type": "markdown",
      "metadata": {
        "id": "CgfnGwXwvzBQ"
      },
      "source": [
        "#### Step-2: Train- Test Split"
      ]
    },
    {
      "cell_type": "code",
      "execution_count": null,
      "metadata": {
        "execution": {
          "iopub.execute_input": "2025-03-08T10:19:47.142337Z",
          "iopub.status.busy": "2025-03-08T10:19:47.141936Z",
          "iopub.status.idle": "2025-03-08T10:19:47.152282Z",
          "shell.execute_reply": "2025-03-08T10:19:47.151040Z",
          "shell.execute_reply.started": "2025-03-08T10:19:47.142302Z"
        },
        "id": "t8skFTcovzBR"
      },
      "outputs": [],
      "source": [
        "from sklearn.model_selection import train_test_split\n",
        "\n",
        "x_split, x_test, y_split, y_test = train_test_split(X, y, test_size=0.2, random_state=79)\n",
        "x_train, x_val, y_train, y_val = train_test_split(X, y, test_size=0.15, random_state=79)"
      ]
    },
    {
      "cell_type": "code",
      "execution_count": null,
      "metadata": {
        "execution": {
          "iopub.execute_input": "2025-03-08T10:19:49.517068Z",
          "iopub.status.busy": "2025-03-08T10:19:49.516710Z",
          "iopub.status.idle": "2025-03-08T10:19:49.527279Z",
          "shell.execute_reply": "2025-03-08T10:19:49.526099Z",
          "shell.execute_reply.started": "2025-03-08T10:19:49.517038Z"
        },
        "id": "makCHUdxvzBR",
        "outputId": "8570efc6-9d45-4907-af89-341bd93bff4c"
      },
      "outputs": [
        {
          "name": "stdout",
          "output_type": "stream",
          "text": [
            "x_split shape: (340, 100)\n",
            "x_test shape: (85, 100)\n",
            "y_split shape: (340,)\n",
            "y_test shape: (85,)\n",
            "x_train shape: (361, 100)\n",
            "x_val shape: (64, 100)\n",
            "y_train shape: (361,)\n",
            "y_val shape: (64,)\n"
          ]
        }
      ],
      "source": [
        "# Printing shapes of the variables:\n",
        "\n",
        "print(\"x_split shape:\", x_split.shape)\n",
        "print(\"x_test shape:\", x_test.shape)\n",
        "print(\"y_split shape:\", y_split.shape)\n",
        "print(\"y_test shape:\", y_test.shape)\n",
        "\n",
        "print(\"x_train shape:\", x_train.shape)\n",
        "print(\"x_val shape:\", x_val.shape)\n",
        "print(\"y_train shape:\", y_train.shape)\n",
        "print(\"y_val shape:\", y_val.shape)\n"
      ]
    },
    {
      "cell_type": "markdown",
      "metadata": {
        "id": "3WqoiOzlvzBR"
      },
      "source": [
        "#### Step-3: Training my Model"
      ]
    },
    {
      "cell_type": "code",
      "execution_count": null,
      "metadata": {
        "execution": {
          "iopub.execute_input": "2025-03-08T10:26:09.300685Z",
          "iopub.status.busy": "2025-03-08T10:26:09.300326Z",
          "iopub.status.idle": "2025-03-08T10:26:09.630629Z",
          "shell.execute_reply": "2025-03-08T10:26:09.629471Z",
          "shell.execute_reply.started": "2025-03-08T10:26:09.300659Z"
        },
        "id": "WauQjNxmvzBR"
      },
      "outputs": [],
      "source": [
        "import xgboost as xgb\n",
        "\n",
        "xgb_clf = xgb.XGBClassifier(use_label_encoder=False, eval_metric='logloss')"
      ]
    },
    {
      "cell_type": "code",
      "execution_count": null,
      "metadata": {
        "execution": {
          "iopub.execute_input": "2025-03-08T10:26:09.954450Z",
          "iopub.status.busy": "2025-03-08T10:26:09.954081Z",
          "iopub.status.idle": "2025-03-08T10:26:10.955218Z",
          "shell.execute_reply": "2025-03-08T10:26:10.954352Z",
          "shell.execute_reply.started": "2025-03-08T10:26:09.954401Z"
        },
        "id": "TmTSrc9svzBR",
        "outputId": "976e9929-d0a1-42f6-f080-557813d0b282"
      },
      "outputs": [
        {
          "data": {
            "text/html": [
              "<style>#sk-container-id-1 {color: black;background-color: white;}#sk-container-id-1 pre{padding: 0;}#sk-container-id-1 div.sk-toggleable {background-color: white;}#sk-container-id-1 label.sk-toggleable__label {cursor: pointer;display: block;width: 100%;margin-bottom: 0;padding: 0.3em;box-sizing: border-box;text-align: center;}#sk-container-id-1 label.sk-toggleable__label-arrow:before {content: \"▸\";float: left;margin-right: 0.25em;color: #696969;}#sk-container-id-1 label.sk-toggleable__label-arrow:hover:before {color: black;}#sk-container-id-1 div.sk-estimator:hover label.sk-toggleable__label-arrow:before {color: black;}#sk-container-id-1 div.sk-toggleable__content {max-height: 0;max-width: 0;overflow: hidden;text-align: left;background-color: #f0f8ff;}#sk-container-id-1 div.sk-toggleable__content pre {margin: 0.2em;color: black;border-radius: 0.25em;background-color: #f0f8ff;}#sk-container-id-1 input.sk-toggleable__control:checked~div.sk-toggleable__content {max-height: 200px;max-width: 100%;overflow: auto;}#sk-container-id-1 input.sk-toggleable__control:checked~label.sk-toggleable__label-arrow:before {content: \"▾\";}#sk-container-id-1 div.sk-estimator input.sk-toggleable__control:checked~label.sk-toggleable__label {background-color: #d4ebff;}#sk-container-id-1 div.sk-label input.sk-toggleable__control:checked~label.sk-toggleable__label {background-color: #d4ebff;}#sk-container-id-1 input.sk-hidden--visually {border: 0;clip: rect(1px 1px 1px 1px);clip: rect(1px, 1px, 1px, 1px);height: 1px;margin: -1px;overflow: hidden;padding: 0;position: absolute;width: 1px;}#sk-container-id-1 div.sk-estimator {font-family: monospace;background-color: #f0f8ff;border: 1px dotted black;border-radius: 0.25em;box-sizing: border-box;margin-bottom: 0.5em;}#sk-container-id-1 div.sk-estimator:hover {background-color: #d4ebff;}#sk-container-id-1 div.sk-parallel-item::after {content: \"\";width: 100%;border-bottom: 1px solid gray;flex-grow: 1;}#sk-container-id-1 div.sk-label:hover label.sk-toggleable__label {background-color: #d4ebff;}#sk-container-id-1 div.sk-serial::before {content: \"\";position: absolute;border-left: 1px solid gray;box-sizing: border-box;top: 0;bottom: 0;left: 50%;z-index: 0;}#sk-container-id-1 div.sk-serial {display: flex;flex-direction: column;align-items: center;background-color: white;padding-right: 0.2em;padding-left: 0.2em;position: relative;}#sk-container-id-1 div.sk-item {position: relative;z-index: 1;}#sk-container-id-1 div.sk-parallel {display: flex;align-items: stretch;justify-content: center;background-color: white;position: relative;}#sk-container-id-1 div.sk-item::before, #sk-container-id-1 div.sk-parallel-item::before {content: \"\";position: absolute;border-left: 1px solid gray;box-sizing: border-box;top: 0;bottom: 0;left: 50%;z-index: -1;}#sk-container-id-1 div.sk-parallel-item {display: flex;flex-direction: column;z-index: 1;position: relative;background-color: white;}#sk-container-id-1 div.sk-parallel-item:first-child::after {align-self: flex-end;width: 50%;}#sk-container-id-1 div.sk-parallel-item:last-child::after {align-self: flex-start;width: 50%;}#sk-container-id-1 div.sk-parallel-item:only-child::after {width: 0;}#sk-container-id-1 div.sk-dashed-wrapped {border: 1px dashed gray;margin: 0 0.4em 0.5em 0.4em;box-sizing: border-box;padding-bottom: 0.4em;background-color: white;}#sk-container-id-1 div.sk-label label {font-family: monospace;font-weight: bold;display: inline-block;line-height: 1.2em;}#sk-container-id-1 div.sk-label-container {text-align: center;}#sk-container-id-1 div.sk-container {/* jupyter's `normalize.less` sets `[hidden] { display: none; }` but bootstrap.min.css set `[hidden] { display: none !important; }` so we also need the `!important` here to be able to override the default hidden behavior on the sphinx rendered scikit-learn.org. See: https://github.com/scikit-learn/scikit-learn/issues/21755 */display: inline-block !important;position: relative;}#sk-container-id-1 div.sk-text-repr-fallback {display: none;}</style><div id=\"sk-container-id-1\" class=\"sk-top-container\"><div class=\"sk-text-repr-fallback\"><pre>XGBClassifier(base_score=None, booster=None, callbacks=None,\n",
              "              colsample_bylevel=None, colsample_bynode=None,\n",
              "              colsample_bytree=None, device=None, early_stopping_rounds=None,\n",
              "              enable_categorical=False, eval_metric=&#x27;logloss&#x27;,\n",
              "              feature_types=None, gamma=None, grow_policy=None,\n",
              "              importance_type=None, interaction_constraints=None,\n",
              "              learning_rate=None, max_bin=None, max_cat_threshold=None,\n",
              "              max_cat_to_onehot=None, max_delta_step=None, max_depth=None,\n",
              "              max_leaves=None, min_child_weight=None, missing=nan,\n",
              "              monotone_constraints=None, multi_strategy=None, n_estimators=None,\n",
              "              n_jobs=None, num_parallel_tree=None, objective=&#x27;multi:softprob&#x27;, ...)</pre><b>In a Jupyter environment, please rerun this cell to show the HTML representation or trust the notebook. <br />On GitHub, the HTML representation is unable to render, please try loading this page with nbviewer.org.</b></div><div class=\"sk-container\" hidden><div class=\"sk-item\"><div class=\"sk-estimator sk-toggleable\"><input class=\"sk-toggleable__control sk-hidden--visually\" id=\"sk-estimator-id-1\" type=\"checkbox\" checked><label for=\"sk-estimator-id-1\" class=\"sk-toggleable__label sk-toggleable__label-arrow\">XGBClassifier</label><div class=\"sk-toggleable__content\"><pre>XGBClassifier(base_score=None, booster=None, callbacks=None,\n",
              "              colsample_bylevel=None, colsample_bynode=None,\n",
              "              colsample_bytree=None, device=None, early_stopping_rounds=None,\n",
              "              enable_categorical=False, eval_metric=&#x27;logloss&#x27;,\n",
              "              feature_types=None, gamma=None, grow_policy=None,\n",
              "              importance_type=None, interaction_constraints=None,\n",
              "              learning_rate=None, max_bin=None, max_cat_threshold=None,\n",
              "              max_cat_to_onehot=None, max_delta_step=None, max_depth=None,\n",
              "              max_leaves=None, min_child_weight=None, missing=nan,\n",
              "              monotone_constraints=None, multi_strategy=None, n_estimators=None,\n",
              "              n_jobs=None, num_parallel_tree=None, objective=&#x27;multi:softprob&#x27;, ...)</pre></div></div></div></div></div>"
            ],
            "text/plain": [
              "XGBClassifier(base_score=None, booster=None, callbacks=None,\n",
              "              colsample_bylevel=None, colsample_bynode=None,\n",
              "              colsample_bytree=None, device=None, early_stopping_rounds=None,\n",
              "              enable_categorical=False, eval_metric='logloss',\n",
              "              feature_types=None, gamma=None, grow_policy=None,\n",
              "              importance_type=None, interaction_constraints=None,\n",
              "              learning_rate=None, max_bin=None, max_cat_threshold=None,\n",
              "              max_cat_to_onehot=None, max_delta_step=None, max_depth=None,\n",
              "              max_leaves=None, min_child_weight=None, missing=nan,\n",
              "              monotone_constraints=None, multi_strategy=None, n_estimators=None,\n",
              "              n_jobs=None, num_parallel_tree=None, objective='multi:softprob', ...)"
            ]
          },
          "execution_count": 42,
          "metadata": {},
          "output_type": "execute_result"
        }
      ],
      "source": [
        "xgb_clf.fit(x_train, y_train)"
      ]
    },
    {
      "cell_type": "code",
      "execution_count": null,
      "metadata": {
        "execution": {
          "iopub.execute_input": "2025-03-08T10:26:11.981373Z",
          "iopub.status.busy": "2025-03-08T10:26:11.981052Z",
          "iopub.status.idle": "2025-03-08T10:26:11.990634Z",
          "shell.execute_reply": "2025-03-08T10:26:11.989176Z",
          "shell.execute_reply.started": "2025-03-08T10:26:11.981347Z"
        },
        "id": "zGKG8fvRvzBR",
        "outputId": "adfbe340-b6a8-417c-8b0e-8125919aed81"
      },
      "outputs": [
        {
          "data": {
            "text/plain": [
              "array([0, 0, 0, 0, 0, 0, 0, 0, 0, 0, 0, 0, 0, 0, 1, 0, 0, 0, 0, 0, 1, 0,\n",
              "       0, 0, 0, 0, 0, 0, 0, 0, 0, 0, 0, 0, 0, 0, 0, 0, 0, 0, 0, 0, 0, 0,\n",
              "       0, 0, 0, 0, 0, 0, 0, 0, 0, 3, 0, 0, 0, 0, 0, 0, 0, 0, 0, 0])"
            ]
          },
          "execution_count": 43,
          "metadata": {},
          "output_type": "execute_result"
        }
      ],
      "source": [
        "# Making Predictions\n",
        "\n",
        "y_pred = xgb_clf.predict(x_val)\n",
        "y_pred"
      ]
    },
    {
      "cell_type": "markdown",
      "metadata": {
        "id": "oYHMVustvzBR"
      },
      "source": [
        "#### Step-4: Evaluation"
      ]
    },
    {
      "cell_type": "code",
      "execution_count": null,
      "metadata": {
        "execution": {
          "iopub.execute_input": "2025-03-08T10:32:13.168803Z",
          "iopub.status.busy": "2025-03-08T10:32:13.168345Z",
          "iopub.status.idle": "2025-03-08T10:32:13.177722Z",
          "shell.execute_reply": "2025-03-08T10:32:13.176341Z",
          "shell.execute_reply.started": "2025-03-08T10:32:13.168770Z"
        },
        "id": "CmDbga5evzBR",
        "outputId": "bec438aa-a2e4-4b0a-869f-e72609ba6f7e"
      },
      "outputs": [
        {
          "name": "stdout",
          "output_type": "stream",
          "text": [
            "Accuracy of the XGBoost model is: 71.88 %\n"
          ]
        }
      ],
      "source": [
        "# Printing Accuracy for the model\n",
        "\n",
        "from sklearn.metrics import accuracy_score, confusion_matrix, classification_report\n",
        "\n",
        "accuracy = accuracy_score(y_val, y_pred)\n",
        "print(\"Accuracy of the XGBoost model is:\", round((accuracy*100),2), \"%\")"
      ]
    },
    {
      "cell_type": "code",
      "execution_count": null,
      "metadata": {
        "execution": {
          "iopub.execute_input": "2025-03-08T10:32:20.831068Z",
          "iopub.status.busy": "2025-03-08T10:32:20.830714Z",
          "iopub.status.idle": "2025-03-08T10:32:20.852897Z",
          "shell.execute_reply": "2025-03-08T10:32:20.851642Z",
          "shell.execute_reply.started": "2025-03-08T10:32:20.831041Z"
        },
        "id": "IIRoHbUVvzBS",
        "outputId": "1b651728-8bdd-4e51-f8dd-19b4a0a03810"
      },
      "outputs": [
        {
          "name": "stdout",
          "output_type": "stream",
          "text": [
            "Classification Report:\n",
            "\n",
            "              precision    recall  f1-score   support\n",
            "\n",
            "           I       0.74      0.98      0.84        46\n",
            "          II       0.50      0.10      0.17        10\n",
            "         III       0.00      0.00      0.00         3\n",
            "          IV       0.00      0.00      0.00         3\n",
            "           V       0.00      0.00      0.00         2\n",
            "\n",
            "    accuracy                           0.72        64\n",
            "   macro avg       0.25      0.22      0.20        64\n",
            "weighted avg       0.61      0.72      0.63        64\n",
            "\n"
          ]
        },
        {
          "name": "stderr",
          "output_type": "stream",
          "text": [
            "/usr/local/lib/python3.10/dist-packages/sklearn/metrics/_classification.py:1344: UndefinedMetricWarning: Precision and F-score are ill-defined and being set to 0.0 in labels with no predicted samples. Use `zero_division` parameter to control this behavior.\n",
            "  _warn_prf(average, modifier, msg_start, len(result))\n",
            "/usr/local/lib/python3.10/dist-packages/sklearn/metrics/_classification.py:1344: UndefinedMetricWarning: Precision and F-score are ill-defined and being set to 0.0 in labels with no predicted samples. Use `zero_division` parameter to control this behavior.\n",
            "  _warn_prf(average, modifier, msg_start, len(result))\n",
            "/usr/local/lib/python3.10/dist-packages/sklearn/metrics/_classification.py:1344: UndefinedMetricWarning: Precision and F-score are ill-defined and being set to 0.0 in labels with no predicted samples. Use `zero_division` parameter to control this behavior.\n",
            "  _warn_prf(average, modifier, msg_start, len(result))\n"
          ]
        }
      ],
      "source": [
        "# Printing a Classification Report (F1-score, Precision, Recall)\n",
        "\n",
        "print(\"Classification Report:\\n\")\n",
        "print(classification_report(y_val, y_pred, target_names=label_mapping.keys()))"
      ]
    },
    {
      "cell_type": "code",
      "execution_count": null,
      "metadata": {
        "execution": {
          "iopub.execute_input": "2025-03-08T10:32:32.148148Z",
          "iopub.status.busy": "2025-03-08T10:32:32.147786Z",
          "iopub.status.idle": "2025-03-08T10:32:32.442951Z",
          "shell.execute_reply": "2025-03-08T10:32:32.441805Z",
          "shell.execute_reply.started": "2025-03-08T10:32:32.148118Z"
        },
        "id": "xSB2PgQOvzBS",
        "outputId": "5ac655ca-234a-40bc-a598-78c4b748ce19"
      },
      "outputs": [
        {
          "data": {
            "image/png": "[encoded data removed]",
            "text/plain": [
              "<Figure size 600x500 with 2 Axes>"
            ]
          },
          "metadata": {},
          "output_type": "display_data"
        }
      ],
      "source": [
        "# Creating a Heatmap using Confusion Matrix\n",
        "\n",
        "conf_matrix = confusion_matrix(y_val, y_pred)\n",
        "\n",
        "plt.figure(figsize=(6,5))\n",
        "sns.heatmap(conf_matrix, annot=True, fmt=\"d\", cmap=\"crest\", xticklabels=label_mapping.keys(), yticklabels=label_mapping.keys())\n",
        "plt.xlabel(\"Predicted Label\")\n",
        "plt.ylabel(\"True Label\")\n",
        "plt.title(\"Confusion Matrix\")\n",
        "plt.show()\n"
      ]
    },
    {
      "cell_type": "markdown",
      "metadata": {
        "id": "jBWT-EFZvzBS"
      },
      "source": [
        "### Hyperparameter Tuning"
      ]
    },
    {
      "cell_type": "code",
      "execution_count": null,
      "metadata": {
        "execution": {
          "iopub.execute_input": "2025-03-08T10:38:32.071105Z",
          "iopub.status.busy": "2025-03-08T10:38:32.070672Z",
          "iopub.status.idle": "2025-03-08T10:38:32.076828Z",
          "shell.execute_reply": "2025-03-08T10:38:32.075573Z",
          "shell.execute_reply.started": "2025-03-08T10:38:32.071073Z"
        },
        "id": "ZZBdYQ8XvzBS"
      },
      "outputs": [],
      "source": [
        "from sklearn.model_selection import RandomizedSearchCV\n",
        "\n",
        "# Defining my parameters grid\n",
        "\n",
        "param_grid = {\n",
        "    'n_estimators': [50, 100, 200],\n",
        "    'max_depth': [3, 5, 7],\n",
        "    'learning_rate': [0.01, 0.1, 0.2],\n",
        "    'subsample': [0.7, 0.8, 1.0],\n",
        "    'gamma': [0, 0.1, 0.2],              # Minimum loss reduction\n",
        "    'reg_lambda': [1, 10],               # L2 regularization\n",
        "    'reg_alpha': [0, 0.1, 0.5],          # L1 regularization\n",
        "}"
      ]
    },
    {
      "cell_type": "code",
      "execution_count": null,
      "metadata": {
        "execution": {
          "iopub.execute_input": "2025-03-08T10:44:25.824700Z",
          "iopub.status.busy": "2025-03-08T10:44:25.824248Z",
          "iopub.status.idle": "2025-03-08T10:44:25.829602Z",
          "shell.execute_reply": "2025-03-08T10:44:25.828508Z",
          "shell.execute_reply.started": "2025-03-08T10:44:25.824650Z"
        },
        "id": "fBGoQuyfvzBT"
      },
      "outputs": [],
      "source": [
        "# Using the same XGBoost model as done previously, `xgb_clf`\n",
        "\n",
        "# Use RandomizedSearchCV figuring out the best hyperparameters\n",
        "\n",
        "random_search = RandomizedSearchCV(\n",
        "    estimator=xgb_clf,\n",
        "    param_distributions=param_grid,\n",
        "    n_iter=10,\n",
        "    scoring='accuracy', #Choosing 'accuracy' as my preferred metrics\n",
        "    cv=3,\n",
        "    verbose=2,\n",
        "    random_state=42,\n",
        "    n_jobs=-1\n",
        ")"
      ]
    },
    {
      "cell_type": "code",
      "execution_count": null,
      "metadata": {
        "execution": {
          "iopub.execute_input": "2025-03-08T10:44:55.006018Z",
          "iopub.status.busy": "2025-03-08T10:44:55.005635Z",
          "iopub.status.idle": "2025-03-08T10:45:35.951504Z",
          "shell.execute_reply": "2025-03-08T10:45:35.950250Z",
          "shell.execute_reply.started": "2025-03-08T10:44:55.005985Z"
        },
        "id": "R6vHYXrmvzBT",
        "outputId": "5c8de12b-3a29-420b-b6a1-53544e377423"
      },
      "outputs": [
        {
          "name": "stdout",
          "output_type": "stream",
          "text": [
            "Fitting 3 folds for each of 10 candidates, totalling 30 fits\n"
          ]
        },
        {
          "data": {
            "text/html": [
              "<style>#sk-container-id-2 {color: black;background-color: white;}#sk-container-id-2 pre{padding: 0;}#sk-container-id-2 div.sk-toggleable {background-color: white;}#sk-container-id-2 label.sk-toggleable__label {cursor: pointer;display: block;width: 100%;margin-bottom: 0;padding: 0.3em;box-sizing: border-box;text-align: center;}#sk-container-id-2 label.sk-toggleable__label-arrow:before {content: \"▸\";float: left;margin-right: 0.25em;color: #696969;}#sk-container-id-2 label.sk-toggleable__label-arrow:hover:before {color: black;}#sk-container-id-2 div.sk-estimator:hover label.sk-toggleable__label-arrow:before {color: black;}#sk-container-id-2 div.sk-toggleable__content {max-height: 0;max-width: 0;overflow: hidden;text-align: left;background-color: #f0f8ff;}#sk-container-id-2 div.sk-toggleable__content pre {margin: 0.2em;color: black;border-radius: 0.25em;background-color: #f0f8ff;}#sk-container-id-2 input.sk-toggleable__control:checked~div.sk-toggleable__content {max-height: 200px;max-width: 100%;overflow: auto;}#sk-container-id-2 input.sk-toggleable__control:checked~label.sk-toggleable__label-arrow:before {content: \"▾\";}#sk-container-id-2 div.sk-estimator input.sk-toggleable__control:checked~label.sk-toggleable__label {background-color: #d4ebff;}#sk-container-id-2 div.sk-label input.sk-toggleable__control:checked~label.sk-toggleable__label {background-color: #d4ebff;}#sk-container-id-2 input.sk-hidden--visually {border: 0;clip: rect(1px 1px 1px 1px);clip: rect(1px, 1px, 1px, 1px);height: 1px;margin: -1px;overflow: hidden;padding: 0;position: absolute;width: 1px;}#sk-container-id-2 div.sk-estimator {font-family: monospace;background-color: #f0f8ff;border: 1px dotted black;border-radius: 0.25em;box-sizing: border-box;margin-bottom: 0.5em;}#sk-container-id-2 div.sk-estimator:hover {background-color: #d4ebff;}#sk-container-id-2 div.sk-parallel-item::after {content: \"\";width: 100%;border-bottom: 1px solid gray;flex-grow: 1;}#sk-container-id-2 div.sk-label:hover label.sk-toggleable__label {background-color: #d4ebff;}#sk-container-id-2 div.sk-serial::before {content: \"\";position: absolute;border-left: 1px solid gray;box-sizing: border-box;top: 0;bottom: 0;left: 50%;z-index: 0;}#sk-container-id-2 div.sk-serial {display: flex;flex-direction: column;align-items: center;background-color: white;padding-right: 0.2em;padding-left: 0.2em;position: relative;}#sk-container-id-2 div.sk-item {position: relative;z-index: 1;}#sk-container-id-2 div.sk-parallel {display: flex;align-items: stretch;justify-content: center;background-color: white;position: relative;}#sk-container-id-2 div.sk-item::before, #sk-container-id-2 div.sk-parallel-item::before {content: \"\";position: absolute;border-left: 1px solid gray;box-sizing: border-box;top: 0;bottom: 0;left: 50%;z-index: -1;}#sk-container-id-2 div.sk-parallel-item {display: flex;flex-direction: column;z-index: 1;position: relative;background-color: white;}#sk-container-id-2 div.sk-parallel-item:first-child::after {align-self: flex-end;width: 50%;}#sk-container-id-2 div.sk-parallel-item:last-child::after {align-self: flex-start;width: 50%;}#sk-container-id-2 div.sk-parallel-item:only-child::after {width: 0;}#sk-container-id-2 div.sk-dashed-wrapped {border: 1px dashed gray;margin: 0 0.4em 0.5em 0.4em;box-sizing: border-box;padding-bottom: 0.4em;background-color: white;}#sk-container-id-2 div.sk-label label {font-family: monospace;font-weight: bold;display: inline-block;line-height: 1.2em;}#sk-container-id-2 div.sk-label-container {text-align: center;}#sk-container-id-2 div.sk-container {/* jupyter's `normalize.less` sets `[hidden] { display: none; }` but bootstrap.min.css set `[hidden] { display: none !important; }` so we also need the `!important` here to be able to override the default hidden behavior on the sphinx rendered scikit-learn.org. See: https://github.com/scikit-learn/scikit-learn/issues/21755 */display: inline-block !important;position: relative;}#sk-container-id-2 div.sk-text-repr-fallback {display: none;}</style><div id=\"sk-container-id-2\" class=\"sk-top-container\"><div class=\"sk-text-repr-fallback\"><pre>RandomizedSearchCV(cv=3,\n",
              "                   estimator=XGBClassifier(base_score=None, booster=None,\n",
              "                                           callbacks=None,\n",
              "                                           colsample_bylevel=None,\n",
              "                                           colsample_bynode=None,\n",
              "                                           colsample_bytree=None, device=None,\n",
              "                                           early_stopping_rounds=None,\n",
              "                                           enable_categorical=False,\n",
              "                                           eval_metric=&#x27;logloss&#x27;,\n",
              "                                           feature_types=None, gamma=None,\n",
              "                                           grow_policy=None,\n",
              "                                           importance_type=None,\n",
              "                                           interaction_constraints=None,\n",
              "                                           learning...\n",
              "                                           multi_strategy=None,\n",
              "                                           n_estimators=None, n_jobs=None,\n",
              "                                           num_parallel_tree=None,\n",
              "                                           objective=&#x27;multi:softprob&#x27;, ...),\n",
              "                   n_jobs=-1,\n",
              "                   param_distributions={&#x27;gamma&#x27;: [0, 0.1, 0.2],\n",
              "                                        &#x27;learning_rate&#x27;: [0.01, 0.1, 0.2],\n",
              "                                        &#x27;max_depth&#x27;: [3, 5, 7],\n",
              "                                        &#x27;n_estimators&#x27;: [50, 100, 200],\n",
              "                                        &#x27;reg_alpha&#x27;: [0, 0.1, 0.5],\n",
              "                                        &#x27;reg_lambda&#x27;: [1, 10],\n",
              "                                        &#x27;subsample&#x27;: [0.7, 0.8, 1.0]},\n",
              "                   random_state=42, scoring=&#x27;accuracy&#x27;, verbose=2)</pre><b>In a Jupyter environment, please rerun this cell to show the HTML representation or trust the notebook. <br />On GitHub, the HTML representation is unable to render, please try loading this page with nbviewer.org.</b></div><div class=\"sk-container\" hidden><div class=\"sk-item sk-dashed-wrapped\"><div class=\"sk-label-container\"><div class=\"sk-label sk-toggleable\"><input class=\"sk-toggleable__control sk-hidden--visually\" id=\"sk-estimator-id-2\" type=\"checkbox\" ><label for=\"sk-estimator-id-2\" class=\"sk-toggleable__label sk-toggleable__label-arrow\">RandomizedSearchCV</label><div class=\"sk-toggleable__content\"><pre>RandomizedSearchCV(cv=3,\n",
              "                   estimator=XGBClassifier(base_score=None, booster=None,\n",
              "                                           callbacks=None,\n",
              "                                           colsample_bylevel=None,\n",
              "                                           colsample_bynode=None,\n",
              "                                           colsample_bytree=None, device=None,\n",
              "                                           early_stopping_rounds=None,\n",
              "                                           enable_categorical=False,\n",
              "                                           eval_metric=&#x27;logloss&#x27;,\n",
              "                                           feature_types=None, gamma=None,\n",
              "                                           grow_policy=None,\n",
              "                                           importance_type=None,\n",
              "                                           interaction_constraints=None,\n",
              "                                           learning...\n",
              "                                           multi_strategy=None,\n",
              "                                           n_estimators=None, n_jobs=None,\n",
              "                                           num_parallel_tree=None,\n",
              "                                           objective=&#x27;multi:softprob&#x27;, ...),\n",
              "                   n_jobs=-1,\n",
              "                   param_distributions={&#x27;gamma&#x27;: [0, 0.1, 0.2],\n",
              "                                        &#x27;learning_rate&#x27;: [0.01, 0.1, 0.2],\n",
              "                                        &#x27;max_depth&#x27;: [3, 5, 7],\n",
              "                                        &#x27;n_estimators&#x27;: [50, 100, 200],\n",
              "                                        &#x27;reg_alpha&#x27;: [0, 0.1, 0.5],\n",
              "                                        &#x27;reg_lambda&#x27;: [1, 10],\n",
              "                                        &#x27;subsample&#x27;: [0.7, 0.8, 1.0]},\n",
              "                   random_state=42, scoring=&#x27;accuracy&#x27;, verbose=2)</pre></div></div></div><div class=\"sk-parallel\"><div class=\"sk-parallel-item\"><div class=\"sk-item\"><div class=\"sk-label-container\"><div class=\"sk-label sk-toggleable\"><input class=\"sk-toggleable__control sk-hidden--visually\" id=\"sk-estimator-id-3\" type=\"checkbox\" ><label for=\"sk-estimator-id-3\" class=\"sk-toggleable__label sk-toggleable__label-arrow\">estimator: XGBClassifier</label><div class=\"sk-toggleable__content\"><pre>XGBClassifier(base_score=None, booster=None, callbacks=None,\n",
              "              colsample_bylevel=None, colsample_bynode=None,\n",
              "              colsample_bytree=None, device=None, early_stopping_rounds=None,\n",
              "              enable_categorical=False, eval_metric=&#x27;logloss&#x27;,\n",
              "              feature_types=None, gamma=None, grow_policy=None,\n",
              "              importance_type=None, interaction_constraints=None,\n",
              "              learning_rate=None, max_bin=None, max_cat_threshold=None,\n",
              "              max_cat_to_onehot=None, max_delta_step=None, max_depth=None,\n",
              "              max_leaves=None, min_child_weight=None, missing=nan,\n",
              "              monotone_constraints=None, multi_strategy=None, n_estimators=None,\n",
              "              n_jobs=None, num_parallel_tree=None, objective=&#x27;multi:softprob&#x27;, ...)</pre></div></div></div><div class=\"sk-serial\"><div class=\"sk-item\"><div class=\"sk-estimator sk-toggleable\"><input class=\"sk-toggleable__control sk-hidden--visually\" id=\"sk-estimator-id-4\" type=\"checkbox\" ><label for=\"sk-estimator-id-4\" class=\"sk-toggleable__label sk-toggleable__label-arrow\">XGBClassifier</label><div class=\"sk-toggleable__content\"><pre>XGBClassifier(base_score=None, booster=None, callbacks=None,\n",
              "              colsample_bylevel=None, colsample_bynode=None,\n",
              "              colsample_bytree=None, device=None, early_stopping_rounds=None,\n",
              "              enable_categorical=False, eval_metric=&#x27;logloss&#x27;,\n",
              "              feature_types=None, gamma=None, grow_policy=None,\n",
              "              importance_type=None, interaction_constraints=None,\n",
              "              learning_rate=None, max_bin=None, max_cat_threshold=None,\n",
              "              max_cat_to_onehot=None, max_delta_step=None, max_depth=None,\n",
              "              max_leaves=None, min_child_weight=None, missing=nan,\n",
              "              monotone_constraints=None, multi_strategy=None, n_estimators=None,\n",
              "              n_jobs=None, num_parallel_tree=None, objective=&#x27;multi:softprob&#x27;, ...)</pre></div></div></div></div></div></div></div></div></div></div>"
            ],
            "text/plain": [
              "RandomizedSearchCV(cv=3,\n",
              "                   estimator=XGBClassifier(base_score=None, booster=None,\n",
              "                                           callbacks=None,\n",
              "                                           colsample_bylevel=None,\n",
              "                                           colsample_bynode=None,\n",
              "                                           colsample_bytree=None, device=None,\n",
              "                                           early_stopping_rounds=None,\n",
              "                                           enable_categorical=False,\n",
              "                                           eval_metric='logloss',\n",
              "                                           feature_types=None, gamma=None,\n",
              "                                           grow_policy=None,\n",
              "                                           importance_type=None,\n",
              "                                           interaction_constraints=None,\n",
              "                                           learning...\n",
              "                                           multi_strategy=None,\n",
              "                                           n_estimators=None, n_jobs=None,\n",
              "                                           num_parallel_tree=None,\n",
              "                                           objective='multi:softprob', ...),\n",
              "                   n_jobs=-1,\n",
              "                   param_distributions={'gamma': [0, 0.1, 0.2],\n",
              "                                        'learning_rate': [0.01, 0.1, 0.2],\n",
              "                                        'max_depth': [3, 5, 7],\n",
              "                                        'n_estimators': [50, 100, 200],\n",
              "                                        'reg_alpha': [0, 0.1, 0.5],\n",
              "                                        'reg_lambda': [1, 10],\n",
              "                                        'subsample': [0.7, 0.8, 1.0]},\n",
              "                   random_state=42, scoring='accuracy', verbose=2)"
            ]
          },
          "execution_count": 52,
          "metadata": {},
          "output_type": "execute_result"
        }
      ],
      "source": [
        "# Fitting RandomSearchCV() on training data\n",
        "\n",
        "random_search.fit(x_train, y_train)"
      ]
    },
    {
      "cell_type": "code",
      "execution_count": null,
      "metadata": {
        "execution": {
          "iopub.execute_input": "2025-03-08T10:46:13.688591Z",
          "iopub.status.busy": "2025-03-08T10:46:13.688160Z",
          "iopub.status.idle": "2025-03-08T10:46:13.694785Z",
          "shell.execute_reply": "2025-03-08T10:46:13.693296Z",
          "shell.execute_reply.started": "2025-03-08T10:46:13.688553Z"
        },
        "id": "2vEFgSJrvzBT",
        "outputId": "24ac3d51-5562-485e-d2f2-989b589c1e3e"
      },
      "outputs": [
        {
          "name": "stdout",
          "output_type": "stream",
          "text": [
            "Best Hyperparameters: {'subsample': 0.8, 'reg_lambda': 10, 'reg_alpha': 0.1, 'n_estimators': 200, 'max_depth': 7, 'learning_rate': 0.01, 'gamma': 0.2}\n"
          ]
        }
      ],
      "source": [
        "# Printing the Best hyperparameters from RandomSearchCV()\n",
        "\n",
        "print(\"Best Hyperparameters:\", random_search.best_params_)"
      ]
    },
    {
      "cell_type": "code",
      "execution_count": null,
      "metadata": {
        "execution": {
          "iopub.execute_input": "2025-03-08T10:46:44.043945Z",
          "iopub.status.busy": "2025-03-08T10:46:44.043348Z",
          "iopub.status.idle": "2025-03-08T10:46:44.049091Z",
          "shell.execute_reply": "2025-03-08T10:46:44.047803Z",
          "shell.execute_reply.started": "2025-03-08T10:46:44.043897Z"
        },
        "id": "4BBL66yovzBT"
      },
      "outputs": [],
      "source": [
        "# Training the final XGB model using best parameters from above\n",
        "\n",
        "best_xgb = random_search.best_estimator_"
      ]
    },
    {
      "cell_type": "code",
      "execution_count": null,
      "metadata": {
        "execution": {
          "iopub.execute_input": "2025-03-08T10:46:47.439631Z",
          "iopub.status.busy": "2025-03-08T10:46:47.439217Z",
          "iopub.status.idle": "2025-03-08T10:46:51.975027Z",
          "shell.execute_reply": "2025-03-08T10:46:51.974132Z",
          "shell.execute_reply.started": "2025-03-08T10:46:47.439583Z"
        },
        "id": "fKDkxQbOvzBT",
        "outputId": "cb4e17d2-b5c6-447f-ccbc-a407cc910c7f"
      },
      "outputs": [
        {
          "data": {
            "text/html": [
              "<style>#sk-container-id-3 {color: black;background-color: white;}#sk-container-id-3 pre{padding: 0;}#sk-container-id-3 div.sk-toggleable {background-color: white;}#sk-container-id-3 label.sk-toggleable__label {cursor: pointer;display: block;width: 100%;margin-bottom: 0;padding: 0.3em;box-sizing: border-box;text-align: center;}#sk-container-id-3 label.sk-toggleable__label-arrow:before {content: \"▸\";float: left;margin-right: 0.25em;color: #696969;}#sk-container-id-3 label.sk-toggleable__label-arrow:hover:before {color: black;}#sk-container-id-3 div.sk-estimator:hover label.sk-toggleable__label-arrow:before {color: black;}#sk-container-id-3 div.sk-toggleable__content {max-height: 0;max-width: 0;overflow: hidden;text-align: left;background-color: #f0f8ff;}#sk-container-id-3 div.sk-toggleable__content pre {margin: 0.2em;color: black;border-radius: 0.25em;background-color: #f0f8ff;}#sk-container-id-3 input.sk-toggleable__control:checked~div.sk-toggleable__content {max-height: 200px;max-width: 100%;overflow: auto;}#sk-container-id-3 input.sk-toggleable__control:checked~label.sk-toggleable__label-arrow:before {content: \"▾\";}#sk-container-id-3 div.sk-estimator input.sk-toggleable__control:checked~label.sk-toggleable__label {background-color: #d4ebff;}#sk-container-id-3 div.sk-label input.sk-toggleable__control:checked~label.sk-toggleable__label {background-color: #d4ebff;}#sk-container-id-3 input.sk-hidden--visually {border: 0;clip: rect(1px 1px 1px 1px);clip: rect(1px, 1px, 1px, 1px);height: 1px;margin: -1px;overflow: hidden;padding: 0;position: absolute;width: 1px;}#sk-container-id-3 div.sk-estimator {font-family: monospace;background-color: #f0f8ff;border: 1px dotted black;border-radius: 0.25em;box-sizing: border-box;margin-bottom: 0.5em;}#sk-container-id-3 div.sk-estimator:hover {background-color: #d4ebff;}#sk-container-id-3 div.sk-parallel-item::after {content: \"\";width: 100%;border-bottom: 1px solid gray;flex-grow: 1;}#sk-container-id-3 div.sk-label:hover label.sk-toggleable__label {background-color: #d4ebff;}#sk-container-id-3 div.sk-serial::before {content: \"\";position: absolute;border-left: 1px solid gray;box-sizing: border-box;top: 0;bottom: 0;left: 50%;z-index: 0;}#sk-container-id-3 div.sk-serial {display: flex;flex-direction: column;align-items: center;background-color: white;padding-right: 0.2em;padding-left: 0.2em;position: relative;}#sk-container-id-3 div.sk-item {position: relative;z-index: 1;}#sk-container-id-3 div.sk-parallel {display: flex;align-items: stretch;justify-content: center;background-color: white;position: relative;}#sk-container-id-3 div.sk-item::before, #sk-container-id-3 div.sk-parallel-item::before {content: \"\";position: absolute;border-left: 1px solid gray;box-sizing: border-box;top: 0;bottom: 0;left: 50%;z-index: -1;}#sk-container-id-3 div.sk-parallel-item {display: flex;flex-direction: column;z-index: 1;position: relative;background-color: white;}#sk-container-id-3 div.sk-parallel-item:first-child::after {align-self: flex-end;width: 50%;}#sk-container-id-3 div.sk-parallel-item:last-child::after {align-self: flex-start;width: 50%;}#sk-container-id-3 div.sk-parallel-item:only-child::after {width: 0;}#sk-container-id-3 div.sk-dashed-wrapped {border: 1px dashed gray;margin: 0 0.4em 0.5em 0.4em;box-sizing: border-box;padding-bottom: 0.4em;background-color: white;}#sk-container-id-3 div.sk-label label {font-family: monospace;font-weight: bold;display: inline-block;line-height: 1.2em;}#sk-container-id-3 div.sk-label-container {text-align: center;}#sk-container-id-3 div.sk-container {/* jupyter's `normalize.less` sets `[hidden] { display: none; }` but bootstrap.min.css set `[hidden] { display: none !important; }` so we also need the `!important` here to be able to override the default hidden behavior on the sphinx rendered scikit-learn.org. See: https://github.com/scikit-learn/scikit-learn/issues/21755 */display: inline-block !important;position: relative;}#sk-container-id-3 div.sk-text-repr-fallback {display: none;}</style><div id=\"sk-container-id-3\" class=\"sk-top-container\"><div class=\"sk-text-repr-fallback\"><pre>XGBClassifier(base_score=None, booster=None, callbacks=None,\n",
              "              colsample_bylevel=None, colsample_bynode=None,\n",
              "              colsample_bytree=None, device=None, early_stopping_rounds=None,\n",
              "              enable_categorical=False, eval_metric=&#x27;logloss&#x27;,\n",
              "              feature_types=None, gamma=0.2, grow_policy=None,\n",
              "              importance_type=None, interaction_constraints=None,\n",
              "              learning_rate=0.01, max_bin=None, max_cat_threshold=None,\n",
              "              max_cat_to_onehot=None, max_delta_step=None, max_depth=7,\n",
              "              max_leaves=None, min_child_weight=None, missing=nan,\n",
              "              monotone_constraints=None, multi_strategy=None, n_estimators=200,\n",
              "              n_jobs=None, num_parallel_tree=None, objective=&#x27;multi:softprob&#x27;, ...)</pre><b>In a Jupyter environment, please rerun this cell to show the HTML representation or trust the notebook. <br />On GitHub, the HTML representation is unable to render, please try loading this page with nbviewer.org.</b></div><div class=\"sk-container\" hidden><div class=\"sk-item\"><div class=\"sk-estimator sk-toggleable\"><input class=\"sk-toggleable__control sk-hidden--visually\" id=\"sk-estimator-id-5\" type=\"checkbox\" checked><label for=\"sk-estimator-id-5\" class=\"sk-toggleable__label sk-toggleable__label-arrow\">XGBClassifier</label><div class=\"sk-toggleable__content\"><pre>XGBClassifier(base_score=None, booster=None, callbacks=None,\n",
              "              colsample_bylevel=None, colsample_bynode=None,\n",
              "              colsample_bytree=None, device=None, early_stopping_rounds=None,\n",
              "              enable_categorical=False, eval_metric=&#x27;logloss&#x27;,\n",
              "              feature_types=None, gamma=0.2, grow_policy=None,\n",
              "              importance_type=None, interaction_constraints=None,\n",
              "              learning_rate=0.01, max_bin=None, max_cat_threshold=None,\n",
              "              max_cat_to_onehot=None, max_delta_step=None, max_depth=7,\n",
              "              max_leaves=None, min_child_weight=None, missing=nan,\n",
              "              monotone_constraints=None, multi_strategy=None, n_estimators=200,\n",
              "              n_jobs=None, num_parallel_tree=None, objective=&#x27;multi:softprob&#x27;, ...)</pre></div></div></div></div></div>"
            ],
            "text/plain": [
              "XGBClassifier(base_score=None, booster=None, callbacks=None,\n",
              "              colsample_bylevel=None, colsample_bynode=None,\n",
              "              colsample_bytree=None, device=None, early_stopping_rounds=None,\n",
              "              enable_categorical=False, eval_metric='logloss',\n",
              "              feature_types=None, gamma=0.2, grow_policy=None,\n",
              "              importance_type=None, interaction_constraints=None,\n",
              "              learning_rate=0.01, max_bin=None, max_cat_threshold=None,\n",
              "              max_cat_to_onehot=None, max_delta_step=None, max_depth=7,\n",
              "              max_leaves=None, min_child_weight=None, missing=nan,\n",
              "              monotone_constraints=None, multi_strategy=None, n_estimators=200,\n",
              "              n_jobs=None, num_parallel_tree=None, objective='multi:softprob', ...)"
            ]
          },
          "execution_count": 56,
          "metadata": {},
          "output_type": "execute_result"
        }
      ],
      "source": [
        "best_xgb.fit(x_train, y_train)"
      ]
    },
    {
      "cell_type": "code",
      "execution_count": null,
      "metadata": {
        "execution": {
          "iopub.execute_input": "2025-03-08T10:47:21.987027Z",
          "iopub.status.busy": "2025-03-08T10:47:21.986646Z",
          "iopub.status.idle": "2025-03-08T10:47:21.999807Z",
          "shell.execute_reply": "2025-03-08T10:47:21.998070Z",
          "shell.execute_reply.started": "2025-03-08T10:47:21.986996Z"
        },
        "id": "0r-4Vd2AvzBT",
        "outputId": "0481c6cb-9d34-4a3f-a230-6947690fa66d"
      },
      "outputs": [
        {
          "name": "stdout",
          "output_type": "stream",
          "text": [
            "Validation Accuracy: 71.88 %\n"
          ]
        }
      ],
      "source": [
        "# Evaluating the above \"Best Model\" on validation data\n",
        "\n",
        "y_val_pred = best_xgb.predict(x_val)\n",
        "accuracy_val = accuracy_score(y_val, y_val_pred)\n",
        "print(\"Validation Accuracy:\", round((accuracy_val * 100), 2), \"%\")"
      ]
    },
    {
      "cell_type": "code",
      "execution_count": null,
      "metadata": {
        "execution": {
          "iopub.execute_input": "2025-03-08T10:47:38.458568Z",
          "iopub.status.busy": "2025-03-08T10:47:38.458188Z",
          "iopub.status.idle": "2025-03-08T10:47:38.483281Z",
          "shell.execute_reply": "2025-03-08T10:47:38.481586Z",
          "shell.execute_reply.started": "2025-03-08T10:47:38.458536Z"
        },
        "id": "IB70WadavzBT",
        "outputId": "2b08b15d-73a6-43d2-fb7f-1d437bfc678c"
      },
      "outputs": [
        {
          "name": "stdout",
          "output_type": "stream",
          "text": [
            "Test Accuracy: 72.94 %\n"
          ]
        }
      ],
      "source": [
        "# Evaluating on test data\n",
        "\n",
        "y_test_pred = best_xgb.predict(x_test)\n",
        "accuracy_test = accuracy_score(y_test, y_test_pred)\n",
        "print(\"Test Accuracy:\", round((accuracy_test * 100), 2), \"%\")"
      ]
    },
    {
      "cell_type": "code",
      "execution_count": null,
      "metadata": {
        "execution": {
          "iopub.execute_input": "2025-03-08T10:47:53.072020Z",
          "iopub.status.busy": "2025-03-08T10:47:53.071649Z",
          "iopub.status.idle": "2025-03-08T10:47:53.088324Z",
          "shell.execute_reply": "2025-03-08T10:47:53.087243Z",
          "shell.execute_reply.started": "2025-03-08T10:47:53.071991Z"
        },
        "id": "GNau-nwRvzBT",
        "outputId": "8b08a2bf-fa78-4692-e466-1b2822465a59"
      },
      "outputs": [
        {
          "name": "stdout",
          "output_type": "stream",
          "text": [
            "\n",
            "Classification Report (Test Data):\n",
            "               precision    recall  f1-score   support\n",
            "\n",
            "           0       0.73      1.00      0.84        62\n",
            "           1       0.00      0.00      0.00        12\n",
            "           2       0.00      0.00      0.00         4\n",
            "           3       0.00      0.00      0.00         5\n",
            "           4       0.00      0.00      0.00         2\n",
            "\n",
            "    accuracy                           0.73        85\n",
            "   macro avg       0.15      0.20      0.17        85\n",
            "weighted avg       0.53      0.73      0.62        85\n",
            "\n"
          ]
        },
        {
          "name": "stderr",
          "output_type": "stream",
          "text": [
            "/usr/local/lib/python3.10/dist-packages/sklearn/metrics/_classification.py:1344: UndefinedMetricWarning: Precision and F-score are ill-defined and being set to 0.0 in labels with no predicted samples. Use `zero_division` parameter to control this behavior.\n",
            "  _warn_prf(average, modifier, msg_start, len(result))\n",
            "/usr/local/lib/python3.10/dist-packages/sklearn/metrics/_classification.py:1344: UndefinedMetricWarning: Precision and F-score are ill-defined and being set to 0.0 in labels with no predicted samples. Use `zero_division` parameter to control this behavior.\n",
            "  _warn_prf(average, modifier, msg_start, len(result))\n",
            "/usr/local/lib/python3.10/dist-packages/sklearn/metrics/_classification.py:1344: UndefinedMetricWarning: Precision and F-score are ill-defined and being set to 0.0 in labels with no predicted samples. Use `zero_division` parameter to control this behavior.\n",
            "  _warn_prf(average, modifier, msg_start, len(result))\n"
          ]
        }
      ],
      "source": [
        "# Printing Classification Report\n",
        "\n",
        "print(\"\\nClassification Report (Test Data):\\n\", classification_report(y_test, y_test_pred))"
      ]
    },
    {
      "cell_type": "markdown",
      "metadata": {
        "id": "nW43Cw3IvzBU"
      },
      "source": [
        "## Observations on Model performance:\n",
        "* Before Hyperparameter tuning:\n",
        "  - Model had an accuracy of 72% on validation set\n",
        "* After Hyperparameter tuning:\n",
        "  - Model's accuracy has remained constant at 72% on validation set\n",
        "  - On Test data, Model's accuracy was 73%, a small increase of 1 percentage points over that of validation set"
      ]
    },
    {
      "cell_type": "markdown",
      "source": [
        "\n",
        "---\n",
        "\n",
        "# Part-2\n",
        "\n",
        "## RNNs and Transformers\n",
        "\n",
        "\n",
        "\n",
        "> The following data has been appended from a different notebook which tries to utilize RNN and Transformer Models to determine the \"Accident Level\" from \"Accident Descriptions\".\n",
        "\n",
        "> Since the following is from a different notebook, a few steps like 'Importing Data', etc. are performed again.\n"
      ],
      "metadata": {
        "id": "MMvbHhBmv7Lc"
      }
    },
    {
      "cell_type": "markdown",
      "metadata": {
        "id": "cGw1tp4tH1lZ"
      },
      "source": [
        "<b>Importing necessary packages</b>"
      ]
    },
    {
      "cell_type": "code",
      "execution_count": null,
      "metadata": {
        "execution": {
          "iopub.execute_input": "2025-03-27T20:40:48.706760Z",
          "iopub.status.busy": "2025-03-27T20:40:48.706472Z",
          "iopub.status.idle": "2025-03-27T20:40:49.551481Z",
          "shell.execute_reply": "2025-03-27T20:40:49.550781Z",
          "shell.execute_reply.started": "2025-03-27T20:40:48.706738Z"
        },
        "id": "skhlqagQH5q4"
      },
      "outputs": [],
      "source": [
        "import numpy as np\n",
        "import pandas as pd\n",
        "import matplotlib.pyplot as plt\n",
        "%matplotlib inline\n",
        "import seaborn as sns\n",
        "\n",
        "import warnings\n",
        "warnings.filterwarnings('ignore')\n",
        "\n",
        "from sklearn.model_selection import train_test_split, cross_val_score, GridSearchCV, RandomizedSearchCV\n",
        "from sklearn.preprocessing import StandardScaler, LabelEncoder, MinMaxScaler\n",
        "from sklearn import metrics\n",
        "from scipy.stats import zscore\n",
        "from sklearn.metrics import classification_report, accuracy_score, precision_score, recall_score,f1_score, confusion_matrix\n",
        "\n",
        "from sklearn.metrics import classification_report\n",
        "\n",
        "\n",
        "from tqdm import tqdm\n",
        "tqdm.pandas()"
      ]
    },
    {
      "cell_type": "code",
      "execution_count": null,
      "metadata": {
        "execution": {
          "iopub.execute_input": "2025-03-27T20:40:49.552906Z",
          "iopub.status.busy": "2025-03-27T20:40:49.552495Z",
          "iopub.status.idle": "2025-03-27T20:41:02.475157Z",
          "shell.execute_reply": "2025-03-27T20:41:02.474518Z",
          "shell.execute_reply.started": "2025-03-27T20:40:49.552875Z"
        },
        "id": "FzRC8Ak1vzBU"
      },
      "outputs": [],
      "source": [
        "from gensim.models import Word2Vec\n",
        "from gensim.models import KeyedVectors\n",
        "from gensim.scripts.glove2word2vec import glove2word2vec\n",
        "\n",
        "import torch\n",
        "from sentence_transformers import SentenceTransformer\n",
        "\n",
        "from huggingface_hub import hf_hub_download"
      ]
    },
    {
      "cell_type": "markdown",
      "metadata": {
        "id": "NwV9bYsWJjvv"
      },
      "source": [
        "<b>Data Preprocessing and Visualization</b>"
      ]
    },
    {
      "cell_type": "code",
      "execution_count": null,
      "metadata": {
        "execution": {
          "iopub.execute_input": "2025-03-27T20:41:02.476993Z",
          "iopub.status.busy": "2025-03-27T20:41:02.476411Z",
          "iopub.status.idle": "2025-03-27T20:41:02.677311Z",
          "shell.execute_reply": "2025-03-27T20:41:02.676713Z",
          "shell.execute_reply.started": "2025-03-27T20:41:02.476967Z"
        },
        "id": "Ee0Zezy1Jvfy"
      },
      "outputs": [],
      "source": [
        "# Load the data\n",
        "\n",
        "data = pd.read_excel('/kaggle/input/accident-descritpions/Data Set - Industrial Safety and Health Database with Accidents Description.xlsx')"
      ]
    },
    {
      "cell_type": "code",
      "execution_count": null,
      "metadata": {
        "execution": {
          "iopub.execute_input": "2025-03-27T20:41:02.678716Z",
          "iopub.status.busy": "2025-03-27T20:41:02.678245Z",
          "iopub.status.idle": "2025-03-27T20:41:02.682320Z",
          "shell.execute_reply": "2025-03-27T20:41:02.681668Z",
          "shell.execute_reply.started": "2025-03-27T20:41:02.678689Z"
        },
        "id": "8cF6KZJjKSLC"
      },
      "outputs": [],
      "source": [
        "# Take copy of the datasets and use the copied dataset\n",
        "df = data.copy()"
      ]
    },
    {
      "cell_type": "markdown",
      "metadata": {
        "id": "-XaVaXzzKWBG"
      },
      "source": [
        "<b>Data Overview</b>"
      ]
    },
    {
      "cell_type": "code",
      "execution_count": null,
      "metadata": {
        "colab": {
          "base_uri": "https://localhost:8080/",
          "height": 206
        },
        "execution": {
          "iopub.execute_input": "2025-03-27T20:41:02.683345Z",
          "iopub.status.busy": "2025-03-27T20:41:02.683055Z",
          "iopub.status.idle": "2025-03-27T20:41:02.707011Z",
          "shell.execute_reply": "2025-03-27T20:41:02.706371Z",
          "shell.execute_reply.started": "2025-03-27T20:41:02.683316Z"
        },
        "id": "EkHVdFvnKXdF",
        "outputId": "fba54e18-1d3d-4595-e8f1-ce6faa8eadc8"
      },
      "outputs": [
        {
          "data": {
            "text/html": [
              "<div>\n",
              "<style scoped>\n",
              "    .dataframe tbody tr th:only-of-type {\n",
              "        vertical-align: middle;\n",
              "    }\n",
              "\n",
              "    .dataframe tbody tr th {\n",
              "        vertical-align: top;\n",
              "    }\n",
              "\n",
              "    .dataframe thead th {\n",
              "        text-align: right;\n",
              "    }\n",
              "</style>\n",
              "<table border=\"1\" class=\"dataframe\">\n",
              "  <thead>\n",
              "    <tr style=\"text-align: right;\">\n",
              "      <th></th>\n",
              "      <th>Unnamed: 0</th>\n",
              "      <th>Data</th>\n",
              "      <th>Countries</th>\n",
              "      <th>Local</th>\n",
              "      <th>Industry Sector</th>\n",
              "      <th>Accident Level</th>\n",
              "      <th>Potential Accident Level</th>\n",
              "      <th>Genre</th>\n",
              "      <th>Employee or Third Party</th>\n",
              "      <th>Critical Risk</th>\n",
              "      <th>Description</th>\n",
              "    </tr>\n",
              "  </thead>\n",
              "  <tbody>\n",
              "    <tr>\n",
              "      <th>0</th>\n",
              "      <td>0</td>\n",
              "      <td>2016-01-01</td>\n",
              "      <td>Country_01</td>\n",
              "      <td>Local_01</td>\n",
              "      <td>Mining</td>\n",
              "      <td>I</td>\n",
              "      <td>IV</td>\n",
              "      <td>Male</td>\n",
              "      <td>Third Party</td>\n",
              "      <td>Pressed</td>\n",
              "      <td>While removing the drill rod of the Jumbo 08 f...</td>\n",
              "    </tr>\n",
              "    <tr>\n",
              "      <th>1</th>\n",
              "      <td>1</td>\n",
              "      <td>2016-01-02</td>\n",
              "      <td>Country_02</td>\n",
              "      <td>Local_02</td>\n",
              "      <td>Mining</td>\n",
              "      <td>I</td>\n",
              "      <td>IV</td>\n",
              "      <td>Male</td>\n",
              "      <td>Employee</td>\n",
              "      <td>Pressurized Systems</td>\n",
              "      <td>During the activation of a sodium sulphide pum...</td>\n",
              "    </tr>\n",
              "    <tr>\n",
              "      <th>2</th>\n",
              "      <td>2</td>\n",
              "      <td>2016-01-06</td>\n",
              "      <td>Country_01</td>\n",
              "      <td>Local_03</td>\n",
              "      <td>Mining</td>\n",
              "      <td>I</td>\n",
              "      <td>III</td>\n",
              "      <td>Male</td>\n",
              "      <td>Third Party (Remote)</td>\n",
              "      <td>Manual Tools</td>\n",
              "      <td>In the sub-station MILPO located at level +170...</td>\n",
              "    </tr>\n",
              "    <tr>\n",
              "      <th>3</th>\n",
              "      <td>3</td>\n",
              "      <td>2016-01-08</td>\n",
              "      <td>Country_01</td>\n",
              "      <td>Local_04</td>\n",
              "      <td>Mining</td>\n",
              "      <td>I</td>\n",
              "      <td>I</td>\n",
              "      <td>Male</td>\n",
              "      <td>Third Party</td>\n",
              "      <td>Others</td>\n",
              "      <td>Being 9:45 am. approximately in the Nv. 1880 C...</td>\n",
              "    </tr>\n",
              "    <tr>\n",
              "      <th>4</th>\n",
              "      <td>4</td>\n",
              "      <td>2016-01-10</td>\n",
              "      <td>Country_01</td>\n",
              "      <td>Local_04</td>\n",
              "      <td>Mining</td>\n",
              "      <td>IV</td>\n",
              "      <td>IV</td>\n",
              "      <td>Male</td>\n",
              "      <td>Third Party</td>\n",
              "      <td>Others</td>\n",
              "      <td>Approximately at 11:45 a.m. in circumstances t...</td>\n",
              "    </tr>\n",
              "  </tbody>\n",
              "</table>\n",
              "</div>"
            ],
            "text/plain": [
              "   Unnamed: 0       Data   Countries     Local Industry Sector Accident Level  \\\n",
              "0           0 2016-01-01  Country_01  Local_01          Mining              I   \n",
              "1           1 2016-01-02  Country_02  Local_02          Mining              I   \n",
              "2           2 2016-01-06  Country_01  Local_03          Mining              I   \n",
              "3           3 2016-01-08  Country_01  Local_04          Mining              I   \n",
              "4           4 2016-01-10  Country_01  Local_04          Mining             IV   \n",
              "\n",
              "  Potential Accident Level Genre Employee or Third Party        Critical Risk  \\\n",
              "0                       IV  Male             Third Party              Pressed   \n",
              "1                       IV  Male                Employee  Pressurized Systems   \n",
              "2                      III  Male    Third Party (Remote)         Manual Tools   \n",
              "3                        I  Male             Third Party               Others   \n",
              "4                       IV  Male             Third Party               Others   \n",
              "\n",
              "                                         Description  \n",
              "0  While removing the drill rod of the Jumbo 08 f...  \n",
              "1  During the activation of a sodium sulphide pum...  \n",
              "2  In the sub-station MILPO located at level +170...  \n",
              "3  Being 9:45 am. approximately in the Nv. 1880 C...  \n",
              "4  Approximately at 11:45 a.m. in circumstances t...  "
            ]
          },
          "execution_count": 5,
          "metadata": {},
          "output_type": "execute_result"
        }
      ],
      "source": [
        "# Display the first five rows\n",
        "df.head()"
      ]
    },
    {
      "cell_type": "markdown",
      "metadata": {
        "id": "x5BK2H4im3Fi"
      },
      "source": [
        "**Observations:**\n",
        "\n",
        "As one of the column don't have any column name and its values don't affect the dataset, lets remove the column"
      ]
    },
    {
      "cell_type": "code",
      "execution_count": null,
      "metadata": {
        "execution": {
          "iopub.execute_input": "2025-03-27T20:41:02.707941Z",
          "iopub.status.busy": "2025-03-27T20:41:02.707679Z",
          "iopub.status.idle": "2025-03-27T20:41:02.712583Z",
          "shell.execute_reply": "2025-03-27T20:41:02.711680Z",
          "shell.execute_reply.started": "2025-03-27T20:41:02.707921Z"
        },
        "id": "-3zmJsYOm_1y"
      },
      "outputs": [],
      "source": [
        "df = df.loc[:, ~df.columns.str.contains('^Unnamed')]"
      ]
    },
    {
      "cell_type": "markdown",
      "metadata": {
        "id": "K6IM1LjUncP_"
      },
      "source": [
        "Check if the unnamed column has been excluded"
      ]
    },
    {
      "cell_type": "code",
      "execution_count": null,
      "metadata": {
        "colab": {
          "base_uri": "https://localhost:8080/",
          "height": 206
        },
        "execution": {
          "iopub.execute_input": "2025-03-27T20:41:02.713647Z",
          "iopub.status.busy": "2025-03-27T20:41:02.713424Z",
          "iopub.status.idle": "2025-03-27T20:41:02.733636Z",
          "shell.execute_reply": "2025-03-27T20:41:02.732848Z",
          "shell.execute_reply.started": "2025-03-27T20:41:02.713623Z"
        },
        "id": "Jmpeq9fOnezC",
        "outputId": "a3f7e900-f748-4289-91ef-44991c3d0130"
      },
      "outputs": [
        {
          "data": {
            "text/html": [
              "<div>\n",
              "<style scoped>\n",
              "    .dataframe tbody tr th:only-of-type {\n",
              "        vertical-align: middle;\n",
              "    }\n",
              "\n",
              "    .dataframe tbody tr th {\n",
              "        vertical-align: top;\n",
              "    }\n",
              "\n",
              "    .dataframe thead th {\n",
              "        text-align: right;\n",
              "    }\n",
              "</style>\n",
              "<table border=\"1\" class=\"dataframe\">\n",
              "  <thead>\n",
              "    <tr style=\"text-align: right;\">\n",
              "      <th></th>\n",
              "      <th>Data</th>\n",
              "      <th>Countries</th>\n",
              "      <th>Local</th>\n",
              "      <th>Industry Sector</th>\n",
              "      <th>Accident Level</th>\n",
              "      <th>Potential Accident Level</th>\n",
              "      <th>Genre</th>\n",
              "      <th>Employee or Third Party</th>\n",
              "      <th>Critical Risk</th>\n",
              "      <th>Description</th>\n",
              "    </tr>\n",
              "  </thead>\n",
              "  <tbody>\n",
              "    <tr>\n",
              "      <th>0</th>\n",
              "      <td>2016-01-01</td>\n",
              "      <td>Country_01</td>\n",
              "      <td>Local_01</td>\n",
              "      <td>Mining</td>\n",
              "      <td>I</td>\n",
              "      <td>IV</td>\n",
              "      <td>Male</td>\n",
              "      <td>Third Party</td>\n",
              "      <td>Pressed</td>\n",
              "      <td>While removing the drill rod of the Jumbo 08 f...</td>\n",
              "    </tr>\n",
              "    <tr>\n",
              "      <th>1</th>\n",
              "      <td>2016-01-02</td>\n",
              "      <td>Country_02</td>\n",
              "      <td>Local_02</td>\n",
              "      <td>Mining</td>\n",
              "      <td>I</td>\n",
              "      <td>IV</td>\n",
              "      <td>Male</td>\n",
              "      <td>Employee</td>\n",
              "      <td>Pressurized Systems</td>\n",
              "      <td>During the activation of a sodium sulphide pum...</td>\n",
              "    </tr>\n",
              "    <tr>\n",
              "      <th>2</th>\n",
              "      <td>2016-01-06</td>\n",
              "      <td>Country_01</td>\n",
              "      <td>Local_03</td>\n",
              "      <td>Mining</td>\n",
              "      <td>I</td>\n",
              "      <td>III</td>\n",
              "      <td>Male</td>\n",
              "      <td>Third Party (Remote)</td>\n",
              "      <td>Manual Tools</td>\n",
              "      <td>In the sub-station MILPO located at level +170...</td>\n",
              "    </tr>\n",
              "    <tr>\n",
              "      <th>3</th>\n",
              "      <td>2016-01-08</td>\n",
              "      <td>Country_01</td>\n",
              "      <td>Local_04</td>\n",
              "      <td>Mining</td>\n",
              "      <td>I</td>\n",
              "      <td>I</td>\n",
              "      <td>Male</td>\n",
              "      <td>Third Party</td>\n",
              "      <td>Others</td>\n",
              "      <td>Being 9:45 am. approximately in the Nv. 1880 C...</td>\n",
              "    </tr>\n",
              "    <tr>\n",
              "      <th>4</th>\n",
              "      <td>2016-01-10</td>\n",
              "      <td>Country_01</td>\n",
              "      <td>Local_04</td>\n",
              "      <td>Mining</td>\n",
              "      <td>IV</td>\n",
              "      <td>IV</td>\n",
              "      <td>Male</td>\n",
              "      <td>Third Party</td>\n",
              "      <td>Others</td>\n",
              "      <td>Approximately at 11:45 a.m. in circumstances t...</td>\n",
              "    </tr>\n",
              "  </tbody>\n",
              "</table>\n",
              "</div>"
            ],
            "text/plain": [
              "        Data   Countries     Local Industry Sector Accident Level  \\\n",
              "0 2016-01-01  Country_01  Local_01          Mining              I   \n",
              "1 2016-01-02  Country_02  Local_02          Mining              I   \n",
              "2 2016-01-06  Country_01  Local_03          Mining              I   \n",
              "3 2016-01-08  Country_01  Local_04          Mining              I   \n",
              "4 2016-01-10  Country_01  Local_04          Mining             IV   \n",
              "\n",
              "  Potential Accident Level Genre Employee or Third Party        Critical Risk  \\\n",
              "0                       IV  Male             Third Party              Pressed   \n",
              "1                       IV  Male                Employee  Pressurized Systems   \n",
              "2                      III  Male    Third Party (Remote)         Manual Tools   \n",
              "3                        I  Male             Third Party               Others   \n",
              "4                       IV  Male             Third Party               Others   \n",
              "\n",
              "                                         Description  \n",
              "0  While removing the drill rod of the Jumbo 08 f...  \n",
              "1  During the activation of a sodium sulphide pum...  \n",
              "2  In the sub-station MILPO located at level +170...  \n",
              "3  Being 9:45 am. approximately in the Nv. 1880 C...  \n",
              "4  Approximately at 11:45 a.m. in circumstances t...  "
            ]
          },
          "execution_count": 7,
          "metadata": {},
          "output_type": "execute_result"
        }
      ],
      "source": [
        "df.head()"
      ]
    },
    {
      "cell_type": "code",
      "execution_count": null,
      "metadata": {
        "colab": {
          "base_uri": "https://localhost:8080/"
        },
        "execution": {
          "iopub.execute_input": "2025-03-27T20:41:02.736197Z",
          "iopub.status.busy": "2025-03-27T20:41:02.735985Z",
          "iopub.status.idle": "2025-03-27T20:41:02.749411Z",
          "shell.execute_reply": "2025-03-27T20:41:02.748680Z",
          "shell.execute_reply.started": "2025-03-27T20:41:02.736178Z"
        },
        "id": "DSLTCPy3uFoR",
        "outputId": "492f079c-3f1b-4ff4-b251-a1590df17a52"
      },
      "outputs": [
        {
          "data": {
            "text/plain": [
              "7"
            ]
          },
          "execution_count": 8,
          "metadata": {},
          "output_type": "execute_result"
        }
      ],
      "source": [
        "# Check duplicate values\n",
        "df.duplicated().sum()"
      ]
    },
    {
      "cell_type": "code",
      "execution_count": null,
      "metadata": {
        "execution": {
          "iopub.execute_input": "2025-03-27T20:41:02.751347Z",
          "iopub.status.busy": "2025-03-27T20:41:02.751060Z",
          "iopub.status.idle": "2025-03-27T20:41:02.763313Z",
          "shell.execute_reply": "2025-03-27T20:41:02.762673Z",
          "shell.execute_reply.started": "2025-03-27T20:41:02.751315Z"
        },
        "id": "k4Jc8cTNN-0q"
      },
      "outputs": [],
      "source": [
        "df.drop_duplicates(inplace=True)"
      ]
    },
    {
      "cell_type": "code",
      "execution_count": null,
      "metadata": {
        "execution": {
          "iopub.execute_input": "2025-03-27T20:41:02.764374Z",
          "iopub.status.busy": "2025-03-27T20:41:02.764102Z",
          "iopub.status.idle": "2025-03-27T20:41:02.776815Z",
          "shell.execute_reply": "2025-03-27T20:41:02.776037Z",
          "shell.execute_reply.started": "2025-03-27T20:41:02.764354Z"
        },
        "id": "Kq9xmdVySrmv"
      },
      "outputs": [],
      "source": [
        "# Reset index\n",
        "df = df.reset_index()"
      ]
    },
    {
      "cell_type": "markdown",
      "metadata": {
        "id": "ZnYgP7yvZLLp"
      },
      "source": [
        "*Check for missing values in the dataframe*"
      ]
    },
    {
      "cell_type": "code",
      "execution_count": null,
      "metadata": {
        "colab": {
          "base_uri": "https://localhost:8080/",
          "height": 429
        },
        "execution": {
          "iopub.execute_input": "2025-03-27T20:41:02.777693Z",
          "iopub.status.busy": "2025-03-27T20:41:02.777486Z",
          "iopub.status.idle": "2025-03-27T20:41:02.794466Z",
          "shell.execute_reply": "2025-03-27T20:41:02.793661Z",
          "shell.execute_reply.started": "2025-03-27T20:41:02.777675Z"
        },
        "id": "v4gUXIo0ZPB6",
        "outputId": "f1e093e1-73f4-4103-e276-767bfe410904"
      },
      "outputs": [
        {
          "data": {
            "text/plain": [
              "index                       0\n",
              "Data                        0\n",
              "Countries                   0\n",
              "Local                       0\n",
              "Industry Sector             0\n",
              "Accident Level              0\n",
              "Potential Accident Level    0\n",
              "Genre                       0\n",
              "Employee or Third Party     0\n",
              "Critical Risk               0\n",
              "Description                 0\n",
              "dtype: int64"
            ]
          },
          "execution_count": 11,
          "metadata": {},
          "output_type": "execute_result"
        }
      ],
      "source": [
        "# Check if there is any NAN values available in the dataset\n",
        "pd.isna(df).sum()"
      ]
    },
    {
      "cell_type": "code",
      "execution_count": null,
      "metadata": {
        "colab": {
          "base_uri": "https://localhost:8080/",
          "height": 429
        },
        "execution": {
          "iopub.execute_input": "2025-03-27T20:41:02.795563Z",
          "iopub.status.busy": "2025-03-27T20:41:02.795290Z",
          "iopub.status.idle": "2025-03-27T20:41:02.814669Z",
          "shell.execute_reply": "2025-03-27T20:41:02.813953Z",
          "shell.execute_reply.started": "2025-03-27T20:41:02.795543Z"
        },
        "id": "jNGcHM12Z-u8",
        "outputId": "de39af51-53f3-4273-b93b-2c17c88dcf71"
      },
      "outputs": [
        {
          "data": {
            "text/plain": [
              "index                       0\n",
              "Data                        0\n",
              "Countries                   0\n",
              "Local                       0\n",
              "Industry Sector             0\n",
              "Accident Level              0\n",
              "Potential Accident Level    0\n",
              "Genre                       0\n",
              "Employee or Third Party     0\n",
              "Critical Risk               0\n",
              "Description                 0\n",
              "dtype: int64"
            ]
          },
          "execution_count": 12,
          "metadata": {},
          "output_type": "execute_result"
        }
      ],
      "source": [
        "# Check for the empty values in the dataset\n",
        "df.isin([' ']).sum()"
      ]
    },
    {
      "cell_type": "markdown",
      "metadata": {
        "id": "_FADpfKkeeGA"
      },
      "source": [
        "**Observations:**\n",
        "\n",
        "- There are no null values, no empty values or NAN values available in the dataframe"
      ]
    },
    {
      "cell_type": "code",
      "execution_count": null,
      "metadata": {
        "execution": {
          "iopub.execute_input": "2025-03-27T20:41:02.815733Z",
          "iopub.status.busy": "2025-03-27T20:41:02.815448Z",
          "iopub.status.idle": "2025-03-27T20:41:02.835248Z",
          "shell.execute_reply": "2025-03-27T20:41:02.834602Z",
          "shell.execute_reply.started": "2025-03-27T20:41:02.815702Z"
        },
        "id": "bLm_jWRAfAwi"
      },
      "outputs": [],
      "source": [
        "# Update the datatype of data column to datetime\n",
        "df['Data'] = pd.to_datetime(df['Data'])"
      ]
    },
    {
      "cell_type": "code",
      "execution_count": null,
      "metadata": {
        "colab": {
          "base_uri": "https://localhost:8080/"
        },
        "execution": {
          "iopub.execute_input": "2025-03-27T20:41:02.836501Z",
          "iopub.status.busy": "2025-03-27T20:41:02.836198Z",
          "iopub.status.idle": "2025-03-27T20:41:02.858505Z",
          "shell.execute_reply": "2025-03-27T20:41:02.857808Z",
          "shell.execute_reply.started": "2025-03-27T20:41:02.836474Z"
        },
        "id": "w4OaAhS3gSe2",
        "outputId": "d5ee535c-ea90-4b81-a444-46c17ed40c3d"
      },
      "outputs": [
        {
          "name": "stdout",
          "output_type": "stream",
          "text": [
            "<class 'pandas.core.frame.DataFrame'>\n",
            "RangeIndex: 418 entries, 0 to 417\n",
            "Data columns (total 11 columns):\n",
            " #   Column                    Non-Null Count  Dtype         \n",
            "---  ------                    --------------  -----         \n",
            " 0   index                     418 non-null    int64         \n",
            " 1   Data                      418 non-null    datetime64[ns]\n",
            " 2   Countries                 418 non-null    object        \n",
            " 3   Local                     418 non-null    object        \n",
            " 4   Industry Sector           418 non-null    object        \n",
            " 5   Accident Level            418 non-null    object        \n",
            " 6   Potential Accident Level  418 non-null    object        \n",
            " 7   Genre                     418 non-null    object        \n",
            " 8   Employee or Third Party   418 non-null    object        \n",
            " 9   Critical Risk             418 non-null    object        \n",
            " 10  Description               418 non-null    object        \n",
            "dtypes: datetime64[ns](1), int64(1), object(9)\n",
            "memory usage: 36.0+ KB\n"
          ]
        }
      ],
      "source": [
        "# Check if the datatype is updated\n",
        "df.info()"
      ]
    },
    {
      "cell_type": "code",
      "execution_count": null,
      "metadata": {
        "execution": {
          "iopub.execute_input": "2025-03-27T20:41:02.859529Z",
          "iopub.status.busy": "2025-03-27T20:41:02.859291Z",
          "iopub.status.idle": "2025-03-27T20:41:02.874074Z",
          "shell.execute_reply": "2025-03-27T20:41:02.873376Z",
          "shell.execute_reply.started": "2025-03-27T20:41:02.859510Z"
        },
        "id": "PTWNGHzsdIOa"
      },
      "outputs": [],
      "source": [
        "# Rename the columns Data to Date and Genre to Gender\n",
        "df = df.rename(columns={'Data': 'Date', 'Genre': 'Gender', 'Countries': 'Country', 'Employee or Third Party': 'Employment'})"
      ]
    },
    {
      "cell_type": "code",
      "execution_count": null,
      "metadata": {
        "colab": {
          "base_uri": "https://localhost:8080/",
          "height": 206
        },
        "execution": {
          "iopub.execute_input": "2025-03-27T20:41:02.875081Z",
          "iopub.status.busy": "2025-03-27T20:41:02.874832Z",
          "iopub.status.idle": "2025-03-27T20:41:02.895700Z",
          "shell.execute_reply": "2025-03-27T20:41:02.894886Z",
          "shell.execute_reply.started": "2025-03-27T20:41:02.875062Z"
        },
        "id": "RhYm9uBHdVJF",
        "outputId": "ba1a6a6b-9880-45d7-8a10-bc64f3db87b7"
      },
      "outputs": [
        {
          "data": {
            "text/html": [
              "<div>\n",
              "<style scoped>\n",
              "    .dataframe tbody tr th:only-of-type {\n",
              "        vertical-align: middle;\n",
              "    }\n",
              "\n",
              "    .dataframe tbody tr th {\n",
              "        vertical-align: top;\n",
              "    }\n",
              "\n",
              "    .dataframe thead th {\n",
              "        text-align: right;\n",
              "    }\n",
              "</style>\n",
              "<table border=\"1\" class=\"dataframe\">\n",
              "  <thead>\n",
              "    <tr style=\"text-align: right;\">\n",
              "      <th></th>\n",
              "      <th>index</th>\n",
              "      <th>Date</th>\n",
              "      <th>Country</th>\n",
              "      <th>Local</th>\n",
              "      <th>Industry Sector</th>\n",
              "      <th>Accident Level</th>\n",
              "      <th>Potential Accident Level</th>\n",
              "      <th>Gender</th>\n",
              "      <th>Employment</th>\n",
              "      <th>Critical Risk</th>\n",
              "      <th>Description</th>\n",
              "    </tr>\n",
              "  </thead>\n",
              "  <tbody>\n",
              "    <tr>\n",
              "      <th>0</th>\n",
              "      <td>0</td>\n",
              "      <td>2016-01-01</td>\n",
              "      <td>Country_01</td>\n",
              "      <td>Local_01</td>\n",
              "      <td>Mining</td>\n",
              "      <td>I</td>\n",
              "      <td>IV</td>\n",
              "      <td>Male</td>\n",
              "      <td>Third Party</td>\n",
              "      <td>Pressed</td>\n",
              "      <td>While removing the drill rod of the Jumbo 08 f...</td>\n",
              "    </tr>\n",
              "    <tr>\n",
              "      <th>1</th>\n",
              "      <td>1</td>\n",
              "      <td>2016-01-02</td>\n",
              "      <td>Country_02</td>\n",
              "      <td>Local_02</td>\n",
              "      <td>Mining</td>\n",
              "      <td>I</td>\n",
              "      <td>IV</td>\n",
              "      <td>Male</td>\n",
              "      <td>Employee</td>\n",
              "      <td>Pressurized Systems</td>\n",
              "      <td>During the activation of a sodium sulphide pum...</td>\n",
              "    </tr>\n",
              "    <tr>\n",
              "      <th>2</th>\n",
              "      <td>2</td>\n",
              "      <td>2016-01-06</td>\n",
              "      <td>Country_01</td>\n",
              "      <td>Local_03</td>\n",
              "      <td>Mining</td>\n",
              "      <td>I</td>\n",
              "      <td>III</td>\n",
              "      <td>Male</td>\n",
              "      <td>Third Party (Remote)</td>\n",
              "      <td>Manual Tools</td>\n",
              "      <td>In the sub-station MILPO located at level +170...</td>\n",
              "    </tr>\n",
              "    <tr>\n",
              "      <th>3</th>\n",
              "      <td>3</td>\n",
              "      <td>2016-01-08</td>\n",
              "      <td>Country_01</td>\n",
              "      <td>Local_04</td>\n",
              "      <td>Mining</td>\n",
              "      <td>I</td>\n",
              "      <td>I</td>\n",
              "      <td>Male</td>\n",
              "      <td>Third Party</td>\n",
              "      <td>Others</td>\n",
              "      <td>Being 9:45 am. approximately in the Nv. 1880 C...</td>\n",
              "    </tr>\n",
              "    <tr>\n",
              "      <th>4</th>\n",
              "      <td>4</td>\n",
              "      <td>2016-01-10</td>\n",
              "      <td>Country_01</td>\n",
              "      <td>Local_04</td>\n",
              "      <td>Mining</td>\n",
              "      <td>IV</td>\n",
              "      <td>IV</td>\n",
              "      <td>Male</td>\n",
              "      <td>Third Party</td>\n",
              "      <td>Others</td>\n",
              "      <td>Approximately at 11:45 a.m. in circumstances t...</td>\n",
              "    </tr>\n",
              "  </tbody>\n",
              "</table>\n",
              "</div>"
            ],
            "text/plain": [
              "   index       Date     Country     Local Industry Sector Accident Level  \\\n",
              "0      0 2016-01-01  Country_01  Local_01          Mining              I   \n",
              "1      1 2016-01-02  Country_02  Local_02          Mining              I   \n",
              "2      2 2016-01-06  Country_01  Local_03          Mining              I   \n",
              "3      3 2016-01-08  Country_01  Local_04          Mining              I   \n",
              "4      4 2016-01-10  Country_01  Local_04          Mining             IV   \n",
              "\n",
              "  Potential Accident Level Gender            Employment        Critical Risk  \\\n",
              "0                       IV   Male           Third Party              Pressed   \n",
              "1                       IV   Male              Employee  Pressurized Systems   \n",
              "2                      III   Male  Third Party (Remote)         Manual Tools   \n",
              "3                        I   Male           Third Party               Others   \n",
              "4                       IV   Male           Third Party               Others   \n",
              "\n",
              "                                         Description  \n",
              "0  While removing the drill rod of the Jumbo 08 f...  \n",
              "1  During the activation of a sodium sulphide pum...  \n",
              "2  In the sub-station MILPO located at level +170...  \n",
              "3  Being 9:45 am. approximately in the Nv. 1880 C...  \n",
              "4  Approximately at 11:45 a.m. in circumstances t...  "
            ]
          },
          "execution_count": 16,
          "metadata": {},
          "output_type": "execute_result"
        }
      ],
      "source": [
        "# Check if the column has been renamed\n",
        "df.head()"
      ]
    },
    {
      "cell_type": "code",
      "execution_count": null,
      "metadata": {
        "execution": {
          "iopub.execute_input": "2025-03-27T20:41:02.896681Z",
          "iopub.status.busy": "2025-03-27T20:41:02.896410Z",
          "iopub.status.idle": "2025-03-27T20:41:02.911903Z",
          "shell.execute_reply": "2025-03-27T20:41:02.911347Z",
          "shell.execute_reply.started": "2025-03-27T20:41:02.896654Z"
        },
        "id": "Hqm_LnrDWtKk"
      },
      "outputs": [],
      "source": [
        "# Create three new columns Day, Month, Year\n",
        "df['Year'] = df['Date'].dt.year\n",
        "df['Month'] = df['Date'].dt.month\n",
        "df['Day'] = df['Date'].dt.day"
      ]
    },
    {
      "cell_type": "markdown",
      "metadata": {
        "id": "oPkWiNnE-N5n"
      },
      "source": [
        "**Convert below columns to categorical**\n",
        "- Accident Level\n",
        "- Potential Accident Level"
      ]
    },
    {
      "cell_type": "code",
      "execution_count": null,
      "metadata": {
        "execution": {
          "iopub.execute_input": "2025-03-27T20:41:02.912927Z",
          "iopub.status.busy": "2025-03-27T20:41:02.912670Z",
          "iopub.status.idle": "2025-03-27T20:41:02.931870Z",
          "shell.execute_reply": "2025-03-27T20:41:02.931030Z",
          "shell.execute_reply.started": "2025-03-27T20:41:02.912895Z"
        },
        "id": "-xXTvlg3-reQ"
      },
      "outputs": [],
      "source": [
        "# convert Accident Level and Potential Accident Level columns to categorical\n",
        "df[\"Accident Level\"] = df[\"Accident Level\"].astype(\"category\")\n",
        "df[\"Potential Accident Level\"] = df[\"Potential Accident Level\"].astype(\"category\")"
      ]
    },
    {
      "cell_type": "markdown",
      "metadata": {
        "id": "TiItu78lmcod"
      },
      "source": [
        "#### **Data PreProcessing using NLP**"
      ]
    },
    {
      "cell_type": "markdown",
      "metadata": {
        "id": "g7EbcMuwB8U2"
      },
      "source": [
        "- Lets update the data in the description column using nlp"
      ]
    },
    {
      "cell_type": "code",
      "execution_count": null,
      "metadata": {
        "execution": {
          "iopub.execute_input": "2025-03-27T20:41:02.933090Z",
          "iopub.status.busy": "2025-03-27T20:41:02.932813Z",
          "iopub.status.idle": "2025-03-27T20:41:02.947489Z",
          "shell.execute_reply": "2025-03-27T20:41:02.946672Z",
          "shell.execute_reply.started": "2025-03-27T20:41:02.933063Z"
        },
        "id": "s_N2tkIWCBJ5"
      },
      "outputs": [],
      "source": [
        "# Lowercase\n",
        "df.Description = df.Description.str.lower()"
      ]
    },
    {
      "cell_type": "code",
      "execution_count": null,
      "metadata": {
        "colab": {
          "base_uri": "https://localhost:8080/",
          "height": 53
        },
        "execution": {
          "iopub.execute_input": "2025-03-27T20:41:02.948622Z",
          "iopub.status.busy": "2025-03-27T20:41:02.948395Z",
          "iopub.status.idle": "2025-03-27T20:41:02.967567Z",
          "shell.execute_reply": "2025-03-27T20:41:02.966911Z",
          "shell.execute_reply.started": "2025-03-27T20:41:02.948604Z"
        },
        "id": "0sSVOfDSCb2H",
        "outputId": "d257f573-9dd1-4b86-f8c6-546285a31e0d"
      },
      "outputs": [
        {
          "data": {
            "text/html": [
              "<div>\n",
              "<style scoped>\n",
              "    .dataframe tbody tr th:only-of-type {\n",
              "        vertical-align: middle;\n",
              "    }\n",
              "\n",
              "    .dataframe tbody tr th {\n",
              "        vertical-align: top;\n",
              "    }\n",
              "\n",
              "    .dataframe thead th {\n",
              "        text-align: right;\n",
              "    }\n",
              "</style>\n",
              "<table border=\"1\" class=\"dataframe\">\n",
              "  <thead>\n",
              "    <tr style=\"text-align: right;\">\n",
              "      <th></th>\n",
              "      <th>index</th>\n",
              "      <th>Date</th>\n",
              "      <th>Country</th>\n",
              "      <th>Local</th>\n",
              "      <th>Industry Sector</th>\n",
              "      <th>Accident Level</th>\n",
              "      <th>Potential Accident Level</th>\n",
              "      <th>Gender</th>\n",
              "      <th>Employment</th>\n",
              "      <th>Critical Risk</th>\n",
              "      <th>Description</th>\n",
              "      <th>Year</th>\n",
              "      <th>Month</th>\n",
              "      <th>Day</th>\n",
              "    </tr>\n",
              "  </thead>\n",
              "  <tbody>\n",
              "  </tbody>\n",
              "</table>\n",
              "</div>"
            ],
            "text/plain": [
              "Empty DataFrame\n",
              "Columns: [index, Date, Country, Local, Industry Sector, Accident Level, Potential Accident Level, Gender, Employment, Critical Risk, Description, Year, Month, Day]\n",
              "Index: []"
            ]
          },
          "execution_count": 20,
          "metadata": {},
          "output_type": "execute_result"
        }
      ],
      "source": [
        "# Check if the code has any html tags\n",
        "df[df.Description.str.contains('<') == True]"
      ]
    },
    {
      "cell_type": "code",
      "execution_count": null,
      "metadata": {
        "execution": {
          "iopub.execute_input": "2025-03-27T20:41:02.968494Z",
          "iopub.status.busy": "2025-03-27T20:41:02.968200Z",
          "iopub.status.idle": "2025-03-27T20:41:02.990749Z",
          "shell.execute_reply": "2025-03-27T20:41:02.990004Z",
          "shell.execute_reply.started": "2025-03-27T20:41:02.968473Z"
        },
        "id": "jWLqKlI7EF7m"
      },
      "outputs": [],
      "source": [
        "# Remove numbers and punctuations\n",
        "import re\n",
        "df.Description = df.Description.apply(lambda x: re.sub('[^a-zA-Z]', ' ', x))"
      ]
    },
    {
      "cell_type": "code",
      "execution_count": null,
      "metadata": {
        "execution": {
          "iopub.execute_input": "2025-03-27T20:41:02.991631Z",
          "iopub.status.busy": "2025-03-27T20:41:02.991426Z",
          "iopub.status.idle": "2025-03-27T20:41:03.007070Z",
          "shell.execute_reply": "2025-03-27T20:41:03.006304Z",
          "shell.execute_reply.started": "2025-03-27T20:41:02.991612Z"
        },
        "id": "AcI75S3sFKb0"
      },
      "outputs": [],
      "source": [
        "# Remove url's\n",
        "df.Description = df.Description.apply(lambda x: re.sub(r'http\\S+', '', x))"
      ]
    },
    {
      "cell_type": "code",
      "execution_count": null,
      "metadata": {
        "colab": {
          "base_uri": "https://localhost:8080/"
        },
        "execution": {
          "iopub.execute_input": "2025-03-27T20:41:03.010329Z",
          "iopub.status.busy": "2025-03-27T20:41:03.010100Z",
          "iopub.status.idle": "2025-03-27T20:41:03.238838Z",
          "shell.execute_reply": "2025-03-27T20:41:03.238070Z",
          "shell.execute_reply.started": "2025-03-27T20:41:03.010310Z"
        },
        "id": "GIvJMuEip_MW",
        "outputId": "4e1de63d-bfcc-42e3-ae92-5adc2949dc55"
      },
      "outputs": [
        {
          "name": "stdout",
          "output_type": "stream",
          "text": [
            "[nltk_data] Downloading package stopwords to /usr/share/nltk_data...\n",
            "[nltk_data]   Package stopwords is already up-to-date!\n"
          ]
        }
      ],
      "source": [
        "# Remove stopwords\n",
        "import nltk\n",
        "nltk.download('stopwords')\n",
        "from nltk.corpus import stopwords\n",
        "stop = stopwords.words('english')"
      ]
    },
    {
      "cell_type": "code",
      "execution_count": null,
      "metadata": {
        "execution": {
          "iopub.execute_input": "2025-03-27T20:41:03.240182Z",
          "iopub.status.busy": "2025-03-27T20:41:03.239962Z",
          "iopub.status.idle": "2025-03-27T20:41:03.243744Z",
          "shell.execute_reply": "2025-03-27T20:41:03.242890Z",
          "shell.execute_reply.started": "2025-03-27T20:41:03.240160Z"
        },
        "id": "6SgZ8_GRnWYX"
      },
      "outputs": [],
      "source": [
        "# Stemming\n",
        "from nltk.stem.porter import PorterStemmer\n",
        "stemmer = PorterStemmer()"
      ]
    },
    {
      "cell_type": "code",
      "execution_count": null,
      "metadata": {
        "execution": {
          "iopub.execute_input": "2025-03-27T20:41:03.244761Z",
          "iopub.status.busy": "2025-03-27T20:41:03.244525Z",
          "iopub.status.idle": "2025-03-27T20:41:03.314480Z",
          "shell.execute_reply": "2025-03-27T20:41:03.313887Z",
          "shell.execute_reply.started": "2025-03-27T20:41:03.244729Z"
        },
        "id": "66fnXLjhGnB2"
      },
      "outputs": [],
      "source": [
        "# Remove stopwords from dataset\n",
        "df.Description = df.Description.apply(lambda x: ' '.join([word for word in x.split() if word not in (stop)]))"
      ]
    },
    {
      "cell_type": "code",
      "execution_count": null,
      "metadata": {
        "execution": {
          "iopub.execute_input": "2025-03-27T20:41:03.315291Z",
          "iopub.status.busy": "2025-03-27T20:41:03.315109Z",
          "iopub.status.idle": "2025-03-27T20:41:03.318961Z",
          "shell.execute_reply": "2025-03-27T20:41:03.318151Z",
          "shell.execute_reply.started": "2025-03-27T20:41:03.315275Z"
        },
        "id": "Xr_WhwYCniRf"
      },
      "outputs": [],
      "source": [
        "# Define a function to use stemming\n",
        "def stem_words(text):\n",
        "    return \" \".join([stemmer.stem(word) for word in text.split()])"
      ]
    },
    {
      "cell_type": "code",
      "execution_count": null,
      "metadata": {
        "execution": {
          "iopub.execute_input": "2025-03-27T20:41:03.320053Z",
          "iopub.status.busy": "2025-03-27T20:41:03.319800Z",
          "iopub.status.idle": "2025-03-27T20:41:03.559671Z",
          "shell.execute_reply": "2025-03-27T20:41:03.559092Z",
          "shell.execute_reply.started": "2025-03-27T20:41:03.320021Z"
        },
        "id": "SkEZqaTnoL2W"
      },
      "outputs": [],
      "source": [
        "df['Description Stem'] = df.Description.apply(lambda x: stem_words(x))"
      ]
    },
    {
      "cell_type": "code",
      "execution_count": null,
      "metadata": {
        "execution": {
          "iopub.execute_input": "2025-03-27T20:41:03.560589Z",
          "iopub.status.busy": "2025-03-27T20:41:03.560380Z",
          "iopub.status.idle": "2025-03-27T20:41:03.566925Z",
          "shell.execute_reply": "2025-03-27T20:41:03.566146Z",
          "shell.execute_reply.started": "2025-03-27T20:41:03.560571Z"
        },
        "id": "LfG6FGGpvzBZ",
        "outputId": "2aebf5dd-53cb-4da8-898d-addecae33823"
      },
      "outputs": [
        {
          "data": {
            "text/plain": [
              "0      remov drill rod jumbo mainten supervisor proce...\n",
              "1      activ sodium sulphid pump pipe uncoupl sulfid ...\n",
              "2      sub station milpo locat level collabor excav w...\n",
              "3      approxim nv cx ob personnel begin task unlock ...\n",
              "4      approxim circumst mechan anthoni group leader ...\n",
              "                             ...                        \n",
              "413    approxim approxim lift kelli hq toward pulley ...\n",
              "414    collabor move infrastructur offic julio toilet...\n",
              "415    environment monitor activ area employe surpris...\n",
              "416    employe perform activ strip cathod pull cathod...\n",
              "417    assist clean floor modul e central camp slip b...\n",
              "Name: Description Stem, Length: 418, dtype: object"
            ]
          },
          "execution_count": 28,
          "metadata": {},
          "output_type": "execute_result"
        }
      ],
      "source": [
        "df['Description Stem']"
      ]
    },
    {
      "cell_type": "markdown",
      "metadata": {
        "id": "F8fgqXmFvzBZ"
      },
      "source": [
        "#### _______________________________________________"
      ]
    },
    {
      "cell_type": "code",
      "execution_count": null,
      "metadata": {
        "execution": {
          "iopub.execute_input": "2025-03-27T20:41:03.567877Z",
          "iopub.status.busy": "2025-03-27T20:41:03.567694Z",
          "iopub.status.idle": "2025-03-27T20:41:03.686425Z",
          "shell.execute_reply": "2025-03-27T20:41:03.685787Z",
          "shell.execute_reply.started": "2025-03-27T20:41:03.567861Z"
        },
        "id": "bsAwTKwsvzBZ",
        "outputId": "f01a21d2-e19a-4d99-ccc6-993c4abf8e53"
      },
      "outputs": [
        {
          "name": "stdout",
          "output_type": "stream",
          "text": [
            "[nltk_data] Downloading package wordnet to\n",
            "[nltk_data]     /kaggle/working/nltk_data...\n",
            "[nltk_data]   Package wordnet is already up-to-date!\n",
            "[nltk_data] Downloading package omw-1.4 to\n",
            "[nltk_data]     /kaggle/working/nltk_data...\n",
            "[nltk_data]   Package omw-1.4 is already up-to-date!\n",
            "[nltk_data] Downloading package punkt to /kaggle/working/nltk_data...\n",
            "[nltk_data]   Package punkt is already up-to-date!\n",
            "[nltk_data] Downloading package averaged_perceptron_tagger to\n",
            "[nltk_data]     /kaggle/working/nltk_data...\n",
            "[nltk_data]   Package averaged_perceptron_tagger is already up-to-\n",
            "[nltk_data]       date!\n"
          ]
        },
        {
          "data": {
            "text/plain": [
              "True"
            ]
          },
          "execution_count": 29,
          "metadata": {},
          "output_type": "execute_result"
        }
      ],
      "source": [
        "import nltk\n",
        "import os\n",
        "\n",
        "# Setting up a custom download directory\n",
        "\n",
        "nltk_data_path = \"/kaggle/working/nltk_data\"\n",
        "os.makedirs(nltk_data_path, exist_ok=True)\n",
        "\n",
        "# Adding the NLTK data path\n",
        "\n",
        "nltk.data.path.append(nltk_data_path)\n",
        "\n",
        "\n",
        "# Downloading the required resources\n",
        "\n",
        "nltk.download('wordnet', download_dir=nltk_data_path)\n",
        "nltk.download('omw-1.4', download_dir=nltk_data_path)\n",
        "nltk.download('punkt', download_dir=nltk_data_path)\n",
        "nltk.download('averaged_perceptron_tagger', download_dir=nltk_data_path)"
      ]
    },
    {
      "cell_type": "code",
      "execution_count": null,
      "metadata": {
        "execution": {
          "iopub.execute_input": "2025-03-27T20:41:03.687359Z",
          "iopub.status.busy": "2025-03-27T20:41:03.687144Z",
          "iopub.status.idle": "2025-03-27T20:41:03.691620Z",
          "shell.execute_reply": "2025-03-27T20:41:03.690692Z",
          "shell.execute_reply.started": "2025-03-27T20:41:03.687337Z"
        },
        "id": "1cJ8ASMjvzBZ",
        "outputId": "732a923e-2245-4ca2-b8c1-18f94bdc78bb"
      },
      "outputs": [
        {
          "name": "stdout",
          "output_type": "stream",
          "text": [
            "['omw-1.4.zip', 'wordnet', 'wordnet.zip']\n"
          ]
        }
      ],
      "source": [
        "import os\n",
        "\n",
        "print(os.listdir(\"/kaggle/working/nltk_data/corpora\"))\n"
      ]
    },
    {
      "cell_type": "code",
      "execution_count": null,
      "metadata": {
        "execution": {
          "iopub.execute_input": "2025-03-27T20:41:03.692563Z",
          "iopub.status.busy": "2025-03-27T20:41:03.692317Z",
          "iopub.status.idle": "2025-03-27T20:41:03.945178Z",
          "shell.execute_reply": "2025-03-27T20:41:03.944287Z",
          "shell.execute_reply.started": "2025-03-27T20:41:03.692535Z"
        },
        "id": "0ZAea4dpvzBZ",
        "outputId": "af936241-ab98-4e5f-a38e-d32265c10d7f"
      },
      "outputs": [
        {
          "name": "stdout",
          "output_type": "stream",
          "text": [
            "['omw-1.4.zip', 'wordnet', 'wordnet.zip']\n"
          ]
        }
      ],
      "source": [
        "import zipfile\n",
        "\n",
        "# Defining the corpus path\n",
        "wordnet_zip_path = \"/kaggle/working/nltk_data/corpora/wordnet.zip\"\n",
        "wordnet_extract_path = \"/kaggle/working/nltk_data/corpora/\"\n",
        "\n",
        "# Extracting the ZIP file\n",
        "with zipfile.ZipFile(wordnet_zip_path, 'r') as zip_ref:\n",
        "    zip_ref.extractall(wordnet_extract_path)\n",
        "\n",
        "# Verifying extraction\n",
        "import os\n",
        "print(os.listdir(\"/kaggle/working/nltk_data/corpora/\"))\n"
      ]
    },
    {
      "cell_type": "code",
      "execution_count": null,
      "metadata": {
        "execution": {
          "iopub.execute_input": "2025-03-27T20:45:26.531859Z",
          "iopub.status.busy": "2025-03-27T20:45:26.531574Z",
          "iopub.status.idle": "2025-03-27T20:45:26.662551Z",
          "shell.execute_reply": "2025-03-27T20:45:26.661908Z",
          "shell.execute_reply.started": "2025-03-27T20:45:26.531835Z"
        },
        "id": "Wu091D-a9fQk"
      },
      "outputs": [],
      "source": [
        "# 3. Lemmatization\n",
        "\n",
        "from nltk.stem import WordNetLemmatizer\n",
        "from nltk.tokenize import word_tokenize\n",
        "\n",
        "\n",
        "lemmatizer = WordNetLemmatizer()\n",
        "\n",
        "# Applying lemmatization to each word in every row\n",
        "\n",
        "df['Description Lemma'] = df['Description'].apply(\n",
        "    lambda text: ' '.join([\n",
        "        lemmatizer.lemmatize(word.lower())\n",
        "        for word in word_tokenize(str(text))\n",
        "    ])\n",
        ")"
      ]
    },
    {
      "cell_type": "code",
      "execution_count": null,
      "metadata": {
        "execution": {
          "iopub.execute_input": "2025-03-27T20:45:29.340111Z",
          "iopub.status.busy": "2025-03-27T20:45:29.339826Z",
          "iopub.status.idle": "2025-03-27T20:45:29.346216Z",
          "shell.execute_reply": "2025-03-27T20:45:29.345389Z",
          "shell.execute_reply.started": "2025-03-27T20:45:29.340087Z"
        },
        "id": "Nk7HKuxcvzBZ",
        "outputId": "5e6eeea6-ea0a-4f5a-c189-f10518871f31"
      },
      "outputs": [
        {
          "data": {
            "text/plain": [
              "0    removing drill rod jumbo maintenance superviso...\n",
              "1    activation sodium sulphide pump piping uncoupl...\n",
              "2    sub station milpo located level collaborator e...\n",
              "3    approximately nv cx ob personnel begin task un...\n",
              "4    approximately circumstance mechanic anthony gr...\n",
              "Name: Description Lemma, dtype: object"
            ]
          },
          "execution_count": 39,
          "metadata": {},
          "output_type": "execute_result"
        }
      ],
      "source": [
        "df['Description Lemma'].head()"
      ]
    },
    {
      "cell_type": "code",
      "execution_count": null,
      "metadata": {
        "execution": {
          "iopub.execute_input": "2025-03-27T20:45:32.404769Z",
          "iopub.status.busy": "2025-03-27T20:45:32.404479Z",
          "iopub.status.idle": "2025-03-27T20:45:32.418789Z",
          "shell.execute_reply": "2025-03-27T20:45:32.418027Z",
          "shell.execute_reply.started": "2025-03-27T20:45:32.404747Z"
        },
        "id": "K7-WFmbBvzBZ",
        "outputId": "4d2e1cf3-dac7-4e48-bced-4f31f72eb985"
      },
      "outputs": [
        {
          "data": {
            "text/html": [
              "<div>\n",
              "<style scoped>\n",
              "    .dataframe tbody tr th:only-of-type {\n",
              "        vertical-align: middle;\n",
              "    }\n",
              "\n",
              "    .dataframe tbody tr th {\n",
              "        vertical-align: top;\n",
              "    }\n",
              "\n",
              "    .dataframe thead th {\n",
              "        text-align: right;\n",
              "    }\n",
              "</style>\n",
              "<table border=\"1\" class=\"dataframe\">\n",
              "  <thead>\n",
              "    <tr style=\"text-align: right;\">\n",
              "      <th></th>\n",
              "      <th>index</th>\n",
              "      <th>Date</th>\n",
              "      <th>Country</th>\n",
              "      <th>Local</th>\n",
              "      <th>Industry Sector</th>\n",
              "      <th>Accident Level</th>\n",
              "      <th>Potential Accident Level</th>\n",
              "      <th>Gender</th>\n",
              "      <th>Employment</th>\n",
              "      <th>Critical Risk</th>\n",
              "      <th>Description</th>\n",
              "      <th>Year</th>\n",
              "      <th>Month</th>\n",
              "      <th>Day</th>\n",
              "      <th>Description Stem</th>\n",
              "      <th>Description Lemma</th>\n",
              "      <th>Description Original</th>\n",
              "    </tr>\n",
              "  </thead>\n",
              "  <tbody>\n",
              "    <tr>\n",
              "      <th>0</th>\n",
              "      <td>0</td>\n",
              "      <td>2016-01-01</td>\n",
              "      <td>Country_01</td>\n",
              "      <td>Local_01</td>\n",
              "      <td>Mining</td>\n",
              "      <td>I</td>\n",
              "      <td>IV</td>\n",
              "      <td>Male</td>\n",
              "      <td>Third Party</td>\n",
              "      <td>Pressed</td>\n",
              "      <td>removing drill rod jumbo maintenance superviso...</td>\n",
              "      <td>2016</td>\n",
              "      <td>1</td>\n",
              "      <td>1</td>\n",
              "      <td>remov drill rod jumbo mainten supervisor proce...</td>\n",
              "      <td>removing drill rod jumbo maintenance superviso...</td>\n",
              "      <td>removing drill rod jumbo maintenance superviso...</td>\n",
              "    </tr>\n",
              "    <tr>\n",
              "      <th>1</th>\n",
              "      <td>1</td>\n",
              "      <td>2016-01-02</td>\n",
              "      <td>Country_02</td>\n",
              "      <td>Local_02</td>\n",
              "      <td>Mining</td>\n",
              "      <td>I</td>\n",
              "      <td>IV</td>\n",
              "      <td>Male</td>\n",
              "      <td>Employee</td>\n",
              "      <td>Pressurized Systems</td>\n",
              "      <td>activation sodium sulphide pump piping uncoupl...</td>\n",
              "      <td>2016</td>\n",
              "      <td>1</td>\n",
              "      <td>2</td>\n",
              "      <td>activ sodium sulphid pump pipe uncoupl sulfid ...</td>\n",
              "      <td>activation sodium sulphide pump piping uncoupl...</td>\n",
              "      <td>activation sodium sulphide pump piping uncoupl...</td>\n",
              "    </tr>\n",
              "    <tr>\n",
              "      <th>2</th>\n",
              "      <td>2</td>\n",
              "      <td>2016-01-06</td>\n",
              "      <td>Country_01</td>\n",
              "      <td>Local_03</td>\n",
              "      <td>Mining</td>\n",
              "      <td>I</td>\n",
              "      <td>III</td>\n",
              "      <td>Male</td>\n",
              "      <td>Third Party (Remote)</td>\n",
              "      <td>Manual Tools</td>\n",
              "      <td>sub station milpo located level collaborator e...</td>\n",
              "      <td>2016</td>\n",
              "      <td>1</td>\n",
              "      <td>6</td>\n",
              "      <td>sub station milpo locat level collabor excav w...</td>\n",
              "      <td>sub station milpo located level collaborator e...</td>\n",
              "      <td>sub station milpo located level collaborator e...</td>\n",
              "    </tr>\n",
              "    <tr>\n",
              "      <th>3</th>\n",
              "      <td>3</td>\n",
              "      <td>2016-01-08</td>\n",
              "      <td>Country_01</td>\n",
              "      <td>Local_04</td>\n",
              "      <td>Mining</td>\n",
              "      <td>I</td>\n",
              "      <td>I</td>\n",
              "      <td>Male</td>\n",
              "      <td>Third Party</td>\n",
              "      <td>Others</td>\n",
              "      <td>approximately nv cx ob personnel begins task u...</td>\n",
              "      <td>2016</td>\n",
              "      <td>1</td>\n",
              "      <td>8</td>\n",
              "      <td>approxim nv cx ob personnel begin task unlock ...</td>\n",
              "      <td>approximately nv cx ob personnel begin task un...</td>\n",
              "      <td>approximately nv cx ob personnel begins task u...</td>\n",
              "    </tr>\n",
              "    <tr>\n",
              "      <th>4</th>\n",
              "      <td>4</td>\n",
              "      <td>2016-01-10</td>\n",
              "      <td>Country_01</td>\n",
              "      <td>Local_04</td>\n",
              "      <td>Mining</td>\n",
              "      <td>IV</td>\n",
              "      <td>IV</td>\n",
              "      <td>Male</td>\n",
              "      <td>Third Party</td>\n",
              "      <td>Others</td>\n",
              "      <td>approximately circumstances mechanics anthony ...</td>\n",
              "      <td>2016</td>\n",
              "      <td>1</td>\n",
              "      <td>10</td>\n",
              "      <td>approxim circumst mechan anthoni group leader ...</td>\n",
              "      <td>approximately circumstance mechanic anthony gr...</td>\n",
              "      <td>approximately circumstances mechanics anthony ...</td>\n",
              "    </tr>\n",
              "  </tbody>\n",
              "</table>\n",
              "</div>"
            ],
            "text/plain": [
              "   index       Date     Country     Local Industry Sector Accident Level  \\\n",
              "0      0 2016-01-01  Country_01  Local_01          Mining              I   \n",
              "1      1 2016-01-02  Country_02  Local_02          Mining              I   \n",
              "2      2 2016-01-06  Country_01  Local_03          Mining              I   \n",
              "3      3 2016-01-08  Country_01  Local_04          Mining              I   \n",
              "4      4 2016-01-10  Country_01  Local_04          Mining             IV   \n",
              "\n",
              "  Potential Accident Level Gender            Employment        Critical Risk  \\\n",
              "0                       IV   Male           Third Party              Pressed   \n",
              "1                       IV   Male              Employee  Pressurized Systems   \n",
              "2                      III   Male  Third Party (Remote)         Manual Tools   \n",
              "3                        I   Male           Third Party               Others   \n",
              "4                       IV   Male           Third Party               Others   \n",
              "\n",
              "                                         Description  Year  Month  Day  \\\n",
              "0  removing drill rod jumbo maintenance superviso...  2016      1    1   \n",
              "1  activation sodium sulphide pump piping uncoupl...  2016      1    2   \n",
              "2  sub station milpo located level collaborator e...  2016      1    6   \n",
              "3  approximately nv cx ob personnel begins task u...  2016      1    8   \n",
              "4  approximately circumstances mechanics anthony ...  2016      1   10   \n",
              "\n",
              "                                    Description Stem  \\\n",
              "0  remov drill rod jumbo mainten supervisor proce...   \n",
              "1  activ sodium sulphid pump pipe uncoupl sulfid ...   \n",
              "2  sub station milpo locat level collabor excav w...   \n",
              "3  approxim nv cx ob personnel begin task unlock ...   \n",
              "4  approxim circumst mechan anthoni group leader ...   \n",
              "\n",
              "                                   Description Lemma  \\\n",
              "0  removing drill rod jumbo maintenance superviso...   \n",
              "1  activation sodium sulphide pump piping uncoupl...   \n",
              "2  sub station milpo located level collaborator e...   \n",
              "3  approximately nv cx ob personnel begin task un...   \n",
              "4  approximately circumstance mechanic anthony gr...   \n",
              "\n",
              "                                Description Original  \n",
              "0  removing drill rod jumbo maintenance superviso...  \n",
              "1  activation sodium sulphide pump piping uncoupl...  \n",
              "2  sub station milpo located level collaborator e...  \n",
              "3  approximately nv cx ob personnel begins task u...  \n",
              "4  approximately circumstances mechanics anthony ...  "
            ]
          },
          "execution_count": 40,
          "metadata": {},
          "output_type": "execute_result"
        }
      ],
      "source": [
        "df['Description Original'] = df['Description']\n",
        "df.head()"
      ]
    },
    {
      "cell_type": "code",
      "execution_count": null,
      "metadata": {
        "colab": {
          "base_uri": "https://localhost:8080/"
        },
        "execution": {
          "iopub.execute_input": "2025-03-27T20:45:40.049911Z",
          "iopub.status.busy": "2025-03-27T20:45:40.049614Z",
          "iopub.status.idle": "2025-03-27T20:45:40.056687Z",
          "shell.execute_reply": "2025-03-27T20:45:40.055819Z",
          "shell.execute_reply.started": "2025-03-27T20:45:40.049890Z"
        },
        "id": "4U0_DJ0EozHZ",
        "outputId": "7f0e0cbd-6608-4a58-d7b7-acef0f51122b"
      },
      "outputs": [
        {
          "name": "stdout",
          "output_type": "stream",
          "text": [
            "The maximum length of the text in description column - 663\n",
            "The minimum length of the text in description column - 61\n"
          ]
        }
      ],
      "source": [
        "# Print the maximum and minumum length of the text in description column\n",
        "print('The maximum length of the text in description column -',df.Description.str.len().max())\n",
        "print('The minimum length of the text in description column -',df.Description.str.len().min())"
      ]
    },
    {
      "cell_type": "code",
      "execution_count": null,
      "metadata": {
        "colab": {
          "base_uri": "https://localhost:8080/"
        },
        "execution": {
          "iopub.execute_input": "2025-03-27T20:45:40.079026Z",
          "iopub.status.busy": "2025-03-27T20:45:40.078805Z",
          "iopub.status.idle": "2025-03-27T20:45:40.083831Z",
          "shell.execute_reply": "2025-03-27T20:45:40.083066Z",
          "shell.execute_reply.started": "2025-03-27T20:45:40.079007Z"
        },
        "id": "1HBR9YShp8fC",
        "outputId": "9a9d66c7-716d-4086-f7d3-61c7c13b9b07"
      },
      "outputs": [
        {
          "name": "stdout",
          "output_type": "stream",
          "text": [
            "The median length of the text in description column - 213.5\n"
          ]
        }
      ],
      "source": [
        "print('The median length of the text in description column -',df.Description.str.len().median())"
      ]
    },
    {
      "cell_type": "code",
      "execution_count": null,
      "metadata": {
        "execution": {
          "iopub.execute_input": "2025-03-27T20:45:40.120174Z",
          "iopub.status.busy": "2025-03-27T20:45:40.119957Z",
          "iopub.status.idle": "2025-03-27T20:45:40.135845Z",
          "shell.execute_reply": "2025-03-27T20:45:40.134993Z",
          "shell.execute_reply.started": "2025-03-27T20:45:40.120155Z"
        },
        "id": "YHUOWpPodCFe"
      },
      "outputs": [],
      "source": [
        "# Update the values to numeric\n",
        "\n",
        "df['Accident Level'] = df['Accident Level'].map({'I': 0, 'II': 1, 'III': 2, 'IV': 3, 'V': 4, 'VI': 5})\n",
        "df['Potential Accident Level'] = df['Potential Accident Level'].map({'I': 0, 'II': 1, 'III': 2, 'IV': 3, 'V': 4, 'VI': 5})\n",
        "df['Country'] = df['Country'].map({'Country_01':1,'Country_02':2,'Country_03':3})\n",
        "df['Local'] = df['Local'].map({'Local_01':1,'Local_02':2,'Local_03':3,'Local_04':4,'Local_05':5,'Local_06':6,\n",
        "                               'Local_07':7,'Local_08':8,'Local_09':9,'Local_10':10,'Local_11':11,'Local_12':12})\n",
        "df['Industry Sector'] = df['Industry Sector'].map({'Mining':1,'Metals':2,'Others':3})\n",
        "df['Gender'] = df['Gender'].map({'Male':1,'Female':0})\n",
        "df['Employment'] = df['Employment'].map({'Employee': 0, 'Third Party': 1, 'Third Party (Remote)': 2})\n",
        "df['Critical Risk'] = LabelEncoder().fit_transform(df['Critical Risk'])\n",
        "df['Year'] = LabelEncoder().fit_transform(df['Year'])\n",
        "df['Month'] = LabelEncoder().fit_transform(df['Month'])\n",
        "df['Day'] = LabelEncoder().fit_transform(df['Day'])"
      ]
    },
    {
      "cell_type": "code",
      "execution_count": null,
      "metadata": {
        "colab": {
          "base_uri": "https://localhost:8080/",
          "height": 328
        },
        "execution": {
          "iopub.execute_input": "2025-03-27T20:45:40.167252Z",
          "iopub.status.busy": "2025-03-27T20:45:40.167058Z",
          "iopub.status.idle": "2025-03-27T20:45:40.178984Z",
          "shell.execute_reply": "2025-03-27T20:45:40.178115Z",
          "shell.execute_reply.started": "2025-03-27T20:45:40.167235Z"
        },
        "id": "lATfGLN8jf1c",
        "outputId": "b94e2d32-c042-47b7-df0c-ee6d6950af14"
      },
      "outputs": [
        {
          "data": {
            "text/html": [
              "<div>\n",
              "<style scoped>\n",
              "    .dataframe tbody tr th:only-of-type {\n",
              "        vertical-align: middle;\n",
              "    }\n",
              "\n",
              "    .dataframe tbody tr th {\n",
              "        vertical-align: top;\n",
              "    }\n",
              "\n",
              "    .dataframe thead th {\n",
              "        text-align: right;\n",
              "    }\n",
              "</style>\n",
              "<table border=\"1\" class=\"dataframe\">\n",
              "  <thead>\n",
              "    <tr style=\"text-align: right;\">\n",
              "      <th></th>\n",
              "      <th>index</th>\n",
              "      <th>Date</th>\n",
              "      <th>Country</th>\n",
              "      <th>Local</th>\n",
              "      <th>Industry Sector</th>\n",
              "      <th>Accident Level</th>\n",
              "      <th>Potential Accident Level</th>\n",
              "      <th>Gender</th>\n",
              "      <th>Employment</th>\n",
              "      <th>Critical Risk</th>\n",
              "      <th>Description</th>\n",
              "      <th>Year</th>\n",
              "      <th>Month</th>\n",
              "      <th>Day</th>\n",
              "      <th>Description Stem</th>\n",
              "      <th>Description Lemma</th>\n",
              "      <th>Description Original</th>\n",
              "    </tr>\n",
              "  </thead>\n",
              "  <tbody>\n",
              "    <tr>\n",
              "      <th>0</th>\n",
              "      <td>0</td>\n",
              "      <td>2016-01-01</td>\n",
              "      <td>1</td>\n",
              "      <td>1</td>\n",
              "      <td>1</td>\n",
              "      <td>0</td>\n",
              "      <td>3</td>\n",
              "      <td>1</td>\n",
              "      <td>1</td>\n",
              "      <td>20</td>\n",
              "      <td>removing drill rod jumbo maintenance superviso...</td>\n",
              "      <td>0</td>\n",
              "      <td>0</td>\n",
              "      <td>0</td>\n",
              "      <td>remov drill rod jumbo mainten supervisor proce...</td>\n",
              "      <td>removing drill rod jumbo maintenance superviso...</td>\n",
              "      <td>removing drill rod jumbo maintenance superviso...</td>\n",
              "    </tr>\n",
              "    <tr>\n",
              "      <th>1</th>\n",
              "      <td>1</td>\n",
              "      <td>2016-01-02</td>\n",
              "      <td>2</td>\n",
              "      <td>2</td>\n",
              "      <td>1</td>\n",
              "      <td>0</td>\n",
              "      <td>3</td>\n",
              "      <td>1</td>\n",
              "      <td>0</td>\n",
              "      <td>21</td>\n",
              "      <td>activation sodium sulphide pump piping uncoupl...</td>\n",
              "      <td>0</td>\n",
              "      <td>0</td>\n",
              "      <td>1</td>\n",
              "      <td>activ sodium sulphid pump pipe uncoupl sulfid ...</td>\n",
              "      <td>activation sodium sulphide pump piping uncoupl...</td>\n",
              "      <td>activation sodium sulphide pump piping uncoupl...</td>\n",
              "    </tr>\n",
              "    <tr>\n",
              "      <th>2</th>\n",
              "      <td>2</td>\n",
              "      <td>2016-01-06</td>\n",
              "      <td>1</td>\n",
              "      <td>3</td>\n",
              "      <td>1</td>\n",
              "      <td>0</td>\n",
              "      <td>2</td>\n",
              "      <td>1</td>\n",
              "      <td>2</td>\n",
              "      <td>15</td>\n",
              "      <td>sub station milpo located level collaborator e...</td>\n",
              "      <td>0</td>\n",
              "      <td>0</td>\n",
              "      <td>5</td>\n",
              "      <td>sub station milpo locat level collabor excav w...</td>\n",
              "      <td>sub station milpo located level collaborator e...</td>\n",
              "      <td>sub station milpo located level collaborator e...</td>\n",
              "    </tr>\n",
              "    <tr>\n",
              "      <th>3</th>\n",
              "      <td>3</td>\n",
              "      <td>2016-01-08</td>\n",
              "      <td>1</td>\n",
              "      <td>4</td>\n",
              "      <td>1</td>\n",
              "      <td>0</td>\n",
              "      <td>0</td>\n",
              "      <td>1</td>\n",
              "      <td>1</td>\n",
              "      <td>16</td>\n",
              "      <td>approximately nv cx ob personnel begins task u...</td>\n",
              "      <td>0</td>\n",
              "      <td>0</td>\n",
              "      <td>7</td>\n",
              "      <td>approxim nv cx ob personnel begin task unlock ...</td>\n",
              "      <td>approximately nv cx ob personnel begin task un...</td>\n",
              "      <td>approximately nv cx ob personnel begins task u...</td>\n",
              "    </tr>\n",
              "    <tr>\n",
              "      <th>4</th>\n",
              "      <td>4</td>\n",
              "      <td>2016-01-10</td>\n",
              "      <td>1</td>\n",
              "      <td>4</td>\n",
              "      <td>1</td>\n",
              "      <td>3</td>\n",
              "      <td>3</td>\n",
              "      <td>1</td>\n",
              "      <td>1</td>\n",
              "      <td>16</td>\n",
              "      <td>approximately circumstances mechanics anthony ...</td>\n",
              "      <td>0</td>\n",
              "      <td>0</td>\n",
              "      <td>9</td>\n",
              "      <td>approxim circumst mechan anthoni group leader ...</td>\n",
              "      <td>approximately circumstance mechanic anthony gr...</td>\n",
              "      <td>approximately circumstances mechanics anthony ...</td>\n",
              "    </tr>\n",
              "  </tbody>\n",
              "</table>\n",
              "</div>"
            ],
            "text/plain": [
              "   index       Date  Country  Local  Industry Sector Accident Level  \\\n",
              "0      0 2016-01-01        1      1                1              0   \n",
              "1      1 2016-01-02        2      2                1              0   \n",
              "2      2 2016-01-06        1      3                1              0   \n",
              "3      3 2016-01-08        1      4                1              0   \n",
              "4      4 2016-01-10        1      4                1              3   \n",
              "\n",
              "  Potential Accident Level  Gender  Employment  Critical Risk  \\\n",
              "0                        3       1           1             20   \n",
              "1                        3       1           0             21   \n",
              "2                        2       1           2             15   \n",
              "3                        0       1           1             16   \n",
              "4                        3       1           1             16   \n",
              "\n",
              "                                         Description  Year  Month  Day  \\\n",
              "0  removing drill rod jumbo maintenance superviso...     0      0    0   \n",
              "1  activation sodium sulphide pump piping uncoupl...     0      0    1   \n",
              "2  sub station milpo located level collaborator e...     0      0    5   \n",
              "3  approximately nv cx ob personnel begins task u...     0      0    7   \n",
              "4  approximately circumstances mechanics anthony ...     0      0    9   \n",
              "\n",
              "                                    Description Stem  \\\n",
              "0  remov drill rod jumbo mainten supervisor proce...   \n",
              "1  activ sodium sulphid pump pipe uncoupl sulfid ...   \n",
              "2  sub station milpo locat level collabor excav w...   \n",
              "3  approxim nv cx ob personnel begin task unlock ...   \n",
              "4  approxim circumst mechan anthoni group leader ...   \n",
              "\n",
              "                                   Description Lemma  \\\n",
              "0  removing drill rod jumbo maintenance superviso...   \n",
              "1  activation sodium sulphide pump piping uncoupl...   \n",
              "2  sub station milpo located level collaborator e...   \n",
              "3  approximately nv cx ob personnel begin task un...   \n",
              "4  approximately circumstance mechanic anthony gr...   \n",
              "\n",
              "                                Description Original  \n",
              "0  removing drill rod jumbo maintenance superviso...  \n",
              "1  activation sodium sulphide pump piping uncoupl...  \n",
              "2  sub station milpo located level collaborator e...  \n",
              "3  approximately nv cx ob personnel begins task u...  \n",
              "4  approximately circumstances mechanics anthony ...  "
            ]
          },
          "execution_count": 44,
          "metadata": {},
          "output_type": "execute_result"
        }
      ],
      "source": [
        "# Check data after encoding\n",
        "df.head()"
      ]
    },
    {
      "cell_type": "code",
      "execution_count": null,
      "metadata": {
        "execution": {
          "iopub.execute_input": "2025-03-27T20:45:40.215929Z",
          "iopub.status.busy": "2025-03-27T20:45:40.215711Z",
          "iopub.status.idle": "2025-03-27T20:45:40.220339Z",
          "shell.execute_reply": "2025-03-27T20:45:40.219556Z",
          "shell.execute_reply.started": "2025-03-27T20:45:40.215910Z"
        },
        "id": "7nxO4cLxfgBj"
      },
      "outputs": [],
      "source": [
        "# Drop the date column\n",
        "df = df.drop(columns=['Date'], axis=1)"
      ]
    },
    {
      "cell_type": "code",
      "execution_count": null,
      "metadata": {
        "execution": {
          "iopub.execute_input": "2025-03-27T20:45:40.268968Z",
          "iopub.status.busy": "2025-03-27T20:45:40.268757Z",
          "iopub.status.idle": "2025-03-27T20:45:40.273336Z",
          "shell.execute_reply": "2025-03-27T20:45:40.272537Z",
          "shell.execute_reply.started": "2025-03-27T20:45:40.268949Z"
        },
        "id": "mnaK9jjTlbwc"
      },
      "outputs": [],
      "source": [
        "# Take a copy of the cleaned data\n",
        "df1 = df.copy()"
      ]
    },
    {
      "cell_type": "code",
      "execution_count": null,
      "metadata": {
        "execution": {
          "iopub.execute_input": "2025-03-27T20:45:40.300234Z",
          "iopub.status.busy": "2025-03-27T20:45:40.300044Z",
          "iopub.status.idle": "2025-03-27T20:45:40.304140Z",
          "shell.execute_reply": "2025-03-27T20:45:40.303398Z",
          "shell.execute_reply.started": "2025-03-27T20:45:40.300218Z"
        },
        "id": "J0D0HqSzl-Bf"
      },
      "outputs": [],
      "source": [
        "# Keep the cleaned description column and remove the other two description columns\n",
        "df = df.drop(columns=['Description Stem', 'Description Lemma', 'Description Original'], axis=1)"
      ]
    },
    {
      "cell_type": "code",
      "execution_count": null,
      "metadata": {
        "colab": {
          "base_uri": "https://localhost:8080/",
          "height": 206
        },
        "execution": {
          "iopub.execute_input": "2025-03-27T20:45:40.339794Z",
          "iopub.status.busy": "2025-03-27T20:45:40.339602Z",
          "iopub.status.idle": "2025-03-27T20:45:40.370689Z",
          "shell.execute_reply": "2025-03-27T20:45:40.369878Z",
          "shell.execute_reply.started": "2025-03-27T20:45:40.339777Z"
        },
        "id": "eAAvOl9VWwbj",
        "outputId": "b2da1d5f-feda-42f0-b588-90c1fc9312ad"
      },
      "outputs": [
        {
          "data": {
            "text/html": [
              "<div>\n",
              "<style scoped>\n",
              "    .dataframe tbody tr th:only-of-type {\n",
              "        vertical-align: middle;\n",
              "    }\n",
              "\n",
              "    .dataframe tbody tr th {\n",
              "        vertical-align: top;\n",
              "    }\n",
              "\n",
              "    .dataframe thead th {\n",
              "        text-align: right;\n",
              "    }\n",
              "</style>\n",
              "<table border=\"1\" class=\"dataframe\">\n",
              "  <thead>\n",
              "    <tr style=\"text-align: right;\">\n",
              "      <th></th>\n",
              "      <th>TFIDF_activity</th>\n",
              "      <th>TFIDF_area</th>\n",
              "      <th>TFIDF_causing</th>\n",
              "      <th>TFIDF_employee</th>\n",
              "      <th>TFIDF_hand</th>\n",
              "      <th>TFIDF_injury</th>\n",
              "      <th>TFIDF_left</th>\n",
              "      <th>TFIDF_operator</th>\n",
              "      <th>TFIDF_right</th>\n",
              "      <th>TFIDF_time</th>\n",
              "    </tr>\n",
              "  </thead>\n",
              "  <tbody>\n",
              "    <tr>\n",
              "      <th>0</th>\n",
              "      <td>0.0</td>\n",
              "      <td>0.000000</td>\n",
              "      <td>0.000000</td>\n",
              "      <td>0.0</td>\n",
              "      <td>0.000000</td>\n",
              "      <td>0.000000</td>\n",
              "      <td>0.000000</td>\n",
              "      <td>0.0</td>\n",
              "      <td>0.00000</td>\n",
              "      <td>0.0</td>\n",
              "    </tr>\n",
              "    <tr>\n",
              "      <th>1</th>\n",
              "      <td>0.0</td>\n",
              "      <td>1.000000</td>\n",
              "      <td>0.000000</td>\n",
              "      <td>0.0</td>\n",
              "      <td>0.000000</td>\n",
              "      <td>0.000000</td>\n",
              "      <td>0.000000</td>\n",
              "      <td>0.0</td>\n",
              "      <td>0.00000</td>\n",
              "      <td>0.0</td>\n",
              "    </tr>\n",
              "    <tr>\n",
              "      <th>2</th>\n",
              "      <td>0.0</td>\n",
              "      <td>0.553939</td>\n",
              "      <td>0.383344</td>\n",
              "      <td>0.0</td>\n",
              "      <td>0.412550</td>\n",
              "      <td>0.461166</td>\n",
              "      <td>0.404137</td>\n",
              "      <td>0.0</td>\n",
              "      <td>0.00000</td>\n",
              "      <td>0.0</td>\n",
              "    </tr>\n",
              "    <tr>\n",
              "      <th>3</th>\n",
              "      <td>0.0</td>\n",
              "      <td>0.000000</td>\n",
              "      <td>0.349399</td>\n",
              "      <td>0.0</td>\n",
              "      <td>0.752037</td>\n",
              "      <td>0.420330</td>\n",
              "      <td>0.368351</td>\n",
              "      <td>0.0</td>\n",
              "      <td>0.00000</td>\n",
              "      <td>0.0</td>\n",
              "    </tr>\n",
              "    <tr>\n",
              "      <th>4</th>\n",
              "      <td>0.0</td>\n",
              "      <td>0.000000</td>\n",
              "      <td>0.529535</td>\n",
              "      <td>0.0</td>\n",
              "      <td>0.000000</td>\n",
              "      <td>0.637035</td>\n",
              "      <td>0.000000</td>\n",
              "      <td>0.0</td>\n",
              "      <td>0.56016</td>\n",
              "      <td>0.0</td>\n",
              "    </tr>\n",
              "  </tbody>\n",
              "</table>\n",
              "</div>"
            ],
            "text/plain": [
              "   TFIDF_activity  TFIDF_area  TFIDF_causing  TFIDF_employee  TFIDF_hand  \\\n",
              "0             0.0    0.000000       0.000000             0.0    0.000000   \n",
              "1             0.0    1.000000       0.000000             0.0    0.000000   \n",
              "2             0.0    0.553939       0.383344             0.0    0.412550   \n",
              "3             0.0    0.000000       0.349399             0.0    0.752037   \n",
              "4             0.0    0.000000       0.529535             0.0    0.000000   \n",
              "\n",
              "   TFIDF_injury  TFIDF_left  TFIDF_operator  TFIDF_right  TFIDF_time  \n",
              "0      0.000000    0.000000             0.0      0.00000         0.0  \n",
              "1      0.000000    0.000000             0.0      0.00000         0.0  \n",
              "2      0.461166    0.404137             0.0      0.00000         0.0  \n",
              "3      0.420330    0.368351             0.0      0.00000         0.0  \n",
              "4      0.637035    0.000000             0.0      0.56016         0.0  "
            ]
          },
          "execution_count": 48,
          "metadata": {},
          "output_type": "execute_result"
        }
      ],
      "source": [
        "from sklearn.feature_extraction.text import TfidfVectorizer\n",
        "\n",
        "# TfidfVectorizer to convert text data to numbers\n",
        "vectorizer = TfidfVectorizer(max_features=10)\n",
        "df_id = vectorizer.fit_transform(df['Description'])\n",
        "df_id = df_id.toarray()\n",
        "\n",
        "# Creating dataframe of description_ifidf\n",
        "df_id = pd.DataFrame(df_id, columns=[\"TFIDF_\" + n for n in vectorizer.get_feature_names_out()])\n",
        "df_id.head(5)"
      ]
    },
    {
      "cell_type": "code",
      "execution_count": null,
      "metadata": {
        "execution": {
          "iopub.execute_input": "2025-03-27T20:45:40.371913Z",
          "iopub.status.busy": "2025-03-27T20:45:40.371721Z",
          "iopub.status.idle": "2025-03-27T20:45:40.375951Z",
          "shell.execute_reply": "2025-03-27T20:45:40.375031Z",
          "shell.execute_reply.started": "2025-03-27T20:45:40.371897Z"
        },
        "id": "t67OkrmQXUJR"
      },
      "outputs": [],
      "source": [
        "# Drop the description column in the df dataset\n",
        "df = df.drop(columns=['Description'], axis=1)"
      ]
    },
    {
      "cell_type": "code",
      "execution_count": null,
      "metadata": {
        "execution": {
          "iopub.execute_input": "2025-03-27T20:45:40.408385Z",
          "iopub.status.busy": "2025-03-27T20:45:40.408154Z",
          "iopub.status.idle": "2025-03-27T20:45:40.412656Z",
          "shell.execute_reply": "2025-03-27T20:45:40.411972Z",
          "shell.execute_reply.started": "2025-03-27T20:45:40.408366Z"
        },
        "id": "mwVXj0cRXrWK"
      },
      "outputs": [],
      "source": [
        "# Merge the Tfid dataset\n",
        "df = pd.concat([df, df_id], axis=1)"
      ]
    },
    {
      "cell_type": "code",
      "execution_count": null,
      "metadata": {
        "colab": {
          "base_uri": "https://localhost:8080/",
          "height": 270
        },
        "execution": {
          "iopub.execute_input": "2025-03-27T20:45:40.437220Z",
          "iopub.status.busy": "2025-03-27T20:45:40.437031Z",
          "iopub.status.idle": "2025-03-27T20:45:40.454772Z",
          "shell.execute_reply": "2025-03-27T20:45:40.453901Z",
          "shell.execute_reply.started": "2025-03-27T20:45:40.437204Z"
        },
        "id": "5WO6v2itX0RU",
        "outputId": "949571b6-b7ef-4f12-9e92-9835d94084b6"
      },
      "outputs": [
        {
          "data": {
            "text/html": [
              "<div>\n",
              "<style scoped>\n",
              "    .dataframe tbody tr th:only-of-type {\n",
              "        vertical-align: middle;\n",
              "    }\n",
              "\n",
              "    .dataframe tbody tr th {\n",
              "        vertical-align: top;\n",
              "    }\n",
              "\n",
              "    .dataframe thead th {\n",
              "        text-align: right;\n",
              "    }\n",
              "</style>\n",
              "<table border=\"1\" class=\"dataframe\">\n",
              "  <thead>\n",
              "    <tr style=\"text-align: right;\">\n",
              "      <th></th>\n",
              "      <th>index</th>\n",
              "      <th>Country</th>\n",
              "      <th>Local</th>\n",
              "      <th>Industry Sector</th>\n",
              "      <th>Accident Level</th>\n",
              "      <th>Potential Accident Level</th>\n",
              "      <th>Gender</th>\n",
              "      <th>Employment</th>\n",
              "      <th>Critical Risk</th>\n",
              "      <th>Year</th>\n",
              "      <th>...</th>\n",
              "      <th>TFIDF_activity</th>\n",
              "      <th>TFIDF_area</th>\n",
              "      <th>TFIDF_causing</th>\n",
              "      <th>TFIDF_employee</th>\n",
              "      <th>TFIDF_hand</th>\n",
              "      <th>TFIDF_injury</th>\n",
              "      <th>TFIDF_left</th>\n",
              "      <th>TFIDF_operator</th>\n",
              "      <th>TFIDF_right</th>\n",
              "      <th>TFIDF_time</th>\n",
              "    </tr>\n",
              "  </thead>\n",
              "  <tbody>\n",
              "    <tr>\n",
              "      <th>0</th>\n",
              "      <td>0</td>\n",
              "      <td>1</td>\n",
              "      <td>1</td>\n",
              "      <td>1</td>\n",
              "      <td>0</td>\n",
              "      <td>3</td>\n",
              "      <td>1</td>\n",
              "      <td>1</td>\n",
              "      <td>20</td>\n",
              "      <td>0</td>\n",
              "      <td>...</td>\n",
              "      <td>0.0</td>\n",
              "      <td>0.000000</td>\n",
              "      <td>0.000000</td>\n",
              "      <td>0.0</td>\n",
              "      <td>0.000000</td>\n",
              "      <td>0.000000</td>\n",
              "      <td>0.000000</td>\n",
              "      <td>0.0</td>\n",
              "      <td>0.00000</td>\n",
              "      <td>0.0</td>\n",
              "    </tr>\n",
              "    <tr>\n",
              "      <th>1</th>\n",
              "      <td>1</td>\n",
              "      <td>2</td>\n",
              "      <td>2</td>\n",
              "      <td>1</td>\n",
              "      <td>0</td>\n",
              "      <td>3</td>\n",
              "      <td>1</td>\n",
              "      <td>0</td>\n",
              "      <td>21</td>\n",
              "      <td>0</td>\n",
              "      <td>...</td>\n",
              "      <td>0.0</td>\n",
              "      <td>1.000000</td>\n",
              "      <td>0.000000</td>\n",
              "      <td>0.0</td>\n",
              "      <td>0.000000</td>\n",
              "      <td>0.000000</td>\n",
              "      <td>0.000000</td>\n",
              "      <td>0.0</td>\n",
              "      <td>0.00000</td>\n",
              "      <td>0.0</td>\n",
              "    </tr>\n",
              "    <tr>\n",
              "      <th>2</th>\n",
              "      <td>2</td>\n",
              "      <td>1</td>\n",
              "      <td>3</td>\n",
              "      <td>1</td>\n",
              "      <td>0</td>\n",
              "      <td>2</td>\n",
              "      <td>1</td>\n",
              "      <td>2</td>\n",
              "      <td>15</td>\n",
              "      <td>0</td>\n",
              "      <td>...</td>\n",
              "      <td>0.0</td>\n",
              "      <td>0.553939</td>\n",
              "      <td>0.383344</td>\n",
              "      <td>0.0</td>\n",
              "      <td>0.412550</td>\n",
              "      <td>0.461166</td>\n",
              "      <td>0.404137</td>\n",
              "      <td>0.0</td>\n",
              "      <td>0.00000</td>\n",
              "      <td>0.0</td>\n",
              "    </tr>\n",
              "    <tr>\n",
              "      <th>3</th>\n",
              "      <td>3</td>\n",
              "      <td>1</td>\n",
              "      <td>4</td>\n",
              "      <td>1</td>\n",
              "      <td>0</td>\n",
              "      <td>0</td>\n",
              "      <td>1</td>\n",
              "      <td>1</td>\n",
              "      <td>16</td>\n",
              "      <td>0</td>\n",
              "      <td>...</td>\n",
              "      <td>0.0</td>\n",
              "      <td>0.000000</td>\n",
              "      <td>0.349399</td>\n",
              "      <td>0.0</td>\n",
              "      <td>0.752037</td>\n",
              "      <td>0.420330</td>\n",
              "      <td>0.368351</td>\n",
              "      <td>0.0</td>\n",
              "      <td>0.00000</td>\n",
              "      <td>0.0</td>\n",
              "    </tr>\n",
              "    <tr>\n",
              "      <th>4</th>\n",
              "      <td>4</td>\n",
              "      <td>1</td>\n",
              "      <td>4</td>\n",
              "      <td>1</td>\n",
              "      <td>3</td>\n",
              "      <td>3</td>\n",
              "      <td>1</td>\n",
              "      <td>1</td>\n",
              "      <td>16</td>\n",
              "      <td>0</td>\n",
              "      <td>...</td>\n",
              "      <td>0.0</td>\n",
              "      <td>0.000000</td>\n",
              "      <td>0.529535</td>\n",
              "      <td>0.0</td>\n",
              "      <td>0.000000</td>\n",
              "      <td>0.637035</td>\n",
              "      <td>0.000000</td>\n",
              "      <td>0.0</td>\n",
              "      <td>0.56016</td>\n",
              "      <td>0.0</td>\n",
              "    </tr>\n",
              "  </tbody>\n",
              "</table>\n",
              "<p>5 rows × 22 columns</p>\n",
              "</div>"
            ],
            "text/plain": [
              "   index  Country  Local  Industry Sector Accident Level  \\\n",
              "0      0        1      1                1              0   \n",
              "1      1        2      2                1              0   \n",
              "2      2        1      3                1              0   \n",
              "3      3        1      4                1              0   \n",
              "4      4        1      4                1              3   \n",
              "\n",
              "  Potential Accident Level  Gender  Employment  Critical Risk  Year  ...  \\\n",
              "0                        3       1           1             20     0  ...   \n",
              "1                        3       1           0             21     0  ...   \n",
              "2                        2       1           2             15     0  ...   \n",
              "3                        0       1           1             16     0  ...   \n",
              "4                        3       1           1             16     0  ...   \n",
              "\n",
              "   TFIDF_activity  TFIDF_area  TFIDF_causing  TFIDF_employee  TFIDF_hand  \\\n",
              "0             0.0    0.000000       0.000000             0.0    0.000000   \n",
              "1             0.0    1.000000       0.000000             0.0    0.000000   \n",
              "2             0.0    0.553939       0.383344             0.0    0.412550   \n",
              "3             0.0    0.000000       0.349399             0.0    0.752037   \n",
              "4             0.0    0.000000       0.529535             0.0    0.000000   \n",
              "\n",
              "   TFIDF_injury  TFIDF_left  TFIDF_operator  TFIDF_right  TFIDF_time  \n",
              "0      0.000000    0.000000             0.0      0.00000         0.0  \n",
              "1      0.000000    0.000000             0.0      0.00000         0.0  \n",
              "2      0.461166    0.404137             0.0      0.00000         0.0  \n",
              "3      0.420330    0.368351             0.0      0.00000         0.0  \n",
              "4      0.637035    0.000000             0.0      0.56016         0.0  \n",
              "\n",
              "[5 rows x 22 columns]"
            ]
          },
          "execution_count": 51,
          "metadata": {},
          "output_type": "execute_result"
        }
      ],
      "source": [
        "# Displat the first five rows of merged data\n",
        "df.head()"
      ]
    },
    {
      "cell_type": "markdown",
      "metadata": {
        "id": "iD0mP0KYvzBb"
      },
      "source": [
        "### _______________________________________________________________________________________________________________________\n",
        "\n",
        "# Deep Learning - RNN"
      ]
    },
    {
      "cell_type": "markdown",
      "metadata": {
        "id": "kZrlRCsHZwZv"
      },
      "source": [
        "#### **Train Test Split**"
      ]
    },
    {
      "cell_type": "code",
      "execution_count": null,
      "metadata": {
        "execution": {
          "iopub.execute_input": "2025-03-27T20:45:40.458824Z",
          "iopub.status.busy": "2025-03-27T20:45:40.458625Z",
          "iopub.status.idle": "2025-03-27T20:45:40.467195Z",
          "shell.execute_reply": "2025-03-27T20:45:40.466621Z",
          "shell.execute_reply.started": "2025-03-27T20:45:40.458807Z"
        },
        "id": "GSKYjr_yvzBb"
      },
      "outputs": [],
      "source": [
        "# Split the columns into X and Y variables for model training and building\n",
        "X = df.drop(columns = ['Accident Level'], axis=1)\n",
        "y = df['Accident Level']"
      ]
    },
    {
      "cell_type": "code",
      "execution_count": null,
      "metadata": {
        "execution": {
          "iopub.execute_input": "2025-03-27T20:45:40.491170Z",
          "iopub.status.busy": "2025-03-27T20:45:40.490985Z",
          "iopub.status.idle": "2025-03-27T20:45:40.508674Z",
          "shell.execute_reply": "2025-03-27T20:45:40.508127Z",
          "shell.execute_reply.started": "2025-03-27T20:45:40.491153Z"
        },
        "id": "pJbM9os-nsMc"
      },
      "outputs": [],
      "source": [
        "# split data into train and test\n",
        "x_split, x_test, y_split, y_test = train_test_split(X, y, test_size=0.2, stratify=y, random_state=42)\n",
        "x_train, x_val, y_train, y_val = train_test_split(x_split, y_split, test_size=0.15, stratify=y_split, random_state=42)\n",
        "\n",
        "# standardize the dataset using StandardScaler\n",
        "\n",
        "scaler = StandardScaler()\n",
        "x_train = scaler.fit_transform(x_train)\n",
        "x_val = scaler.fit_transform(x_val)\n",
        "x_test = scaler.transform(x_test)"
      ]
    },
    {
      "cell_type": "code",
      "execution_count": null,
      "metadata": {
        "execution": {
          "iopub.execute_input": "2025-03-27T20:45:40.518572Z",
          "iopub.status.busy": "2025-03-27T20:45:40.518379Z",
          "iopub.status.idle": "2025-03-27T20:45:40.525411Z",
          "shell.execute_reply": "2025-03-27T20:45:40.524768Z",
          "shell.execute_reply.started": "2025-03-27T20:45:40.518555Z"
        },
        "id": "Kj36_kagvzBc",
        "outputId": "1bff2f10-9075-46a1-da24-c47c7fa5e92a"
      },
      "outputs": [
        {
          "name": "stdout",
          "output_type": "stream",
          "text": [
            "x_split shape: (334, 21)\n",
            "x_test shape: (84, 21)\n",
            "y_split shape: (334,)\n",
            "y_test shape: (84,)\n",
            "x_train shape: (283, 21)\n",
            "x_val shape: (51, 21)\n",
            "y_train shape: (283,)\n",
            "y_val shape: (51,)\n"
          ]
        }
      ],
      "source": [
        "# Printing shapes of the variables again:\n",
        "\n",
        "print(\"x_split shape:\", x_split.shape)\n",
        "print(\"x_test shape:\", x_test.shape)\n",
        "print(\"y_split shape:\", y_split.shape)\n",
        "print(\"y_test shape:\", y_test.shape)\n",
        "\n",
        "print(\"x_train shape:\", x_train.shape)\n",
        "print(\"x_val shape:\", x_val.shape)\n",
        "print(\"y_train shape:\", y_train.shape)\n",
        "print(\"y_val shape:\", y_val.shape)"
      ]
    },
    {
      "cell_type": "code",
      "execution_count": null,
      "metadata": {
        "execution": {
          "iopub.execute_input": "2025-03-27T20:45:40.543680Z",
          "iopub.status.busy": "2025-03-27T20:45:40.543484Z",
          "iopub.status.idle": "2025-03-27T20:45:40.547540Z",
          "shell.execute_reply": "2025-03-27T20:45:40.546742Z",
          "shell.execute_reply.started": "2025-03-27T20:45:40.543663Z"
        },
        "id": "9z8UGWbZvzBc"
      },
      "outputs": [],
      "source": [
        "# Re-shaping my input dataframes, since RNN's expect a 3-D input structure -> (batch_size, timesteps, features)\n",
        "\n",
        "x_train_reshaped = np.reshape(x_train, (x_train.shape[0], 1, x_train.shape[1]))\n",
        "x_val_reshaped = np.reshape(x_val, (x_val.shape[0], 1, x_val.shape[1]))\n",
        "x_test_reshaped = np.reshape(x_test, (x_test.shape[0], 1, x_test.shape[1]))"
      ]
    },
    {
      "cell_type": "code",
      "execution_count": null,
      "metadata": {
        "execution": {
          "iopub.execute_input": "2025-03-27T20:45:40.575006Z",
          "iopub.status.busy": "2025-03-27T20:45:40.574795Z",
          "iopub.status.idle": "2025-03-27T20:45:40.582666Z",
          "shell.execute_reply": "2025-03-27T20:45:40.582014Z",
          "shell.execute_reply.started": "2025-03-27T20:45:40.574987Z"
        },
        "id": "xXz9mJbfvzBc",
        "outputId": "4e342708-6f6a-4bda-d34c-ff5e634942e9"
      },
      "outputs": [
        {
          "name": "stdout",
          "output_type": "stream",
          "text": [
            "y_train_encoded shape: (283, 5)\n",
            "y_val_encoded shape: (51, 5)\n",
            "y_test_encoded shape: (84, 5)\n"
          ]
        }
      ],
      "source": [
        "'''\n",
        "Performing a One Hot Encoding(OHE) since, the loss calculating function, \"categorical_crossentropy\"\n",
        "used in my RNN to calculate the loss function expects the target variable (y) to be OHE\n",
        "'''\n",
        "y_train_encoded = pd.get_dummies(pd.Categorical(y_train, categories=range(5))).to_numpy().astype(int)\n",
        "y_val_encoded = pd.get_dummies(pd.Categorical(y_val, categories=range(5))).to_numpy().astype(int)\n",
        "y_test_encoded = pd.get_dummies(pd.Categorical(y_test, categories=range(5))).to_numpy().astype(int)\n",
        "\n",
        "print(\"y_train_encoded shape:\", y_train_encoded.shape)\n",
        "print(\"y_val_encoded shape:\", y_val_encoded.shape)\n",
        "print(\"y_test_encoded shape:\", y_test_encoded.shape)"
      ]
    },
    {
      "cell_type": "code",
      "execution_count": null,
      "metadata": {
        "execution": {
          "iopub.execute_input": "2025-03-27T20:45:40.591799Z",
          "iopub.status.busy": "2025-03-27T20:45:40.591585Z",
          "iopub.status.idle": "2025-03-27T20:45:40.599368Z",
          "shell.execute_reply": "2025-03-27T20:45:40.598707Z",
          "shell.execute_reply.started": "2025-03-27T20:45:40.591781Z"
        },
        "id": "x4i5n6ZbvzBc",
        "outputId": "e58d965d-b01f-4df8-d516-c8b4db42850b"
      },
      "outputs": [
        {
          "name": "stdout",
          "output_type": "stream",
          "text": [
            "\n",
            " Accident Level\n",
            "0    209\n",
            "1     27\n",
            "2     21\n",
            "3     21\n",
            "4      5\n",
            "Name: count, dtype: int64 \n",
            " Accident Level\n",
            "0    62\n",
            "1     8\n",
            "2     6\n",
            "3     6\n",
            "4     2\n",
            "Name: count, dtype: int64 \n",
            " Accident Level\n",
            "0    38\n",
            "1     5\n",
            "2     4\n",
            "3     3\n",
            "4     1\n",
            "Name: count, dtype: int64\n"
          ]
        }
      ],
      "source": [
        "print(\"\\n\", y_train.value_counts(),\n",
        "      \"\\n\", y_test.value_counts(),\n",
        "      \"\\n\", y_val.value_counts()\n",
        "     )"
      ]
    },
    {
      "cell_type": "code",
      "execution_count": null,
      "metadata": {
        "execution": {
          "iopub.execute_input": "2025-03-27T20:45:40.608063Z",
          "iopub.status.busy": "2025-03-27T20:45:40.607785Z",
          "iopub.status.idle": "2025-03-27T20:45:40.615924Z",
          "shell.execute_reply": "2025-03-27T20:45:40.615231Z",
          "shell.execute_reply.started": "2025-03-27T20:45:40.608040Z"
        },
        "id": "B9WUglR9vzBc",
        "outputId": "242ef3a9-3bf6-4fad-dc71-b1580cee9298"
      },
      "outputs": [
        {
          "name": "stdout",
          "output_type": "stream",
          "text": [
            "x_test_reshaped shape: (84, 1, 21)\n",
            "x_train_reshaped shape: (283, 1, 21)\n",
            "x_val_reshaped shape: (51, 1, 21)\n"
          ]
        }
      ],
      "source": [
        "# Printing shapes of the x-dataframes:\n",
        "\n",
        "print(\"x_test_reshaped shape:\", x_test_reshaped.shape)\n",
        "print(\"x_train_reshaped shape:\", x_train_reshaped.shape)\n",
        "print(\"x_val_reshaped shape:\", x_val_reshaped.shape)\n"
      ]
    },
    {
      "cell_type": "code",
      "execution_count": null,
      "metadata": {
        "execution": {
          "iopub.execute_input": "2025-03-27T20:45:40.624740Z",
          "iopub.status.busy": "2025-03-27T20:45:40.624537Z",
          "iopub.status.idle": "2025-03-27T20:45:42.618134Z",
          "shell.execute_reply": "2025-03-27T20:45:42.617380Z",
          "shell.execute_reply.started": "2025-03-27T20:45:40.624722Z"
        },
        "id": "5PVR88pnvzBd"
      },
      "outputs": [],
      "source": [
        "# RNN Model Creation\n",
        "\n",
        "import tensorflow as tf\n",
        "from tensorflow.keras.models import Sequential\n",
        "from tensorflow.keras.layers import SimpleRNN, Dense\n",
        "\n",
        "RNN = Sequential([\n",
        "            SimpleRNN(128, activation=\"tanh\", return_sequences=True, input_shape=(1, x_train.shape[1])),  # Layer 1\n",
        "            SimpleRNN(64, activation=\"tanh\", return_sequences=True),  # Layer 2\n",
        "            SimpleRNN(32, activation=\"tanh\"),  # Layer 3\n",
        "            Dense(5, activation=\"softmax\")  # Using Softmax for multi-class classification\n",
        "])"
      ]
    },
    {
      "cell_type": "code",
      "execution_count": null,
      "metadata": {
        "execution": {
          "iopub.execute_input": "2025-03-27T20:45:42.619619Z",
          "iopub.status.busy": "2025-03-27T20:45:42.619276Z",
          "iopub.status.idle": "2025-03-27T20:45:42.630664Z",
          "shell.execute_reply": "2025-03-27T20:45:42.629949Z",
          "shell.execute_reply.started": "2025-03-27T20:45:42.619585Z"
        },
        "id": "rMgkhxNcvzBd"
      },
      "outputs": [],
      "source": [
        "# Compiling the model. Metric Chosen -> \"Accuracy\"\n",
        "\n",
        "RNN.compile(optimizer=\"adam\", loss=\"categorical_crossentropy\", metrics=[\"accuracy\"])"
      ]
    },
    {
      "cell_type": "code",
      "execution_count": null,
      "metadata": {
        "execution": {
          "iopub.execute_input": "2025-03-27T20:45:42.632331Z",
          "iopub.status.busy": "2025-03-27T20:45:42.632083Z",
          "iopub.status.idle": "2025-03-27T20:46:08.449852Z",
          "shell.execute_reply": "2025-03-27T20:46:08.449141Z",
          "shell.execute_reply.started": "2025-03-27T20:45:42.632285Z"
        },
        "id": "UtrAtSLevzBd",
        "outputId": "02d6429e-0760-41d4-fbfe-a8c1396205af"
      },
      "outputs": [
        {
          "name": "stdout",
          "output_type": "stream",
          "text": [
            "Epoch 1/20\n",
            "\u001b[1m5/5\u001b[0m \u001b[32m━━━━━━━━━━━━━━━━━━━━\u001b[0m\u001b[37m\u001b[0m \u001b[1m25s\u001b[0m 5s/step - accuracy: 0.1103 - loss: 1.6970 - val_accuracy: 0.2353 - val_loss: 1.6031\n",
            "Epoch 2/20\n",
            "\u001b[1m5/5\u001b[0m \u001b[32m━━━━━━━━━━━━━━━━━━━━\u001b[0m\u001b[37m\u001b[0m \u001b[1m0s\u001b[0m 7ms/step - accuracy: 0.3226 - loss: 1.5003 - val_accuracy: 0.3725 - val_loss: 1.5175\n",
            "Epoch 3/20\n",
            "\u001b[1m5/5\u001b[0m \u001b[32m━━━━━━━━━━━━━━━━━━━━\u001b[0m\u001b[37m\u001b[0m \u001b[1m0s\u001b[0m 7ms/step - accuracy: 0.5489 - loss: 1.3805 - val_accuracy: 0.4118 - val_loss: 1.4494\n",
            "Epoch 4/20\n",
            "\u001b[1m5/5\u001b[0m \u001b[32m━━━━━━━━━━━━━━━━━━━━\u001b[0m\u001b[37m\u001b[0m \u001b[1m0s\u001b[0m 7ms/step - accuracy: 0.6087 - loss: 1.2849 - val_accuracy: 0.5098 - val_loss: 1.3722\n",
            "Epoch 5/20\n",
            "\u001b[1m5/5\u001b[0m \u001b[32m━━━━━━━━━━━━━━━━━━━━\u001b[0m\u001b[37m\u001b[0m \u001b[1m0s\u001b[0m 7ms/step - accuracy: 0.6541 - loss: 1.1923 - val_accuracy: 0.5294 - val_loss: 1.3031\n",
            "Epoch 6/20\n",
            "\u001b[1m5/5\u001b[0m \u001b[32m━━━━━━━━━━━━━━━━━━━━\u001b[0m\u001b[37m\u001b[0m \u001b[1m0s\u001b[0m 7ms/step - accuracy: 0.6900 - loss: 1.0701 - val_accuracy: 0.6078 - val_loss: 1.2257\n",
            "Epoch 7/20\n",
            "\u001b[1m5/5\u001b[0m \u001b[32m━━━━━━━━━━━━━━━━━━━━\u001b[0m\u001b[37m\u001b[0m \u001b[1m0s\u001b[0m 7ms/step - accuracy: 0.7004 - loss: 0.9703 - val_accuracy: 0.5882 - val_loss: 1.1456\n",
            "Epoch 8/20\n",
            "\u001b[1m5/5\u001b[0m \u001b[32m━━━━━━━━━━━━━━━━━━━━\u001b[0m\u001b[37m\u001b[0m \u001b[1m0s\u001b[0m 7ms/step - accuracy: 0.7453 - loss: 0.8698 - val_accuracy: 0.5882 - val_loss: 1.0769\n",
            "Epoch 9/20\n",
            "\u001b[1m5/5\u001b[0m \u001b[32m━━━━━━━━━━━━━━━━━━━━\u001b[0m\u001b[37m\u001b[0m \u001b[1m0s\u001b[0m 7ms/step - accuracy: 0.7684 - loss: 0.8170 - val_accuracy: 0.6078 - val_loss: 1.0039\n",
            "Epoch 10/20\n",
            "\u001b[1m5/5\u001b[0m \u001b[32m━━━━━━━━━━━━━━━━━━━━\u001b[0m\u001b[37m\u001b[0m \u001b[1m0s\u001b[0m 7ms/step - accuracy: 0.7972 - loss: 0.7251 - val_accuracy: 0.6078 - val_loss: 0.9420\n",
            "Epoch 11/20\n",
            "\u001b[1m5/5\u001b[0m \u001b[32m━━━━━━━━━━━━━━━━━━━━\u001b[0m\u001b[37m\u001b[0m \u001b[1m0s\u001b[0m 7ms/step - accuracy: 0.7895 - loss: 0.6992 - val_accuracy: 0.6471 - val_loss: 0.9025\n",
            "Epoch 12/20\n",
            "\u001b[1m5/5\u001b[0m \u001b[32m━━━━━━━━━━━━━━━━━━━━\u001b[0m\u001b[37m\u001b[0m \u001b[1m0s\u001b[0m 6ms/step - accuracy: 0.7753 - loss: 0.6868 - val_accuracy: 0.6667 - val_loss: 0.8859\n",
            "Epoch 13/20\n",
            "\u001b[1m5/5\u001b[0m \u001b[32m━━━━━━━━━━━━━━━━━━━━\u001b[0m\u001b[37m\u001b[0m \u001b[1m0s\u001b[0m 6ms/step - accuracy: 0.7661 - loss: 0.6490 - val_accuracy: 0.6863 - val_loss: 0.8819\n",
            "Epoch 14/20\n",
            "\u001b[1m5/5\u001b[0m \u001b[32m━━━━━━━━━━━━━━━━━━━━\u001b[0m\u001b[37m\u001b[0m \u001b[1m0s\u001b[0m 7ms/step - accuracy: 0.8096 - loss: 0.5847 - val_accuracy: 0.6863 - val_loss: 0.8885\n",
            "Epoch 15/20\n",
            "\u001b[1m5/5\u001b[0m \u001b[32m━━━━━━━━━━━━━━━━━━━━\u001b[0m\u001b[37m\u001b[0m \u001b[1m0s\u001b[0m 6ms/step - accuracy: 0.7809 - loss: 0.5980 - val_accuracy: 0.6667 - val_loss: 0.8957\n",
            "Epoch 16/20\n",
            "\u001b[1m5/5\u001b[0m \u001b[32m━━━━━━━━━━━━━━━━━━━━\u001b[0m\u001b[37m\u001b[0m \u001b[1m0s\u001b[0m 6ms/step - accuracy: 0.7817 - loss: 0.5967 - val_accuracy: 0.6863 - val_loss: 0.8873\n",
            "Epoch 17/20\n",
            "\u001b[1m5/5\u001b[0m \u001b[32m━━━━━━━━━━━━━━━━━━━━\u001b[0m\u001b[37m\u001b[0m \u001b[1m0s\u001b[0m 6ms/step - accuracy: 0.7881 - loss: 0.5550 - val_accuracy: 0.6667 - val_loss: 0.8909\n",
            "Epoch 18/20\n",
            "\u001b[1m5/5\u001b[0m \u001b[32m━━━━━━━━━━━━━━━━━━━━\u001b[0m\u001b[37m\u001b[0m \u001b[1m0s\u001b[0m 6ms/step - accuracy: 0.8019 - loss: 0.5335 - val_accuracy: 0.6471 - val_loss: 0.8919\n",
            "Epoch 19/20\n",
            "\u001b[1m5/5\u001b[0m \u001b[32m━━━━━━━━━━━━━━━━━━━━\u001b[0m\u001b[37m\u001b[0m \u001b[1m0s\u001b[0m 6ms/step - accuracy: 0.7962 - loss: 0.5280 - val_accuracy: 0.6471 - val_loss: 0.8878\n",
            "Epoch 20/20\n",
            "\u001b[1m5/5\u001b[0m \u001b[32m━━━━━━━━━━━━━━━━━━━━\u001b[0m\u001b[37m\u001b[0m \u001b[1m0s\u001b[0m 6ms/step - accuracy: 0.8105 - loss: 0.5270 - val_accuracy: 0.6471 - val_loss: 0.8914\n"
          ]
        }
      ],
      "source": [
        "# Model Training\n",
        "\n",
        "history = RNN.fit(\n",
        "    x_train_reshaped, y_train_encoded,\n",
        "    epochs=20, batch_size=64,\n",
        "    validation_data=(x_val_reshaped, y_val_encoded),\n",
        "    verbose=1\n",
        ")"
      ]
    },
    {
      "cell_type": "code",
      "execution_count": null,
      "metadata": {
        "execution": {
          "iopub.execute_input": "2025-03-27T20:46:08.451385Z",
          "iopub.status.busy": "2025-03-27T20:46:08.451112Z",
          "iopub.status.idle": "2025-03-27T20:46:09.449862Z",
          "shell.execute_reply": "2025-03-27T20:46:09.449102Z",
          "shell.execute_reply.started": "2025-03-27T20:46:08.451360Z"
        },
        "id": "Hm8JxfD6vzBd",
        "outputId": "a5315940-66cc-4917-b2f9-d11c114262a3"
      },
      "outputs": [
        {
          "name": "stdout",
          "output_type": "stream",
          "text": [
            "\u001b[1m3/3\u001b[0m \u001b[32m━━━━━━━━━━━━━━━━━━━━\u001b[0m\u001b[37m\u001b[0m \u001b[1m1s\u001b[0m 241ms/step - accuracy: 0.7675 - loss: 0.7786\n",
            "Test Accuracy:  73.81%\n"
          ]
        }
      ],
      "source": [
        "# Model Evaluation\n",
        "\n",
        "test_loss, test_acc = RNN.evaluate(x_test_reshaped, y_test_encoded)\n",
        "print(f\"Test Accuracy: {test_acc*100: .2f}%\")"
      ]
    },
    {
      "cell_type": "code",
      "execution_count": null,
      "metadata": {
        "execution": {
          "iopub.execute_input": "2025-03-27T20:46:09.450896Z",
          "iopub.status.busy": "2025-03-27T20:46:09.450622Z",
          "iopub.status.idle": "2025-03-27T20:46:09.760278Z",
          "shell.execute_reply": "2025-03-27T20:46:09.759393Z",
          "shell.execute_reply.started": "2025-03-27T20:46:09.450873Z"
        },
        "id": "KBUJc3SHvzBd",
        "outputId": "1525b0cb-354c-4f75-a7d0-cbe194dc1276"
      },
      "outputs": [
        {
          "data": {
            "image/png": "[encoded data removed]",
            "text/plain": [
              "<Figure size 640x480 with 1 Axes>"
            ]
          },
          "metadata": {},
          "output_type": "display_data"
        }
      ],
      "source": [
        "#  Plotting training vs. validation accracy over the RNN model's epochs:\n",
        "\n",
        "plt.plot(history.history['accuracy'], label='Training Accuracy')\n",
        "plt.plot(history.history['val_accuracy'], label='Validation Accuracy')\n",
        "plt.xlabel('Epochs')\n",
        "plt.ylabel('Accuracy')\n",
        "plt.legend()\n",
        "plt.title('Training vs Validation Accuracy')\n",
        "plt.show()\n"
      ]
    },
    {
      "cell_type": "markdown",
      "metadata": {
        "id": "tzoRMsRqvzBd"
      },
      "source": [
        "#### Observation:\n",
        "\n",
        "* The accuracy vs. epoch graph clearly shows that the current model is overfitting since Training Set's accuracy is ~80% while the validation set's accuracy is ~60%"
      ]
    },
    {
      "cell_type": "markdown",
      "metadata": {
        "id": "6H_X8vutvzBd"
      },
      "source": [
        "## RNN-2\n",
        "##### - Modifying the previous model to use \"RMSProp\" as my optimizing algorithm and \"LayerNormalization()\" for better model stability. Also, using \"Bi-Directional\" RNN, \"class-weights\" for better Accuracy\n",
        "\n",
        "#### Note:\n",
        "* \"RMSProp\" and \"LayerNormalization\" are highly recommended for RNNs. Reason:\n",
        "  - \"RMSProp\": Using it will help us reduce noise further in a RNN (highly sensitive to noise)\n",
        "  - \"LayerNormalization\": Independent of Batch size and works well with RNNs\n",
        "#####\n",
        "* \"Bi-directional\" RNNs, aka BiRNNs, are used for better contextual processing of data.\n",
        "  - These are built by combining two RNN models; one-> processing data from the begining to end; other -> in reverse direction. Final output of BiRNN is created by using the above two RNNs\n",
        "  - This allows the BiRNN model to have information of both previous and succeeding words for a given target word thereby providing a better contextual understanding\n"
      ]
    },
    {
      "cell_type": "code",
      "execution_count": null,
      "metadata": {
        "execution": {
          "iopub.execute_input": "2025-03-27T20:46:09.761538Z",
          "iopub.status.busy": "2025-03-27T20:46:09.761204Z",
          "iopub.status.idle": "2025-03-27T20:46:09.841148Z",
          "shell.execute_reply": "2025-03-27T20:46:09.840552Z",
          "shell.execute_reply.started": "2025-03-27T20:46:09.761504Z"
        },
        "id": "6Tc5ZMKjvzBe"
      },
      "outputs": [],
      "source": [
        "# Training a second RNN model\n",
        "\n",
        "from tensorflow.keras.layers import LayerNormalization, Bidirectional\n",
        "\n",
        "\n",
        "RNN_2 = Sequential([\n",
        "    Bidirectional(SimpleRNN(128, activation=\"tanh\", return_sequences=True), input_shape=(1, x_train.shape[1])),\n",
        "    LayerNormalization(),\n",
        "    SimpleRNN(64, activation=\"tanh\", return_sequences=True),\n",
        "    LayerNormalization(),\n",
        "    SimpleRNN(32, activation=\"tanh\"),\n",
        "    Dense(5, activation=\"softmax\")\n",
        "])"
      ]
    },
    {
      "cell_type": "code",
      "execution_count": null,
      "metadata": {
        "execution": {
          "iopub.execute_input": "2025-03-27T20:46:09.842150Z",
          "iopub.status.busy": "2025-03-27T20:46:09.841859Z",
          "iopub.status.idle": "2025-03-27T20:46:09.849945Z",
          "shell.execute_reply": "2025-03-27T20:46:09.849076Z",
          "shell.execute_reply.started": "2025-03-27T20:46:09.842120Z"
        },
        "id": "gLydshnwvzBe"
      },
      "outputs": [],
      "source": [
        "# Compiling using 'RMSprop'\n",
        "\n",
        "RNN_2.compile(optimizer=\"RMSprop\", loss=\"categorical_crossentropy\", metrics=[\"accuracy\"])"
      ]
    },
    {
      "cell_type": "code",
      "execution_count": null,
      "metadata": {
        "execution": {
          "iopub.execute_input": "2025-03-27T20:46:09.852486Z",
          "iopub.status.busy": "2025-03-27T20:46:09.852243Z",
          "iopub.status.idle": "2025-03-27T20:46:18.213703Z",
          "shell.execute_reply": "2025-03-27T20:46:18.213004Z",
          "shell.execute_reply.started": "2025-03-27T20:46:09.852466Z"
        },
        "id": "oJ3MPC3AvzBe",
        "outputId": "2eafe11f-fb5c-4020-97a1-935a6ea588e2"
      },
      "outputs": [
        {
          "name": "stdout",
          "output_type": "stream",
          "text": [
            "Epoch 1/20\n",
            "\u001b[1m5/5\u001b[0m \u001b[32m━━━━━━━━━━━━━━━━━━━━\u001b[0m\u001b[37m\u001b[0m \u001b[1m7s\u001b[0m 721ms/step - accuracy: 0.2676 - loss: 1.6690 - val_accuracy: 0.4902 - val_loss: 1.2493\n",
            "Epoch 2/20\n",
            "\u001b[1m5/5\u001b[0m \u001b[32m━━━━━━━━━━━━━━━━━━━━\u001b[0m\u001b[37m\u001b[0m \u001b[1m0s\u001b[0m 7ms/step - accuracy: 0.7357 - loss: 1.0377 - val_accuracy: 0.6471 - val_loss: 1.0622\n",
            "Epoch 3/20\n",
            "\u001b[1m5/5\u001b[0m \u001b[32m━━━━━━━━━━━━━━━━━━━━\u001b[0m\u001b[37m\u001b[0m \u001b[1m0s\u001b[0m 7ms/step - accuracy: 0.7735 - loss: 0.8189 - val_accuracy: 0.6667 - val_loss: 0.9933\n",
            "Epoch 4/20\n",
            "\u001b[1m5/5\u001b[0m \u001b[32m━━━━━━━━━━━━━━━━━━━━\u001b[0m\u001b[37m\u001b[0m \u001b[1m0s\u001b[0m 6ms/step - accuracy: 0.8220 - loss: 0.7094 - val_accuracy: 0.7059 - val_loss: 0.9175\n",
            "Epoch 5/20\n",
            "\u001b[1m5/5\u001b[0m \u001b[32m━━━━━━━━━━━━━━━━━━━━\u001b[0m\u001b[37m\u001b[0m \u001b[1m0s\u001b[0m 7ms/step - accuracy: 0.8209 - loss: 0.6338 - val_accuracy: 0.6667 - val_loss: 0.9423\n",
            "Epoch 6/20\n",
            "\u001b[1m5/5\u001b[0m \u001b[32m━━━━━━━━━━━━━━━━━━━━\u001b[0m\u001b[37m\u001b[0m \u001b[1m0s\u001b[0m 7ms/step - accuracy: 0.8373 - loss: 0.5487 - val_accuracy: 0.7451 - val_loss: 0.8833\n",
            "Epoch 7/20\n",
            "\u001b[1m5/5\u001b[0m \u001b[32m━━━━━━━━━━━━━━━━━━━━\u001b[0m\u001b[37m\u001b[0m \u001b[1m0s\u001b[0m 7ms/step - accuracy: 0.8590 - loss: 0.4841 - val_accuracy: 0.7059 - val_loss: 0.8990\n",
            "Epoch 8/20\n",
            "\u001b[1m5/5\u001b[0m \u001b[32m━━━━━━━━━━━━━━━━━━━━\u001b[0m\u001b[37m\u001b[0m \u001b[1m0s\u001b[0m 7ms/step - accuracy: 0.8821 - loss: 0.4249 - val_accuracy: 0.6863 - val_loss: 0.8627\n",
            "Epoch 9/20\n",
            "\u001b[1m5/5\u001b[0m \u001b[32m━━━━━━━━━━━━━━━━━━━━\u001b[0m\u001b[37m\u001b[0m \u001b[1m0s\u001b[0m 7ms/step - accuracy: 0.8909 - loss: 0.4094 - val_accuracy: 0.6471 - val_loss: 0.9099\n",
            "Epoch 10/20\n",
            "\u001b[1m5/5\u001b[0m \u001b[32m━━━━━━━━━━━━━━━━━━━━\u001b[0m\u001b[37m\u001b[0m \u001b[1m0s\u001b[0m 7ms/step - accuracy: 0.8869 - loss: 0.3707 - val_accuracy: 0.6471 - val_loss: 0.9509\n",
            "Epoch 11/20\n",
            "\u001b[1m5/5\u001b[0m \u001b[32m━━━━━━━━━━━━━━━━━━━━\u001b[0m\u001b[37m\u001b[0m \u001b[1m0s\u001b[0m 7ms/step - accuracy: 0.9178 - loss: 0.3664 - val_accuracy: 0.6471 - val_loss: 0.8912\n",
            "Epoch 12/20\n",
            "\u001b[1m5/5\u001b[0m \u001b[32m━━━━━━━━━━━━━━━━━━━━\u001b[0m\u001b[37m\u001b[0m \u001b[1m0s\u001b[0m 7ms/step - accuracy: 0.9404 - loss: 0.3239 - val_accuracy: 0.7059 - val_loss: 0.8741\n",
            "Epoch 13/20\n",
            "\u001b[1m5/5\u001b[0m \u001b[32m━━━━━━━━━━━━━━━━━━━━\u001b[0m\u001b[37m\u001b[0m \u001b[1m0s\u001b[0m 6ms/step - accuracy: 0.9218 - loss: 0.3167 - val_accuracy: 0.6863 - val_loss: 0.9695\n",
            "Epoch 14/20\n",
            "\u001b[1m5/5\u001b[0m \u001b[32m━━━━━━━━━━━━━━━━━━━━\u001b[0m\u001b[37m\u001b[0m \u001b[1m0s\u001b[0m 6ms/step - accuracy: 0.9102 - loss: 0.3067 - val_accuracy: 0.6471 - val_loss: 0.9716\n",
            "Epoch 15/20\n",
            "\u001b[1m5/5\u001b[0m \u001b[32m━━━━━━━━━━━━━━━━━━━━\u001b[0m\u001b[37m\u001b[0m \u001b[1m0s\u001b[0m 6ms/step - accuracy: 0.9498 - loss: 0.2642 - val_accuracy: 0.6471 - val_loss: 1.0118\n",
            "Epoch 16/20\n",
            "\u001b[1m5/5\u001b[0m \u001b[32m━━━━━━━━━━━━━━━━━━━━\u001b[0m\u001b[37m\u001b[0m \u001b[1m0s\u001b[0m 6ms/step - accuracy: 0.9400 - loss: 0.2662 - val_accuracy: 0.6275 - val_loss: 1.0331\n",
            "Epoch 17/20\n",
            "\u001b[1m5/5\u001b[0m \u001b[32m━━━━━━━━━━━━━━━━━━━━\u001b[0m\u001b[37m\u001b[0m \u001b[1m0s\u001b[0m 7ms/step - accuracy: 0.9481 - loss: 0.2403 - val_accuracy: 0.6667 - val_loss: 0.9139\n",
            "Epoch 18/20\n",
            "\u001b[1m5/5\u001b[0m \u001b[32m━━━━━━━━━━━━━━━━━━━━\u001b[0m\u001b[37m\u001b[0m \u001b[1m0s\u001b[0m 7ms/step - accuracy: 0.9540 - loss: 0.2198 - val_accuracy: 0.6863 - val_loss: 0.9941\n",
            "Epoch 19/20\n",
            "\u001b[1m5/5\u001b[0m \u001b[32m━━━━━━━━━━━━━━━━━━━━\u001b[0m\u001b[37m\u001b[0m \u001b[1m0s\u001b[0m 6ms/step - accuracy: 0.9457 - loss: 0.2336 - val_accuracy: 0.7059 - val_loss: 0.9184\n",
            "Epoch 20/20\n",
            "\u001b[1m5/5\u001b[0m \u001b[32m━━━━━━━━━━━━━━━━━━━━\u001b[0m\u001b[37m\u001b[0m \u001b[1m0s\u001b[0m 6ms/step - accuracy: 0.9727 - loss: 0.1796 - val_accuracy: 0.6667 - val_loss: 0.9826\n"
          ]
        }
      ],
      "source": [
        "# Training\n",
        "\n",
        "history_2 = RNN_2.fit(\n",
        "    x_train_reshaped, y_train_encoded,\n",
        "    epochs=20, batch_size=64,\n",
        "    validation_data=(x_val_reshaped, y_val_encoded),\n",
        "    verbose=1\n",
        ")"
      ]
    },
    {
      "cell_type": "code",
      "execution_count": null,
      "metadata": {
        "execution": {
          "iopub.execute_input": "2025-03-27T20:46:18.215016Z",
          "iopub.status.busy": "2025-03-27T20:46:18.214719Z",
          "iopub.status.idle": "2025-03-27T20:46:19.610648Z",
          "shell.execute_reply": "2025-03-27T20:46:19.609905Z",
          "shell.execute_reply.started": "2025-03-27T20:46:18.214992Z"
        },
        "id": "x4YrIMZvvzBe",
        "outputId": "1969b7cf-dae2-4da7-cd8f-db99ec2646cd"
      },
      "outputs": [
        {
          "name": "stdout",
          "output_type": "stream",
          "text": [
            "\u001b[1m3/3\u001b[0m \u001b[32m━━━━━━━━━━━━━━━━━━━━\u001b[0m\u001b[37m\u001b[0m \u001b[1m1s\u001b[0m 342ms/step - accuracy: 0.7223 - loss: 0.8683\n",
            "Test Accuracy after Bi-Directional RNN: 70.24%\n"
          ]
        }
      ],
      "source": [
        "# Evaluate\n",
        "test_loss_best, test_acc_best = RNN_2.evaluate(x_test_reshaped, y_test_encoded)\n",
        "print(f\"Test Accuracy after Bi-Directional RNN: {test_acc_best*100:.2f}%\")"
      ]
    },
    {
      "cell_type": "code",
      "execution_count": null,
      "metadata": {
        "execution": {
          "iopub.execute_input": "2025-03-27T20:46:19.611696Z",
          "iopub.status.busy": "2025-03-27T20:46:19.611445Z",
          "iopub.status.idle": "2025-03-27T20:46:19.807916Z",
          "shell.execute_reply": "2025-03-27T20:46:19.806888Z",
          "shell.execute_reply.started": "2025-03-27T20:46:19.611664Z"
        },
        "id": "gP0FtSIavzBe",
        "outputId": "36e1cf3c-ceb7-42e5-d0e4-2bb57f8cff65"
      },
      "outputs": [
        {
          "data": {
            "image/png": "[encoded data removed]",
            "text/plain": [
              "<Figure size 640x480 with 1 Axes>"
            ]
          },
          "metadata": {},
          "output_type": "display_data"
        }
      ],
      "source": [
        "#  Plotting training vs. validation accracy over the RNN model's epochs:\n",
        "\n",
        "plt.plot(history_2.history['accuracy'], label='Training Accuracy')\n",
        "plt.plot(history_2.history['val_accuracy'], label='Validation Accuracy')\n",
        "plt.xlabel('Epochs')\n",
        "plt.ylabel('Accuracy')\n",
        "plt.legend()\n",
        "plt.title('Training vs Validation Accuracy')\n",
        "plt.show()\n"
      ]
    },
    {
      "cell_type": "markdown",
      "metadata": {
        "id": "_b8ptHYnvzBe"
      },
      "source": [
        "### Observations:\n",
        "* The RNN_2 model's accuracy decreased to 70% (a 3.8 percentage point drop) as compared to the base RNN model\n",
        "* Notable, not just the RNN_2 model's accuracy decreased, it is more prone to overfitting"
      ]
    },
    {
      "cell_type": "markdown",
      "metadata": {
        "id": "sWuxzd1SvzBf"
      },
      "source": [
        "### ______________________________________________________________________________________________"
      ]
    },
    {
      "cell_type": "markdown",
      "metadata": {
        "id": "R7dfo0SevzBf"
      },
      "source": [
        "## Step-2: Transformers - MiniLM\n",
        "\n",
        "-- Using `MiniLM` on the data"
      ]
    },
    {
      "cell_type": "code",
      "execution_count": null,
      "metadata": {
        "execution": {
          "iopub.execute_input": "2025-03-27T20:46:19.808960Z",
          "iopub.status.busy": "2025-03-27T20:46:19.808724Z",
          "iopub.status.idle": "2025-03-27T20:46:19.812622Z",
          "shell.execute_reply": "2025-03-27T20:46:19.811808Z",
          "shell.execute_reply.started": "2025-03-27T20:46:19.808931Z"
        },
        "id": "h4vjn2AKvzBf"
      },
      "outputs": [],
      "source": [
        "#  Using initially copied DF, `df1` to access the non-embedded and non-OHE variables, 'X' and 'y'\n",
        "\n",
        "X = df1['Description'] #-- 'Description' is already cleaned\n",
        "y = df1['Accident Level'] #Target"
      ]
    },
    {
      "cell_type": "code",
      "execution_count": null,
      "metadata": {
        "execution": {
          "iopub.execute_input": "2025-03-27T20:46:19.813709Z",
          "iopub.status.busy": "2025-03-27T20:46:19.813425Z",
          "iopub.status.idle": "2025-03-27T20:46:19.827282Z",
          "shell.execute_reply": "2025-03-27T20:46:19.826696Z",
          "shell.execute_reply.started": "2025-03-27T20:46:19.813680Z"
        },
        "id": "SRj3bRl-vzBf",
        "outputId": "b56e198f-ba33-4106-c8ac-9c2013ecfa60"
      },
      "outputs": [
        {
          "data": {
            "text/plain": [
              "'removing drill rod jumbo maintenance supervisor proceeds loosen support intermediate centralizer facilitate removal seeing mechanic supports one end drill equipment pull hands bar accelerate removal moment bar slides point support tightens fingers mechanic drilling bar beam jumbo'"
            ]
          },
          "execution_count": 70,
          "metadata": {},
          "output_type": "execute_result"
        }
      ],
      "source": [
        "X[0]"
      ]
    },
    {
      "cell_type": "code",
      "execution_count": null,
      "metadata": {
        "execution": {
          "iopub.execute_input": "2025-03-27T20:48:40.556109Z",
          "iopub.status.busy": "2025-03-27T20:48:40.555743Z",
          "iopub.status.idle": "2025-03-27T20:48:43.995526Z",
          "shell.execute_reply": "2025-03-27T20:48:43.994112Z",
          "shell.execute_reply.started": "2025-03-27T20:48:40.556087Z"
        },
        "colab": {
          "referenced_widgets": [
            "955df978782c4cac97305ba6befcbbb1",
            "2dd4c36b4eb249408df9448724976fbd",
            "e9b33195583649b6932aebb18ded81c5",
            "acf05440f0a84882a110026e7c04b1fa",
            "a634666d5e914ef4b581edf632c8ba5c"
          ]
        },
        "id": "Lbgm0UcsvzBf",
        "outputId": "469c7e41-fe07-44c1-f35a-a8046b162850"
      },
      "outputs": [
        {
          "data": {
            "application/vnd.jupyter.widget-view+json": {
              "model_id": "955df978782c4cac97305ba6befcbbb1",
              "version_major": 2,
              "version_minor": 0
            },
            "text/plain": [
              "tokenizer_config.json:   0%|          | 0.00/2.00 [00:00<?, ?B/s]"
            ]
          },
          "metadata": {},
          "output_type": "display_data"
        },
        {
          "data": {
            "application/vnd.jupyter.widget-view+json": {
              "model_id": "2dd4c36b4eb249408df9448724976fbd",
              "version_major": 2,
              "version_minor": 0
            },
            "text/plain": [
              "config.json:   0%|          | 0.00/385 [00:00<?, ?B/s]"
            ]
          },
          "metadata": {},
          "output_type": "display_data"
        },
        {
          "data": {
            "application/vnd.jupyter.widget-view+json": {
              "model_id": "e9b33195583649b6932aebb18ded81c5",
              "version_major": 2,
              "version_minor": 0
            },
            "text/plain": [
              "vocab.txt:   0%|          | 0.00/232k [00:00<?, ?B/s]"
            ]
          },
          "metadata": {},
          "output_type": "display_data"
        },
        {
          "data": {
            "application/vnd.jupyter.widget-view+json": {
              "model_id": "acf05440f0a84882a110026e7c04b1fa",
              "version_major": 2,
              "version_minor": 0
            },
            "text/plain": [
              "special_tokens_map.json:   0%|          | 0.00/112 [00:00<?, ?B/s]"
            ]
          },
          "metadata": {},
          "output_type": "display_data"
        },
        {
          "data": {
            "application/vnd.jupyter.widget-view+json": {
              "model_id": "a634666d5e914ef4b581edf632c8ba5c",
              "version_major": 2,
              "version_minor": 0
            },
            "text/plain": [
              "pytorch_model.bin:   0%|          | 0.00/133M [00:00<?, ?B/s]"
            ]
          },
          "metadata": {},
          "output_type": "display_data"
        }
      ],
      "source": [
        "# Importing necessary libraries\n",
        "\n",
        "from transformers import AutoTokenizer, AutoModel\n",
        "import torch\n",
        "from sklearn.ensemble import RandomForestClassifier\n",
        "from sklearn.preprocessing import LabelEncoder\n",
        "\n",
        "\n",
        "# Loading MiniLM tokenizer and model\n",
        "model_name = \"microsoft/MiniLM-L12-H384-uncased\"\n",
        "tokenizer = AutoTokenizer.from_pretrained(model_name)\n",
        "model = AutoModel.from_pretrained(model_name)\n"
      ]
    },
    {
      "cell_type": "code",
      "execution_count": null,
      "metadata": {
        "execution": {
          "iopub.execute_input": "2025-03-27T20:49:33.021051Z",
          "iopub.status.busy": "2025-03-27T20:49:33.020605Z",
          "iopub.status.idle": "2025-03-27T20:49:33.031261Z",
          "shell.execute_reply": "2025-03-27T20:49:33.030380Z",
          "shell.execute_reply.started": "2025-03-27T20:49:33.021015Z"
        },
        "id": "N1vkPk3jvzBg"
      },
      "outputs": [],
      "source": [
        "# Train-test split\n",
        "\n",
        "X_train, X_test, y_train, y_test = train_test_split(X, y, test_size=0.2, stratify=y, random_state=42)\n"
      ]
    },
    {
      "cell_type": "code",
      "execution_count": null,
      "metadata": {
        "execution": {
          "iopub.execute_input": "2025-03-27T20:51:24.124115Z",
          "iopub.status.busy": "2025-03-27T20:51:24.123757Z",
          "iopub.status.idle": "2025-03-27T20:51:24.128565Z",
          "shell.execute_reply": "2025-03-27T20:51:24.127841Z",
          "shell.execute_reply.started": "2025-03-27T20:51:24.124087Z"
        },
        "id": "cnQxCzW_vzBg"
      },
      "outputs": [],
      "source": [
        "# Converting \"X_train\" & \"X_test\" into MiniLM Embeddings\n",
        "\n",
        "# Using a UDF for conversion\n",
        "\n",
        "def get_embeddings(text_list):\n",
        "    # First, Tokenizing the input text\n",
        "    encodings = tokenizer(text_list, padding=True, truncation=True, return_tensors=\"pt\")\n",
        "\n",
        "    # Noe, extracting the embeddings from MiniLM model\n",
        "    with torch.no_grad():\n",
        "        outputs = model(**encodings)\n",
        "\n",
        "    # Lastly, extracting [CLS] token representation (used for sentence embedding)\n",
        "\n",
        "    embeddings = outputs.last_hidden_state[:, 0, :].numpy()\n",
        "\n",
        "    return embeddings"
      ]
    },
    {
      "cell_type": "code",
      "execution_count": null,
      "metadata": {
        "execution": {
          "iopub.execute_input": "2025-03-27T20:51:40.681229Z",
          "iopub.status.busy": "2025-03-27T20:51:40.680899Z",
          "iopub.status.idle": "2025-03-27T20:51:56.000169Z",
          "shell.execute_reply": "2025-03-27T20:51:55.999399Z",
          "shell.execute_reply.started": "2025-03-27T20:51:40.681202Z"
        },
        "id": "zJtiR4fNvzBg",
        "outputId": "babe9a12-593b-4601-d2b2-72111084227e"
      },
      "outputs": [
        {
          "name": "stderr",
          "output_type": "stream",
          "text": [
            "Asking to truncate to max_length but no maximum length is provided and the model has no predefined maximum length. Default to no truncation.\n"
          ]
        }
      ],
      "source": [
        "# Conversion to embeddings\n",
        "\n",
        "X_train_embeddings = get_embeddings(X_train.tolist())\n",
        "\n",
        "X_test_embeddings = get_embeddings(X_test.tolist())\n"
      ]
    },
    {
      "cell_type": "code",
      "execution_count": null,
      "metadata": {
        "execution": {
          "iopub.execute_input": "2025-03-27T20:52:42.631210Z",
          "iopub.status.busy": "2025-03-27T20:52:42.630883Z",
          "iopub.status.idle": "2025-03-27T20:52:43.122646Z",
          "shell.execute_reply": "2025-03-27T20:52:43.121908Z",
          "shell.execute_reply.started": "2025-03-27T20:52:42.631187Z"
        },
        "id": "-T-zGckPvzBg",
        "outputId": "1b6e3a0b-3a26-4e94-d592-69ce53669efb"
      },
      "outputs": [
        {
          "data": {
            "text/html": [
              "<style>#sk-container-id-1 {color: black;background-color: white;}#sk-container-id-1 pre{padding: 0;}#sk-container-id-1 div.sk-toggleable {background-color: white;}#sk-container-id-1 label.sk-toggleable__label {cursor: pointer;display: block;width: 100%;margin-bottom: 0;padding: 0.3em;box-sizing: border-box;text-align: center;}#sk-container-id-1 label.sk-toggleable__label-arrow:before {content: \"▸\";float: left;margin-right: 0.25em;color: #696969;}#sk-container-id-1 label.sk-toggleable__label-arrow:hover:before {color: black;}#sk-container-id-1 div.sk-estimator:hover label.sk-toggleable__label-arrow:before {color: black;}#sk-container-id-1 div.sk-toggleable__content {max-height: 0;max-width: 0;overflow: hidden;text-align: left;background-color: #f0f8ff;}#sk-container-id-1 div.sk-toggleable__content pre {margin: 0.2em;color: black;border-radius: 0.25em;background-color: #f0f8ff;}#sk-container-id-1 input.sk-toggleable__control:checked~div.sk-toggleable__content {max-height: 200px;max-width: 100%;overflow: auto;}#sk-container-id-1 input.sk-toggleable__control:checked~label.sk-toggleable__label-arrow:before {content: \"▾\";}#sk-container-id-1 div.sk-estimator input.sk-toggleable__control:checked~label.sk-toggleable__label {background-color: #d4ebff;}#sk-container-id-1 div.sk-label input.sk-toggleable__control:checked~label.sk-toggleable__label {background-color: #d4ebff;}#sk-container-id-1 input.sk-hidden--visually {border: 0;clip: rect(1px 1px 1px 1px);clip: rect(1px, 1px, 1px, 1px);height: 1px;margin: -1px;overflow: hidden;padding: 0;position: absolute;width: 1px;}#sk-container-id-1 div.sk-estimator {font-family: monospace;background-color: #f0f8ff;border: 1px dotted black;border-radius: 0.25em;box-sizing: border-box;margin-bottom: 0.5em;}#sk-container-id-1 div.sk-estimator:hover {background-color: #d4ebff;}#sk-container-id-1 div.sk-parallel-item::after {content: \"\";width: 100%;border-bottom: 1px solid gray;flex-grow: 1;}#sk-container-id-1 div.sk-label:hover label.sk-toggleable__label {background-color: #d4ebff;}#sk-container-id-1 div.sk-serial::before {content: \"\";position: absolute;border-left: 1px solid gray;box-sizing: border-box;top: 0;bottom: 0;left: 50%;z-index: 0;}#sk-container-id-1 div.sk-serial {display: flex;flex-direction: column;align-items: center;background-color: white;padding-right: 0.2em;padding-left: 0.2em;position: relative;}#sk-container-id-1 div.sk-item {position: relative;z-index: 1;}#sk-container-id-1 div.sk-parallel {display: flex;align-items: stretch;justify-content: center;background-color: white;position: relative;}#sk-container-id-1 div.sk-item::before, #sk-container-id-1 div.sk-parallel-item::before {content: \"\";position: absolute;border-left: 1px solid gray;box-sizing: border-box;top: 0;bottom: 0;left: 50%;z-index: -1;}#sk-container-id-1 div.sk-parallel-item {display: flex;flex-direction: column;z-index: 1;position: relative;background-color: white;}#sk-container-id-1 div.sk-parallel-item:first-child::after {align-self: flex-end;width: 50%;}#sk-container-id-1 div.sk-parallel-item:last-child::after {align-self: flex-start;width: 50%;}#sk-container-id-1 div.sk-parallel-item:only-child::after {width: 0;}#sk-container-id-1 div.sk-dashed-wrapped {border: 1px dashed gray;margin: 0 0.4em 0.5em 0.4em;box-sizing: border-box;padding-bottom: 0.4em;background-color: white;}#sk-container-id-1 div.sk-label label {font-family: monospace;font-weight: bold;display: inline-block;line-height: 1.2em;}#sk-container-id-1 div.sk-label-container {text-align: center;}#sk-container-id-1 div.sk-container {/* jupyter's `normalize.less` sets `[hidden] { display: none; }` but bootstrap.min.css set `[hidden] { display: none !important; }` so we also need the `!important` here to be able to override the default hidden behavior on the sphinx rendered scikit-learn.org. See: https://github.com/scikit-learn/scikit-learn/issues/21755 */display: inline-block !important;position: relative;}#sk-container-id-1 div.sk-text-repr-fallback {display: none;}</style><div id=\"sk-container-id-1\" class=\"sk-top-container\"><div class=\"sk-text-repr-fallback\"><pre>RandomForestClassifier(random_state=79)</pre><b>In a Jupyter environment, please rerun this cell to show the HTML representation or trust the notebook. <br />On GitHub, the HTML representation is unable to render, please try loading this page with nbviewer.org.</b></div><div class=\"sk-container\" hidden><div class=\"sk-item\"><div class=\"sk-estimator sk-toggleable\"><input class=\"sk-toggleable__control sk-hidden--visually\" id=\"sk-estimator-id-1\" type=\"checkbox\" checked><label for=\"sk-estimator-id-1\" class=\"sk-toggleable__label sk-toggleable__label-arrow\">RandomForestClassifier</label><div class=\"sk-toggleable__content\"><pre>RandomForestClassifier(random_state=79)</pre></div></div></div></div></div>"
            ],
            "text/plain": [
              "RandomForestClassifier(random_state=79)"
            ]
          },
          "execution_count": 75,
          "metadata": {},
          "output_type": "execute_result"
        }
      ],
      "source": [
        "# Training a RandomForest Classifier on the MiniLM Embeddings:\n",
        "\n",
        "\n",
        "clf = RandomForestClassifier(n_estimators=100, random_state=79)\n",
        "\n",
        "clf.fit(X_train_embeddings, y_train)"
      ]
    },
    {
      "cell_type": "code",
      "execution_count": null,
      "metadata": {
        "execution": {
          "iopub.execute_input": "2025-03-27T20:53:11.479405Z",
          "iopub.status.busy": "2025-03-27T20:53:11.479013Z",
          "iopub.status.idle": "2025-03-27T20:53:11.492128Z",
          "shell.execute_reply": "2025-03-27T20:53:11.491448Z",
          "shell.execute_reply.started": "2025-03-27T20:53:11.479372Z"
        },
        "id": "9OF7VbDsvzBg",
        "outputId": "ef221ab9-227c-42f5-91f7-456d16257aa4"
      },
      "outputs": [
        {
          "name": "stdout",
          "output_type": "stream",
          "text": [
            "Model Accuracy: 73.81%\n"
          ]
        }
      ],
      "source": [
        "# Evaluation\n",
        "\n",
        "accuracy = clf.score(X_test_embeddings, y_test)\n",
        "print(f\"Model Accuracy: {accuracy*100:.2f}%\")"
      ]
    },
    {
      "cell_type": "code",
      "execution_count": null,
      "metadata": {
        "execution": {
          "iopub.execute_input": "2025-03-27T20:55:42.473959Z",
          "iopub.status.busy": "2025-03-27T20:55:42.473577Z",
          "iopub.status.idle": "2025-03-27T20:55:42.485805Z",
          "shell.execute_reply": "2025-03-27T20:55:42.484708Z",
          "shell.execute_reply.started": "2025-03-27T20:55:42.473930Z"
        },
        "id": "8L7sm2HFvzBh"
      },
      "outputs": [],
      "source": [
        "# Predictions for RF basis MiniLM data\n",
        "\n",
        "y_pred = clf.predict(X_test_embeddings)"
      ]
    },
    {
      "cell_type": "code",
      "execution_count": null,
      "metadata": {
        "execution": {
          "iopub.execute_input": "2025-03-27T20:55:52.176087Z",
          "iopub.status.busy": "2025-03-27T20:55:52.175791Z",
          "iopub.status.idle": "2025-03-27T20:55:52.190910Z",
          "shell.execute_reply": "2025-03-27T20:55:52.190093Z",
          "shell.execute_reply.started": "2025-03-27T20:55:52.176067Z"
        },
        "id": "QTIGfqhhvzBh",
        "outputId": "3607f974-87be-422b-86f2-0d690d61dbd2"
      },
      "outputs": [
        {
          "name": "stdout",
          "output_type": "stream",
          "text": [
            "Classification Report:\n",
            "               precision    recall  f1-score   support\n",
            "\n",
            "           0       0.75      1.00      0.86        62\n",
            "           1       0.00      0.00      0.00         8\n",
            "           2       0.00      0.00      0.00         6\n",
            "           3       0.00      0.00      0.00         6\n",
            "           4       0.00      0.00      0.00         2\n",
            "\n",
            "    accuracy                           0.74        84\n",
            "   macro avg       0.15      0.20      0.17        84\n",
            "weighted avg       0.55      0.74      0.63        84\n",
            "\n"
          ]
        }
      ],
      "source": [
        "# Classification Report\n",
        "print(\"Classification Report:\\n\", classification_report(y_test, y_pred))"
      ]
    },
    {
      "cell_type": "code",
      "execution_count": null,
      "metadata": {
        "execution": {
          "iopub.execute_input": "2025-03-27T20:56:00.784174Z",
          "iopub.status.busy": "2025-03-27T20:56:00.783878Z",
          "iopub.status.idle": "2025-03-27T20:56:00.792240Z",
          "shell.execute_reply": "2025-03-27T20:56:00.791373Z",
          "shell.execute_reply.started": "2025-03-27T20:56:00.784154Z"
        },
        "id": "bMb_D3vivzBh",
        "outputId": "bafb002e-0f51-42c1-b62e-fa5ccdf0e2d4"
      },
      "outputs": [
        {
          "name": "stdout",
          "output_type": "stream",
          "text": [
            "Confusion Matrix:\n",
            " [[62  0  0  0  0]\n",
            " [ 8  0  0  0  0]\n",
            " [ 6  0  0  0  0]\n",
            " [ 5  1  0  0  0]\n",
            " [ 2  0  0  0  0]]\n"
          ]
        }
      ],
      "source": [
        "# Confusion Matrix\n",
        "print(\"Confusion Matrix:\\n\", confusion_matrix(y_test, y_pred))"
      ]
    },
    {
      "cell_type": "code",
      "execution_count": null,
      "metadata": {
        "execution": {
          "iopub.execute_input": "2025-03-27T20:57:25.349933Z",
          "iopub.status.busy": "2025-03-27T20:57:25.349575Z",
          "iopub.status.idle": "2025-03-27T20:57:25.354901Z",
          "shell.execute_reply": "2025-03-27T20:57:25.354092Z",
          "shell.execute_reply.started": "2025-03-27T20:57:25.349911Z"
        },
        "id": "6HpZ0c1cvzBh"
      },
      "outputs": [],
      "source": [
        "'''\n",
        "Hyperparameter Tuning of Random Forest Classifier\n",
        "- using GridSearchCV() for best results\n",
        "'''\n",
        "\n",
        "from sklearn.model_selection import GridSearchCV\n",
        "\n",
        "# Hyperparameter grid\n",
        "\n",
        "param_grid = {\n",
        "    'n_estimators': [50, 100, 200],\n",
        "    'max_depth': [None, 10, 20, 30],\n",
        "    'min_samples_split': [2, 5, 10],\n",
        "    'min_samples_leaf': [1, 2, 4]\n",
        "}\n",
        "\n",
        "# GridSearch\n",
        "grid_search = GridSearchCV(clf, param_grid, cv=5, n_jobs=-1, verbose=2)"
      ]
    },
    {
      "cell_type": "code",
      "execution_count": null,
      "metadata": {
        "execution": {
          "iopub.execute_input": "2025-03-27T20:57:32.458866Z",
          "iopub.status.busy": "2025-03-27T20:57:32.458536Z",
          "iopub.status.idle": "2025-03-27T20:58:59.046251Z",
          "shell.execute_reply": "2025-03-27T20:58:59.045394Z",
          "shell.execute_reply.started": "2025-03-27T20:57:32.458839Z"
        },
        "id": "-EJQI3QEvzBh",
        "outputId": "b8feefb0-caa4-405b-fe2e-f2e30d1538b7"
      },
      "outputs": [
        {
          "name": "stdout",
          "output_type": "stream",
          "text": [
            "Fitting 5 folds for each of 108 candidates, totalling 540 fits\n"
          ]
        },
        {
          "data": {
            "text/html": [
              "<style>#sk-container-id-2 {color: black;background-color: white;}#sk-container-id-2 pre{padding: 0;}#sk-container-id-2 div.sk-toggleable {background-color: white;}#sk-container-id-2 label.sk-toggleable__label {cursor: pointer;display: block;width: 100%;margin-bottom: 0;padding: 0.3em;box-sizing: border-box;text-align: center;}#sk-container-id-2 label.sk-toggleable__label-arrow:before {content: \"▸\";float: left;margin-right: 0.25em;color: #696969;}#sk-container-id-2 label.sk-toggleable__label-arrow:hover:before {color: black;}#sk-container-id-2 div.sk-estimator:hover label.sk-toggleable__label-arrow:before {color: black;}#sk-container-id-2 div.sk-toggleable__content {max-height: 0;max-width: 0;overflow: hidden;text-align: left;background-color: #f0f8ff;}#sk-container-id-2 div.sk-toggleable__content pre {margin: 0.2em;color: black;border-radius: 0.25em;background-color: #f0f8ff;}#sk-container-id-2 input.sk-toggleable__control:checked~div.sk-toggleable__content {max-height: 200px;max-width: 100%;overflow: auto;}#sk-container-id-2 input.sk-toggleable__control:checked~label.sk-toggleable__label-arrow:before {content: \"▾\";}#sk-container-id-2 div.sk-estimator input.sk-toggleable__control:checked~label.sk-toggleable__label {background-color: #d4ebff;}#sk-container-id-2 div.sk-label input.sk-toggleable__control:checked~label.sk-toggleable__label {background-color: #d4ebff;}#sk-container-id-2 input.sk-hidden--visually {border: 0;clip: rect(1px 1px 1px 1px);clip: rect(1px, 1px, 1px, 1px);height: 1px;margin: -1px;overflow: hidden;padding: 0;position: absolute;width: 1px;}#sk-container-id-2 div.sk-estimator {font-family: monospace;background-color: #f0f8ff;border: 1px dotted black;border-radius: 0.25em;box-sizing: border-box;margin-bottom: 0.5em;}#sk-container-id-2 div.sk-estimator:hover {background-color: #d4ebff;}#sk-container-id-2 div.sk-parallel-item::after {content: \"\";width: 100%;border-bottom: 1px solid gray;flex-grow: 1;}#sk-container-id-2 div.sk-label:hover label.sk-toggleable__label {background-color: #d4ebff;}#sk-container-id-2 div.sk-serial::before {content: \"\";position: absolute;border-left: 1px solid gray;box-sizing: border-box;top: 0;bottom: 0;left: 50%;z-index: 0;}#sk-container-id-2 div.sk-serial {display: flex;flex-direction: column;align-items: center;background-color: white;padding-right: 0.2em;padding-left: 0.2em;position: relative;}#sk-container-id-2 div.sk-item {position: relative;z-index: 1;}#sk-container-id-2 div.sk-parallel {display: flex;align-items: stretch;justify-content: center;background-color: white;position: relative;}#sk-container-id-2 div.sk-item::before, #sk-container-id-2 div.sk-parallel-item::before {content: \"\";position: absolute;border-left: 1px solid gray;box-sizing: border-box;top: 0;bottom: 0;left: 50%;z-index: -1;}#sk-container-id-2 div.sk-parallel-item {display: flex;flex-direction: column;z-index: 1;position: relative;background-color: white;}#sk-container-id-2 div.sk-parallel-item:first-child::after {align-self: flex-end;width: 50%;}#sk-container-id-2 div.sk-parallel-item:last-child::after {align-self: flex-start;width: 50%;}#sk-container-id-2 div.sk-parallel-item:only-child::after {width: 0;}#sk-container-id-2 div.sk-dashed-wrapped {border: 1px dashed gray;margin: 0 0.4em 0.5em 0.4em;box-sizing: border-box;padding-bottom: 0.4em;background-color: white;}#sk-container-id-2 div.sk-label label {font-family: monospace;font-weight: bold;display: inline-block;line-height: 1.2em;}#sk-container-id-2 div.sk-label-container {text-align: center;}#sk-container-id-2 div.sk-container {/* jupyter's `normalize.less` sets `[hidden] { display: none; }` but bootstrap.min.css set `[hidden] { display: none !important; }` so we also need the `!important` here to be able to override the default hidden behavior on the sphinx rendered scikit-learn.org. See: https://github.com/scikit-learn/scikit-learn/issues/21755 */display: inline-block !important;position: relative;}#sk-container-id-2 div.sk-text-repr-fallback {display: none;}</style><div id=\"sk-container-id-2\" class=\"sk-top-container\"><div class=\"sk-text-repr-fallback\"><pre>GridSearchCV(cv=5, estimator=RandomForestClassifier(random_state=79), n_jobs=-1,\n",
              "             param_grid={&#x27;max_depth&#x27;: [None, 10, 20, 30],\n",
              "                         &#x27;min_samples_leaf&#x27;: [1, 2, 4],\n",
              "                         &#x27;min_samples_split&#x27;: [2, 5, 10],\n",
              "                         &#x27;n_estimators&#x27;: [50, 100, 200]},\n",
              "             verbose=2)</pre><b>In a Jupyter environment, please rerun this cell to show the HTML representation or trust the notebook. <br />On GitHub, the HTML representation is unable to render, please try loading this page with nbviewer.org.</b></div><div class=\"sk-container\" hidden><div class=\"sk-item sk-dashed-wrapped\"><div class=\"sk-label-container\"><div class=\"sk-label sk-toggleable\"><input class=\"sk-toggleable__control sk-hidden--visually\" id=\"sk-estimator-id-2\" type=\"checkbox\" ><label for=\"sk-estimator-id-2\" class=\"sk-toggleable__label sk-toggleable__label-arrow\">GridSearchCV</label><div class=\"sk-toggleable__content\"><pre>GridSearchCV(cv=5, estimator=RandomForestClassifier(random_state=79), n_jobs=-1,\n",
              "             param_grid={&#x27;max_depth&#x27;: [None, 10, 20, 30],\n",
              "                         &#x27;min_samples_leaf&#x27;: [1, 2, 4],\n",
              "                         &#x27;min_samples_split&#x27;: [2, 5, 10],\n",
              "                         &#x27;n_estimators&#x27;: [50, 100, 200]},\n",
              "             verbose=2)</pre></div></div></div><div class=\"sk-parallel\"><div class=\"sk-parallel-item\"><div class=\"sk-item\"><div class=\"sk-label-container\"><div class=\"sk-label sk-toggleable\"><input class=\"sk-toggleable__control sk-hidden--visually\" id=\"sk-estimator-id-3\" type=\"checkbox\" ><label for=\"sk-estimator-id-3\" class=\"sk-toggleable__label sk-toggleable__label-arrow\">estimator: RandomForestClassifier</label><div class=\"sk-toggleable__content\"><pre>RandomForestClassifier(random_state=79)</pre></div></div></div><div class=\"sk-serial\"><div class=\"sk-item\"><div class=\"sk-estimator sk-toggleable\"><input class=\"sk-toggleable__control sk-hidden--visually\" id=\"sk-estimator-id-4\" type=\"checkbox\" ><label for=\"sk-estimator-id-4\" class=\"sk-toggleable__label sk-toggleable__label-arrow\">RandomForestClassifier</label><div class=\"sk-toggleable__content\"><pre>RandomForestClassifier(random_state=79)</pre></div></div></div></div></div></div></div></div></div></div>"
            ],
            "text/plain": [
              "GridSearchCV(cv=5, estimator=RandomForestClassifier(random_state=79), n_jobs=-1,\n",
              "             param_grid={'max_depth': [None, 10, 20, 30],\n",
              "                         'min_samples_leaf': [1, 2, 4],\n",
              "                         'min_samples_split': [2, 5, 10],\n",
              "                         'n_estimators': [50, 100, 200]},\n",
              "             verbose=2)"
            ]
          },
          "execution_count": 82,
          "metadata": {},
          "output_type": "execute_result"
        }
      ],
      "source": [
        "grid_search.fit(X_train_embeddings, y_train)"
      ]
    },
    {
      "cell_type": "code",
      "execution_count": null,
      "metadata": {
        "execution": {
          "iopub.execute_input": "2025-03-27T21:01:17.488353Z",
          "iopub.status.busy": "2025-03-27T21:01:17.487864Z",
          "iopub.status.idle": "2025-03-27T21:01:17.493836Z",
          "shell.execute_reply": "2025-03-27T21:01:17.493129Z",
          "shell.execute_reply.started": "2025-03-27T21:01:17.488310Z"
        },
        "id": "5liAUVb5vzBh",
        "outputId": "1d9f84d5-db71-4278-d330-ec1e96134ef8"
      },
      "outputs": [
        {
          "name": "stdout",
          "output_type": "stream",
          "text": [
            "Best Parameters: {'max_depth': None, 'min_samples_leaf': 2, 'min_samples_split': 10, 'n_estimators': 50}\n"
          ]
        }
      ],
      "source": [
        "# Best parameters\n",
        "print(\"Best Parameters:\", grid_search.best_params_)"
      ]
    },
    {
      "cell_type": "code",
      "execution_count": null,
      "metadata": {
        "execution": {
          "iopub.execute_input": "2025-03-27T21:01:38.075850Z",
          "iopub.status.busy": "2025-03-27T21:01:38.075413Z",
          "iopub.status.idle": "2025-03-27T21:01:38.079913Z",
          "shell.execute_reply": "2025-03-27T21:01:38.079016Z",
          "shell.execute_reply.started": "2025-03-27T21:01:38.075812Z"
        },
        "id": "MTS4aBRZvzBi"
      },
      "outputs": [],
      "source": [
        "# Using the best model for predictions\n",
        "\n",
        "best_clf = grid_search.best_estimator_"
      ]
    },
    {
      "cell_type": "code",
      "execution_count": null,
      "metadata": {
        "execution": {
          "iopub.execute_input": "2025-03-27T21:02:05.002150Z",
          "iopub.status.busy": "2025-03-27T21:02:05.001836Z",
          "iopub.status.idle": "2025-03-27T21:02:05.221138Z",
          "shell.execute_reply": "2025-03-27T21:02:05.220369Z",
          "shell.execute_reply.started": "2025-03-27T21:02:05.002126Z"
        },
        "id": "D-xyHoCJvzBi",
        "outputId": "145edca4-9d10-4407-a80f-2fc2e10eba9a"
      },
      "outputs": [
        {
          "data": {
            "text/html": [
              "<style>#sk-container-id-3 {color: black;background-color: white;}#sk-container-id-3 pre{padding: 0;}#sk-container-id-3 div.sk-toggleable {background-color: white;}#sk-container-id-3 label.sk-toggleable__label {cursor: pointer;display: block;width: 100%;margin-bottom: 0;padding: 0.3em;box-sizing: border-box;text-align: center;}#sk-container-id-3 label.sk-toggleable__label-arrow:before {content: \"▸\";float: left;margin-right: 0.25em;color: #696969;}#sk-container-id-3 label.sk-toggleable__label-arrow:hover:before {color: black;}#sk-container-id-3 div.sk-estimator:hover label.sk-toggleable__label-arrow:before {color: black;}#sk-container-id-3 div.sk-toggleable__content {max-height: 0;max-width: 0;overflow: hidden;text-align: left;background-color: #f0f8ff;}#sk-container-id-3 div.sk-toggleable__content pre {margin: 0.2em;color: black;border-radius: 0.25em;background-color: #f0f8ff;}#sk-container-id-3 input.sk-toggleable__control:checked~div.sk-toggleable__content {max-height: 200px;max-width: 100%;overflow: auto;}#sk-container-id-3 input.sk-toggleable__control:checked~label.sk-toggleable__label-arrow:before {content: \"▾\";}#sk-container-id-3 div.sk-estimator input.sk-toggleable__control:checked~label.sk-toggleable__label {background-color: #d4ebff;}#sk-container-id-3 div.sk-label input.sk-toggleable__control:checked~label.sk-toggleable__label {background-color: #d4ebff;}#sk-container-id-3 input.sk-hidden--visually {border: 0;clip: rect(1px 1px 1px 1px);clip: rect(1px, 1px, 1px, 1px);height: 1px;margin: -1px;overflow: hidden;padding: 0;position: absolute;width: 1px;}#sk-container-id-3 div.sk-estimator {font-family: monospace;background-color: #f0f8ff;border: 1px dotted black;border-radius: 0.25em;box-sizing: border-box;margin-bottom: 0.5em;}#sk-container-id-3 div.sk-estimator:hover {background-color: #d4ebff;}#sk-container-id-3 div.sk-parallel-item::after {content: \"\";width: 100%;border-bottom: 1px solid gray;flex-grow: 1;}#sk-container-id-3 div.sk-label:hover label.sk-toggleable__label {background-color: #d4ebff;}#sk-container-id-3 div.sk-serial::before {content: \"\";position: absolute;border-left: 1px solid gray;box-sizing: border-box;top: 0;bottom: 0;left: 50%;z-index: 0;}#sk-container-id-3 div.sk-serial {display: flex;flex-direction: column;align-items: center;background-color: white;padding-right: 0.2em;padding-left: 0.2em;position: relative;}#sk-container-id-3 div.sk-item {position: relative;z-index: 1;}#sk-container-id-3 div.sk-parallel {display: flex;align-items: stretch;justify-content: center;background-color: white;position: relative;}#sk-container-id-3 div.sk-item::before, #sk-container-id-3 div.sk-parallel-item::before {content: \"\";position: absolute;border-left: 1px solid gray;box-sizing: border-box;top: 0;bottom: 0;left: 50%;z-index: -1;}#sk-container-id-3 div.sk-parallel-item {display: flex;flex-direction: column;z-index: 1;position: relative;background-color: white;}#sk-container-id-3 div.sk-parallel-item:first-child::after {align-self: flex-end;width: 50%;}#sk-container-id-3 div.sk-parallel-item:last-child::after {align-self: flex-start;width: 50%;}#sk-container-id-3 div.sk-parallel-item:only-child::after {width: 0;}#sk-container-id-3 div.sk-dashed-wrapped {border: 1px dashed gray;margin: 0 0.4em 0.5em 0.4em;box-sizing: border-box;padding-bottom: 0.4em;background-color: white;}#sk-container-id-3 div.sk-label label {font-family: monospace;font-weight: bold;display: inline-block;line-height: 1.2em;}#sk-container-id-3 div.sk-label-container {text-align: center;}#sk-container-id-3 div.sk-container {/* jupyter's `normalize.less` sets `[hidden] { display: none; }` but bootstrap.min.css set `[hidden] { display: none !important; }` so we also need the `!important` here to be able to override the default hidden behavior on the sphinx rendered scikit-learn.org. See: https://github.com/scikit-learn/scikit-learn/issues/21755 */display: inline-block !important;position: relative;}#sk-container-id-3 div.sk-text-repr-fallback {display: none;}</style><div id=\"sk-container-id-3\" class=\"sk-top-container\"><div class=\"sk-text-repr-fallback\"><pre>RandomForestClassifier(min_samples_leaf=2, min_samples_split=10,\n",
              "                       n_estimators=50, random_state=79)</pre><b>In a Jupyter environment, please rerun this cell to show the HTML representation or trust the notebook. <br />On GitHub, the HTML representation is unable to render, please try loading this page with nbviewer.org.</b></div><div class=\"sk-container\" hidden><div class=\"sk-item\"><div class=\"sk-estimator sk-toggleable\"><input class=\"sk-toggleable__control sk-hidden--visually\" id=\"sk-estimator-id-5\" type=\"checkbox\" checked><label for=\"sk-estimator-id-5\" class=\"sk-toggleable__label sk-toggleable__label-arrow\">RandomForestClassifier</label><div class=\"sk-toggleable__content\"><pre>RandomForestClassifier(min_samples_leaf=2, min_samples_split=10,\n",
              "                       n_estimators=50, random_state=79)</pre></div></div></div></div></div>"
            ],
            "text/plain": [
              "RandomForestClassifier(min_samples_leaf=2, min_samples_split=10,\n",
              "                       n_estimators=50, random_state=79)"
            ]
          },
          "execution_count": 85,
          "metadata": {},
          "output_type": "execute_result"
        }
      ],
      "source": [
        "best_clf.fit(X_train_embeddings, y_train)"
      ]
    },
    {
      "cell_type": "code",
      "execution_count": null,
      "metadata": {
        "execution": {
          "iopub.execute_input": "2025-03-27T21:02:23.561633Z",
          "iopub.status.busy": "2025-03-27T21:02:23.561324Z",
          "iopub.status.idle": "2025-03-27T21:02:23.572848Z",
          "shell.execute_reply": "2025-03-27T21:02:23.572020Z",
          "shell.execute_reply.started": "2025-03-27T21:02:23.561610Z"
        },
        "id": "1qkETxMkvzBi",
        "outputId": "21ad971b-8611-45e6-c95f-2d28839bb6ce"
      },
      "outputs": [
        {
          "name": "stdout",
          "output_type": "stream",
          "text": [
            "Model Accuracy: 73.81%\n"
          ]
        }
      ],
      "source": [
        "# Evaluation\n",
        "\n",
        "accuracy = best_clf.score(X_test_embeddings, y_test)\n",
        "print(f\"Model Accuracy: {accuracy*100:.2f}%\")"
      ]
    },
    {
      "cell_type": "markdown",
      "metadata": {
        "id": "_hRy0k8hvzBi"
      },
      "source": [
        "### Notes:\n",
        "\n",
        "#### Context:  \n",
        "1. Used MiniLm to create word embeddings for X and then using RandomForest, tried to predict y.\n",
        "\n",
        "#### Observations from MiniLM\n",
        "1. The acccuracy of the RF model using MiniLM embeddings is equivalent to an RNN Model trained using TF-IDs.\n",
        "2. Multiple models have been tested with different embeddings, and hyper-tuning methods but it is observed that `73.81%` is the highest accuracy we can achieve using the provided data."
      ]
    }
  ],
  "metadata": {
    "accelerator": "GPU",
    "colab": {
      "collapsed_sections": [
        "nXldo0l4b5Xe"
      ],
      "gpuType": "T4",
      "machine_shape": "hm",
      "provenance": []
    },
    "kaggle": {
      "accelerator": "none",
      "dataSources": [
        {
          "datasetId": 6724748,
          "sourceId": 10829955,
          "sourceType": "datasetVersion"
        }
      ],
      "dockerImageVersionId": 30918,
      "isGpuEnabled": false,
      "isInternetEnabled": true,
      "language": "python",
      "sourceType": "notebook"
    },
    "kernelspec": {
      "display_name": "Python 3",
      "language": "python",
      "name": "python3"
    },
    "language_info": {
      "codemirror_mode": {
        "name": "ipython",
        "version": 3
      },
      "file_extension": ".py",
      "mimetype": "text/x-python",
      "name": "python",
      "nbconvert_exporter": "python",
      "pygments_lexer": "ipython3",
      "version": "3.10.12"
    }
  },
  "nbformat": 4,
  "nbformat_minor": 0
}